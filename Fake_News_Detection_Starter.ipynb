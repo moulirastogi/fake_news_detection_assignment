{
  "cells": [
    {
      "cell_type": "markdown",
      "metadata": {
        "id": "rhR-ZUkwJrFn"
      },
      "source": [
        "# Fake News Detection\n",
        "\n",
        "\n"
      ]
    },
    {
      "cell_type": "markdown",
      "metadata": {
        "id": "hXeHUV5fJGiZ"
      },
      "source": [
        "## Objective\n"
      ]
    },
    {
      "cell_type": "markdown",
      "metadata": {
        "id": "kX73YZdgJIgF"
      },
      "source": [
        "The objective of this assignment is to develop a Semantic Classification model. You will be using Word2Vec method to extract the semantic relations from the text and develop a basic understanding of how to train supervised models to categorise text based on its meaning, rather than just syntax. You will explore how this technique is used in situations where understanding textual meaning plays a critical role in making accurate and efficient decisions.\n"
      ]
    },
    {
      "cell_type": "markdown",
      "metadata": {
        "id": "Gg_J6K8Xxfk2"
      },
      "source": [
        "## Business Objective\n",
        "\n",
        "The spread of fake news has become a significant challenge in today’s digital world. With the massive volume of news articles published daily, it’s becoming harder to distinguish between credible and misleading information. This creates a need for systems that can automatically classify news articles as true or fake, helping to reduce misinformation and protect public trust.\n",
        "\n",
        "\n",
        "In this assignment, you will develop a Semantic Classification model that uses the Word2Vec method to detect recurring patterns and themes in news articles. Using supervised learning models, the goal is to build a system that classifies news articles as either fake or true.\n"
      ]
    },
    {
      "cell_type": "markdown",
      "metadata": {
        "id": "ySqxOckxI4-F"
      },
      "source": [
        "<h2> Pipelines that needs to be performed </h2>\n",
        "\n",
        "You need to perform the following tasks to complete the assignment:\n",
        "\n",
        "<ol type=\"1\">\n",
        "\n",
        "  <li> Data Preparation\n",
        "  <li> Text Preprocessing\n",
        "  <li> Train Validation Split\n",
        "  <li> EDA on Training Data\n",
        "  <li> EDA on Validation Data [Optional]\n",
        "  <li> Feature Extraction\n",
        "  <li> Model Training and Evaluation\n",
        "\n",
        "</ol>"
      ]
    },
    {
      "cell_type": "markdown",
      "metadata": {
        "id": "gTxV-3GJUhWm"
      },
      "source": [
        "---"
      ]
    },
    {
      "cell_type": "markdown",
      "metadata": {
        "id": "ofebI8ITG-Li"
      },
      "source": [
        "**NOTE:** The marks given along with headings and sub-headings are cumulative marks for those particular headings/sub-headings.<br>\n",
        "\n",
        "The actual marks for each task are specified within the tasks themselves.\n",
        "\n",
        "For example, marks given with heading *2* or sub-heading *2.1* are the cumulative marks, for your reference only. <br>\n",
        "\n",
        "The marks you will receive for completing tasks are given with the tasks.\n",
        "\n",
        "Suppose the marks for two tasks are: 3 marks for 2.1.1 and 2 marks for 3.2.2, or\n",
        "* 2.1.1 [3 marks]\n",
        "* 3.2.2 [2 marks]\n",
        "\n",
        "then, you will earn 3 marks for completing task 2.1.1 and 2 marks for completing task 3.2.2.\n"
      ]
    },
    {
      "cell_type": "markdown",
      "metadata": {
        "id": "YdQjht7dUiHt"
      },
      "source": [
        "---"
      ]
    },
    {
      "cell_type": "markdown",
      "metadata": {
        "id": "8b1lNTpKF54T"
      },
      "source": [
        "## Data Dictionary\n"
      ]
    },
    {
      "cell_type": "markdown",
      "metadata": {
        "id": "43j_A_GsI9TS"
      },
      "source": [
        "For this assignment, you will work with two datasets, `True.csv` and `Fake.csv`.\n",
        "Both datasets contain three columns:\n",
        "<ul>\n",
        "  <li> title of the news article\n",
        "  <li> text of the news article\n",
        "  <li> date of article publication\n",
        "</ul>\n",
        "\n",
        "`True.csv` dataset includes 21,417 true news, while the `Fake.csv` dataset comprises 23,502 fake news."
      ]
    },
    {
      "cell_type": "markdown",
      "metadata": {
        "id": "_oTQwQ_Rh4nT"
      },
      "source": [
        "## Installing required Libraries"
      ]
    },
    {
      "cell_type": "code",
      "execution_count": 1,
      "metadata": {
        "id": "lIY57QOLiCA2",
        "scrolled": true
      },
      "outputs": [],
      "source": [
        "#!pip install --upgrade numpy==1.26.4\n",
        "#!pip install --upgrade pandas==2.2.2\n",
        "#pip install --upgrade nltk==3.9.1\n",
        "#!pip install --upgrade spacy==3.7.5\n",
        "#!pip install --upgrade scipy==1.12\n",
        "#!pip install --upgrade pydantic==2.10.5\n",
        "#!pip install wordcloud==1.9.4\n",
        "#!python -m spacy download en_core_web_sm"
      ]
    },
    {
      "cell_type": "markdown",
      "metadata": {
        "id": "JuLFIymAL58u"
      },
      "source": [
        "## Importing the necessary libraries"
      ]
    },
    {
      "cell_type": "code",
      "execution_count": 2,
      "metadata": {
        "id": "O-Q9pqrcJrFr"
      },
      "outputs": [],
      "source": [
        "# Import essential libraries for data manipulation and analysis\n",
        "import numpy as np  # For numerical operations and arrays\n",
        "import pandas as pd  # For working with dataframes and structured data\n",
        "import re  # For regular expression operations (text processing)\n",
        "import nltk  # Natural Language Toolkit for text processing\n",
        "import spacy  # For advanced NLP tasks\n",
        "import string  # For handling string-related operations\n",
        "\n",
        "# Optional: Uncomment the line below to enable GPU support for spaCy (if you have a compatible GPU)\n",
        "#spacy.require_gpu()\n",
        "\n",
        "# Load the spaCy small English language model\n",
        "nlp = spacy.load(\"en_core_web_sm\")\n",
        "\n",
        "# For data visualization\n",
        "import seaborn as sns  # Data visualization library for statistical graphics\n",
        "import matplotlib.pyplot as plt  # Matplotlib for creating static plots\n",
        "# Configure Matplotlib to display plots inline in Jupyter Notebook\n",
        "%matplotlib inline\n",
        "\n",
        "# Suppress unnecessary warnings to keep output clean\n",
        "import warnings\n",
        "warnings.filterwarnings('ignore')\n",
        "\n",
        "# For interactive plots\n",
        "from plotly.offline import plot  # Enables offline plotting with Plotly\n",
        "import plotly.graph_objects as go  # For creating customizable Plotly plots\n",
        "import plotly.express as px  # A high-level interface for Plotly\n",
        "\n",
        "# For preprocessing and feature extraction in machine learning\n",
        "from sklearn.feature_extraction.text import (  # Methods for text vectorization\n",
        "    CountVectorizer,  # Converts text into a bag-of-words model\n",
        ")\n",
        "\n",
        "# Import accuracy, precision, recall, f_score from sklearn to predict train accuracy\n",
        "from sklearn.metrics import accuracy_score, precision_score, recall_score, f1_score\n",
        "\n",
        "# Pretty printing for better readability of output\n",
        "from pprint import pprint\n",
        "\n",
        "# For progress tracking in loops (useful for larger datasets)\n",
        "from tqdm import tqdm, tqdm_notebook  # Progress bar for loops\n",
        "tqdm.pandas()  # Enables progress bars for pandas operations\n",
        "\n",
        "from wordcloud import WordCloud \n",
        "from sklearn.metrics import classification_report\n"
      ]
    },
    {
      "cell_type": "code",
      "execution_count": 3,
      "metadata": {
        "id": "s8Le3OfjI666"
      },
      "outputs": [],
      "source": [
        "## Change the display properties of pandas to max\n",
        "#pd.set_option('display.max_colwidth', None)\n",
        "#pd.set_option('display.max_columns', None)\n",
        "#pd.set_option('display.max_rows', None)"
      ]
    },
    {
      "cell_type": "markdown",
      "metadata": {
        "id": "KtRLCsNVJrFt"
      },
      "source": [
        "## Load the data\n",
        "\n",
        "Load the True.csv and Fake.csv files as DataFrames"
      ]
    },
    {
      "cell_type": "code",
      "execution_count": 4,
      "metadata": {
        "id": "puVzIf_iJrFt"
      },
      "outputs": [],
      "source": [
        "# Import the first file - True.csv\n",
        "data_true = pd.read_csv(\"true.csv\")\n",
        "# Import the second file - Fake.csv\n",
        "data_false = pd.read_csv(\"Fake.csv\")"
      ]
    },
    {
      "cell_type": "markdown",
      "metadata": {
        "id": "_xYpH-sAJrFu"
      },
      "source": [
        "## **1.** Data Preparation  <font color = red>[10 marks]</font>\n",
        "\n",
        "\n",
        "\n"
      ]
    },
    {
      "cell_type": "markdown",
      "metadata": {
        "id": "A2fTeYJImEv7"
      },
      "source": [
        "### **1.0** Data Understanding"
      ]
    },
    {
      "cell_type": "code",
      "execution_count": 5,
      "metadata": {
        "id": "Lf8ufHH5JrFu"
      },
      "outputs": [
        {
          "data": {
            "text/html": [
              "<div>\n",
              "<style scoped>\n",
              "    .dataframe tbody tr th:only-of-type {\n",
              "        vertical-align: middle;\n",
              "    }\n",
              "\n",
              "    .dataframe tbody tr th {\n",
              "        vertical-align: top;\n",
              "    }\n",
              "\n",
              "    .dataframe thead th {\n",
              "        text-align: right;\n",
              "    }\n",
              "</style>\n",
              "<table border=\"1\" class=\"dataframe\">\n",
              "  <thead>\n",
              "    <tr style=\"text-align: right;\">\n",
              "      <th></th>\n",
              "      <th>title</th>\n",
              "      <th>text</th>\n",
              "      <th>date</th>\n",
              "    </tr>\n",
              "  </thead>\n",
              "  <tbody>\n",
              "    <tr>\n",
              "      <th>0</th>\n",
              "      <td>As U.S. budget fight looms, Republicans flip t...</td>\n",
              "      <td>WASHINGTON (Reuters) - The head of a conservat...</td>\n",
              "      <td>December 31, 2017</td>\n",
              "    </tr>\n",
              "    <tr>\n",
              "      <th>1</th>\n",
              "      <td>U.S. military to accept transgender recruits o...</td>\n",
              "      <td>WASHINGTON (Reuters) - Transgender people will...</td>\n",
              "      <td>December 29, 2017</td>\n",
              "    </tr>\n",
              "    <tr>\n",
              "      <th>2</th>\n",
              "      <td>Senior U.S. Republican senator: 'Let Mr. Muell...</td>\n",
              "      <td>WASHINGTON (Reuters) - The special counsel inv...</td>\n",
              "      <td>December 31, 2017</td>\n",
              "    </tr>\n",
              "    <tr>\n",
              "      <th>3</th>\n",
              "      <td>FBI Russia probe helped by Australian diplomat...</td>\n",
              "      <td>WASHINGTON (Reuters) - Trump campaign adviser ...</td>\n",
              "      <td>December 30, 2017</td>\n",
              "    </tr>\n",
              "    <tr>\n",
              "      <th>4</th>\n",
              "      <td>Trump wants Postal Service to charge 'much mor...</td>\n",
              "      <td>SEATTLE/WASHINGTON (Reuters) - President Donal...</td>\n",
              "      <td>December 29, 2017</td>\n",
              "    </tr>\n",
              "  </tbody>\n",
              "</table>\n",
              "</div>"
            ],
            "text/plain": [
              "                                               title  \\\n",
              "0  As U.S. budget fight looms, Republicans flip t...   \n",
              "1  U.S. military to accept transgender recruits o...   \n",
              "2  Senior U.S. Republican senator: 'Let Mr. Muell...   \n",
              "3  FBI Russia probe helped by Australian diplomat...   \n",
              "4  Trump wants Postal Service to charge 'much mor...   \n",
              "\n",
              "                                                text                date  \n",
              "0  WASHINGTON (Reuters) - The head of a conservat...  December 31, 2017   \n",
              "1  WASHINGTON (Reuters) - Transgender people will...  December 29, 2017   \n",
              "2  WASHINGTON (Reuters) - The special counsel inv...  December 31, 2017   \n",
              "3  WASHINGTON (Reuters) - Trump campaign adviser ...  December 30, 2017   \n",
              "4  SEATTLE/WASHINGTON (Reuters) - President Donal...  December 29, 2017   "
            ]
          },
          "execution_count": 5,
          "metadata": {},
          "output_type": "execute_result"
        }
      ],
      "source": [
        "# Inspect the DataFrame with True News to understand the given data\n",
        "data_true.head(5)"
      ]
    },
    {
      "cell_type": "code",
      "execution_count": 6,
      "metadata": {
        "id": "gI7X0Voh6h7r"
      },
      "outputs": [
        {
          "data": {
            "text/html": [
              "<div>\n",
              "<style scoped>\n",
              "    .dataframe tbody tr th:only-of-type {\n",
              "        vertical-align: middle;\n",
              "    }\n",
              "\n",
              "    .dataframe tbody tr th {\n",
              "        vertical-align: top;\n",
              "    }\n",
              "\n",
              "    .dataframe thead th {\n",
              "        text-align: right;\n",
              "    }\n",
              "</style>\n",
              "<table border=\"1\" class=\"dataframe\">\n",
              "  <thead>\n",
              "    <tr style=\"text-align: right;\">\n",
              "      <th></th>\n",
              "      <th>title</th>\n",
              "      <th>text</th>\n",
              "      <th>date</th>\n",
              "    </tr>\n",
              "  </thead>\n",
              "  <tbody>\n",
              "    <tr>\n",
              "      <th>0</th>\n",
              "      <td>Donald Trump Sends Out Embarrassing New Year’...</td>\n",
              "      <td>Donald Trump just couldn t wish all Americans ...</td>\n",
              "      <td>December 31, 2017</td>\n",
              "    </tr>\n",
              "    <tr>\n",
              "      <th>1</th>\n",
              "      <td>Drunk Bragging Trump Staffer Started Russian ...</td>\n",
              "      <td>House Intelligence Committee Chairman Devin Nu...</td>\n",
              "      <td>December 31, 2017</td>\n",
              "    </tr>\n",
              "    <tr>\n",
              "      <th>2</th>\n",
              "      <td>Sheriff David Clarke Becomes An Internet Joke...</td>\n",
              "      <td>On Friday, it was revealed that former Milwauk...</td>\n",
              "      <td>December 30, 2017</td>\n",
              "    </tr>\n",
              "    <tr>\n",
              "      <th>3</th>\n",
              "      <td>Trump Is So Obsessed He Even Has Obama’s Name...</td>\n",
              "      <td>On Christmas day, Donald Trump announced that ...</td>\n",
              "      <td>December 29, 2017</td>\n",
              "    </tr>\n",
              "    <tr>\n",
              "      <th>4</th>\n",
              "      <td>Pope Francis Just Called Out Donald Trump Dur...</td>\n",
              "      <td>Pope Francis used his annual Christmas Day mes...</td>\n",
              "      <td>December 25, 2017</td>\n",
              "    </tr>\n",
              "  </tbody>\n",
              "</table>\n",
              "</div>"
            ],
            "text/plain": [
              "                                               title  \\\n",
              "0   Donald Trump Sends Out Embarrassing New Year’...   \n",
              "1   Drunk Bragging Trump Staffer Started Russian ...   \n",
              "2   Sheriff David Clarke Becomes An Internet Joke...   \n",
              "3   Trump Is So Obsessed He Even Has Obama’s Name...   \n",
              "4   Pope Francis Just Called Out Donald Trump Dur...   \n",
              "\n",
              "                                                text               date  \n",
              "0  Donald Trump just couldn t wish all Americans ...  December 31, 2017  \n",
              "1  House Intelligence Committee Chairman Devin Nu...  December 31, 2017  \n",
              "2  On Friday, it was revealed that former Milwauk...  December 30, 2017  \n",
              "3  On Christmas day, Donald Trump announced that ...  December 29, 2017  \n",
              "4  Pope Francis used his annual Christmas Day mes...  December 25, 2017  "
            ]
          },
          "execution_count": 6,
          "metadata": {},
          "output_type": "execute_result"
        }
      ],
      "source": [
        "# Inspect the DataFrame with Fake News to understand the given data\n",
        "data_false.head(5)"
      ]
    },
    {
      "cell_type": "code",
      "execution_count": 7,
      "metadata": {
        "id": "Dwcty-wmJrFw"
      },
      "outputs": [
        {
          "name": "stdout",
          "output_type": "stream",
          "text": [
            "<class 'pandas.core.frame.DataFrame'>\n",
            "RangeIndex: 21417 entries, 0 to 21416\n",
            "Data columns (total 3 columns):\n",
            " #   Column  Non-Null Count  Dtype \n",
            "---  ------  --------------  ----- \n",
            " 0   title   21417 non-null  object\n",
            " 1   text    21417 non-null  object\n",
            " 2   date    21417 non-null  object\n",
            "dtypes: object(3)\n",
            "memory usage: 502.1+ KB\n"
          ]
        }
      ],
      "source": [
        "# Print the column details for True News DataFrame\n",
        "data_true.info()"
      ]
    },
    {
      "cell_type": "code",
      "execution_count": 8,
      "metadata": {
        "id": "EPLAnUMjjzQ4"
      },
      "outputs": [
        {
          "name": "stdout",
          "output_type": "stream",
          "text": [
            "<class 'pandas.core.frame.DataFrame'>\n",
            "RangeIndex: 23523 entries, 0 to 23522\n",
            "Data columns (total 3 columns):\n",
            " #   Column  Non-Null Count  Dtype \n",
            "---  ------  --------------  ----- \n",
            " 0   title   23502 non-null  object\n",
            " 1   text    23502 non-null  object\n",
            " 2   date    23481 non-null  object\n",
            "dtypes: object(3)\n",
            "memory usage: 551.4+ KB\n"
          ]
        }
      ],
      "source": [
        "# Print the column details for Fake News Dataframe\n",
        "data_false.info()"
      ]
    },
    {
      "cell_type": "code",
      "execution_count": 9,
      "metadata": {
        "id": "dyuDFzPkI67B"
      },
      "outputs": [
        {
          "data": {
            "text/plain": [
              "(Index(['title', 'text', 'date'], dtype='object'),\n",
              " Index(['title', 'text', 'date'], dtype='object'))"
            ]
          },
          "execution_count": 9,
          "metadata": {},
          "output_type": "execute_result"
        }
      ],
      "source": [
        "# Print the column names of both DataFrames\n",
        "data_true.columns, data_false.columns"
      ]
    },
    {
      "cell_type": "markdown",
      "metadata": {
        "id": "h2fff1S7hq5h"
      },
      "source": [
        "### **1.1** Add new column  <font color = red>[3 marks]</font> <br>\n",
        "\n",
        "Add new column `news_label` to both the DataFrames and assign labels"
      ]
    },
    {
      "cell_type": "code",
      "execution_count": 10,
      "metadata": {
        "id": "YOu_KhbH78du"
      },
      "outputs": [],
      "source": [
        "# Add a new column 'news_label' to the true news DataFrame and assign the label \"1\" to indicate that these news are true\n",
        "data_true['class']=1\n",
        "\n",
        "# Add a new column 'news_label' to the fake news DataFrame and assign the label \"0\" to indicate that these news are fake\n",
        "data_false[\"class\"]=0"
      ]
    },
    {
      "cell_type": "code",
      "execution_count": null,
      "metadata": {},
      "outputs": [
        {
          "data": {
            "text/html": [
              "<div>\n",
              "<style scoped>\n",
              "    .dataframe tbody tr th:only-of-type {\n",
              "        vertical-align: middle;\n",
              "    }\n",
              "\n",
              "    .dataframe tbody tr th {\n",
              "        vertical-align: top;\n",
              "    }\n",
              "\n",
              "    .dataframe thead th {\n",
              "        text-align: right;\n",
              "    }\n",
              "</style>\n",
              "<table border=\"1\" class=\"dataframe\">\n",
              "  <thead>\n",
              "    <tr style=\"text-align: right;\">\n",
              "      <th></th>\n",
              "      <th>title</th>\n",
              "      <th>text</th>\n",
              "      <th>date</th>\n",
              "      <th>class</th>\n",
              "    </tr>\n",
              "  </thead>\n",
              "  <tbody>\n",
              "    <tr>\n",
              "      <th>0</th>\n",
              "      <td>As U.S. budget fight looms, Republicans flip t...</td>\n",
              "      <td>WASHINGTON (Reuters) - The head of a conservat...</td>\n",
              "      <td>December 31, 2017</td>\n",
              "      <td>1</td>\n",
              "    </tr>\n",
              "    <tr>\n",
              "      <th>1</th>\n",
              "      <td>U.S. military to accept transgender recruits o...</td>\n",
              "      <td>WASHINGTON (Reuters) - Transgender people will...</td>\n",
              "      <td>December 29, 2017</td>\n",
              "      <td>1</td>\n",
              "    </tr>\n",
              "    <tr>\n",
              "      <th>2</th>\n",
              "      <td>Senior U.S. Republican senator: 'Let Mr. Muell...</td>\n",
              "      <td>WASHINGTON (Reuters) - The special counsel inv...</td>\n",
              "      <td>December 31, 2017</td>\n",
              "      <td>1</td>\n",
              "    </tr>\n",
              "    <tr>\n",
              "      <th>3</th>\n",
              "      <td>FBI Russia probe helped by Australian diplomat...</td>\n",
              "      <td>WASHINGTON (Reuters) - Trump campaign adviser ...</td>\n",
              "      <td>December 30, 2017</td>\n",
              "      <td>1</td>\n",
              "    </tr>\n",
              "    <tr>\n",
              "      <th>4</th>\n",
              "      <td>Trump wants Postal Service to charge 'much mor...</td>\n",
              "      <td>SEATTLE/WASHINGTON (Reuters) - President Donal...</td>\n",
              "      <td>December 29, 2017</td>\n",
              "      <td>1</td>\n",
              "    </tr>\n",
              "  </tbody>\n",
              "</table>\n",
              "</div>"
            ],
            "text/plain": [
              "                                               title  \\\n",
              "0  As U.S. budget fight looms, Republicans flip t...   \n",
              "1  U.S. military to accept transgender recruits o...   \n",
              "2  Senior U.S. Republican senator: 'Let Mr. Muell...   \n",
              "3  FBI Russia probe helped by Australian diplomat...   \n",
              "4  Trump wants Postal Service to charge 'much mor...   \n",
              "\n",
              "                                                text                date  \\\n",
              "0  WASHINGTON (Reuters) - The head of a conservat...  December 31, 2017    \n",
              "1  WASHINGTON (Reuters) - Transgender people will...  December 29, 2017    \n",
              "2  WASHINGTON (Reuters) - The special counsel inv...  December 31, 2017    \n",
              "3  WASHINGTON (Reuters) - Trump campaign adviser ...  December 30, 2017    \n",
              "4  SEATTLE/WASHINGTON (Reuters) - President Donal...  December 29, 2017    \n",
              "\n",
              "   class  \n",
              "0      1  \n",
              "1      1  \n",
              "2      1  \n",
              "3      1  \n",
              "4      1  "
            ]
          },
          "execution_count": 11,
          "metadata": {},
          "output_type": "execute_result"
        }
      ],
      "source": [
        "#Check the data if it has properly imported\n",
        "data_true.head(5)"
      ]
    },
    {
      "cell_type": "markdown",
      "metadata": {
        "id": "UShuo3h54DAh"
      },
      "source": [
        "### **1.2** Merge DataFrames  <font color = red>[2 marks]</font> <br>\n",
        "\n",
        "Create a new Dataframe by merging True and Fake DataFrames"
      ]
    },
    {
      "cell_type": "code",
      "execution_count": null,
      "metadata": {
        "id": "5GX_QMy04M4-"
      },
      "outputs": [],
      "source": [
        "# Combine the true and fake news DataFrames into a single DataFrame\n",
        "data_merged = pd.concat([data_true,data_false], ignore_index=True)\n",
        "data_merged = data_merged.sample(frac=1).reset_index(drop=True) # Merging the data into a random order"
      ]
    },
    {
      "cell_type": "code",
      "execution_count": 13,
      "metadata": {
        "id": "FYCtKXD1JrFw"
      },
      "outputs": [
        {
          "data": {
            "text/html": [
              "<div>\n",
              "<style scoped>\n",
              "    .dataframe tbody tr th:only-of-type {\n",
              "        vertical-align: middle;\n",
              "    }\n",
              "\n",
              "    .dataframe tbody tr th {\n",
              "        vertical-align: top;\n",
              "    }\n",
              "\n",
              "    .dataframe thead th {\n",
              "        text-align: right;\n",
              "    }\n",
              "</style>\n",
              "<table border=\"1\" class=\"dataframe\">\n",
              "  <thead>\n",
              "    <tr style=\"text-align: right;\">\n",
              "      <th></th>\n",
              "      <th>title</th>\n",
              "      <th>text</th>\n",
              "      <th>date</th>\n",
              "      <th>class</th>\n",
              "    </tr>\n",
              "  </thead>\n",
              "  <tbody>\n",
              "    <tr>\n",
              "      <th>0</th>\n",
              "      <td>United Just Took A DISGUSTING Step To Smear T...</td>\n",
              "      <td>United Airlines is in an economic and pulic re...</td>\n",
              "      <td>April 11, 2017</td>\n",
              "      <td>0</td>\n",
              "    </tr>\n",
              "    <tr>\n",
              "      <th>1</th>\n",
              "      <td>SETH RICH MURDER Has CHILLING SIMILARITIES To ...</td>\n",
              "      <td>Just two months shy of the one-year anniversar...</td>\n",
              "      <td>May 16, 2017</td>\n",
              "      <td>0</td>\n",
              "    </tr>\n",
              "    <tr>\n",
              "      <th>2</th>\n",
              "      <td>Clinton: My worries are not the same as black ...</td>\n",
              "      <td>CHARLOTTE, N.C. (Reuters) - Hillary Clinton to...</td>\n",
              "      <td>October 2, 2016</td>\n",
              "      <td>1</td>\n",
              "    </tr>\n",
              "    <tr>\n",
              "      <th>3</th>\n",
              "      <td>France's Macron says received no request to ho...</td>\n",
              "      <td>DUBAI (Reuters) - French President Emmanuel Ma...</td>\n",
              "      <td>November 9, 2017</td>\n",
              "      <td>1</td>\n",
              "    </tr>\n",
              "    <tr>\n",
              "      <th>4</th>\n",
              "      <td>WAY TO GO! Sarah Sanders Shuts Down Black Repo...</td>\n",
              "      <td>SARAH SANDERS does a fantastic job shutting do...</td>\n",
              "      <td>Sep 29, 2017</td>\n",
              "      <td>0</td>\n",
              "    </tr>\n",
              "  </tbody>\n",
              "</table>\n",
              "</div>"
            ],
            "text/plain": [
              "                                               title  \\\n",
              "0   United Just Took A DISGUSTING Step To Smear T...   \n",
              "1  SETH RICH MURDER Has CHILLING SIMILARITIES To ...   \n",
              "2  Clinton: My worries are not the same as black ...   \n",
              "3  France's Macron says received no request to ho...   \n",
              "4  WAY TO GO! Sarah Sanders Shuts Down Black Repo...   \n",
              "\n",
              "                                                text               date  class  \n",
              "0  United Airlines is in an economic and pulic re...     April 11, 2017      0  \n",
              "1  Just two months shy of the one-year anniversar...       May 16, 2017      0  \n",
              "2  CHARLOTTE, N.C. (Reuters) - Hillary Clinton to...   October 2, 2016       1  \n",
              "3  DUBAI (Reuters) - French President Emmanuel Ma...  November 9, 2017       1  \n",
              "4  SARAH SANDERS does a fantastic job shutting do...       Sep 29, 2017      0  "
            ]
          },
          "execution_count": 13,
          "metadata": {},
          "output_type": "execute_result"
        }
      ],
      "source": [
        "# Display the first 5 rows of the combined DataFrame to verify the result\n",
        "data_merged.head(5)"
      ]
    },
    {
      "cell_type": "markdown",
      "metadata": {
        "id": "IphUaBu3oFZK"
      },
      "source": [
        "### **1.3** Handle the null values  <font color = red>[2 marks]</font> <br>\n",
        "\n",
        "Check for null values and handle it by imputation or dropping the null values"
      ]
    },
    {
      "cell_type": "code",
      "execution_count": 14,
      "metadata": {
        "id": "4FRDxOo6r51j"
      },
      "outputs": [
        {
          "data": {
            "text/plain": [
              "title    21\n",
              "text     21\n",
              "date     42\n",
              "class     0\n",
              "dtype: int64"
            ]
          },
          "execution_count": 14,
          "metadata": {},
          "output_type": "execute_result"
        }
      ],
      "source": [
        "# Check Presence of Null Values\n",
        "data_merged.isnull().sum()"
      ]
    },
    {
      "cell_type": "markdown",
      "metadata": {},
      "source": [
        "Since there is null data Dropping the null values"
      ]
    },
    {
      "cell_type": "code",
      "execution_count": 15,
      "metadata": {
        "id": "eiwvoyfYr6EB"
      },
      "outputs": [],
      "source": [
        "# Handle Rows with Null Values\n",
        "data_merged = data_merged.dropna()"
      ]
    },
    {
      "cell_type": "markdown",
      "metadata": {
        "id": "kDyPvMITooWA"
      },
      "source": [
        "### **1.4** Merge the relevant columns and drop the rest from the DataFrame  <font color = red>[3 marks]</font> <br>\n",
        "\n",
        "Combine the relevant columns into a new column `news_text` and then drop irrelevant columns from the DataFrame"
      ]
    },
    {
      "cell_type": "code",
      "execution_count": 17,
      "metadata": {
        "id": "u9VI48jS_HTy"
      },
      "outputs": [
        {
          "data": {
            "text/html": [
              "<div>\n",
              "<style scoped>\n",
              "    .dataframe tbody tr th:only-of-type {\n",
              "        vertical-align: middle;\n",
              "    }\n",
              "\n",
              "    .dataframe tbody tr th {\n",
              "        vertical-align: top;\n",
              "    }\n",
              "\n",
              "    .dataframe thead th {\n",
              "        text-align: right;\n",
              "    }\n",
              "</style>\n",
              "<table border=\"1\" class=\"dataframe\">\n",
              "  <thead>\n",
              "    <tr style=\"text-align: right;\">\n",
              "      <th></th>\n",
              "      <th>class</th>\n",
              "      <th>news_text</th>\n",
              "    </tr>\n",
              "  </thead>\n",
              "  <tbody>\n",
              "    <tr>\n",
              "      <th>0</th>\n",
              "      <td>0</td>\n",
              "      <td>United Just Took A DISGUSTING Step To Smear T...</td>\n",
              "    </tr>\n",
              "    <tr>\n",
              "      <th>1</th>\n",
              "      <td>0</td>\n",
              "      <td>SETH RICH MURDER Has CHILLING SIMILARITIES To ...</td>\n",
              "    </tr>\n",
              "    <tr>\n",
              "      <th>2</th>\n",
              "      <td>1</td>\n",
              "      <td>Clinton: My worries are not the same as black ...</td>\n",
              "    </tr>\n",
              "    <tr>\n",
              "      <th>3</th>\n",
              "      <td>1</td>\n",
              "      <td>France's Macron says received no request to ho...</td>\n",
              "    </tr>\n",
              "    <tr>\n",
              "      <th>4</th>\n",
              "      <td>0</td>\n",
              "      <td>WAY TO GO! Sarah Sanders Shuts Down Black Repo...</td>\n",
              "    </tr>\n",
              "  </tbody>\n",
              "</table>\n",
              "</div>"
            ],
            "text/plain": [
              "   class                                          news_text\n",
              "0      0   United Just Took A DISGUSTING Step To Smear T...\n",
              "1      0  SETH RICH MURDER Has CHILLING SIMILARITIES To ...\n",
              "2      1  Clinton: My worries are not the same as black ...\n",
              "3      1  France's Macron says received no request to ho...\n",
              "4      0  WAY TO GO! Sarah Sanders Shuts Down Black Repo..."
            ]
          },
          "execution_count": 17,
          "metadata": {},
          "output_type": "execute_result"
        }
      ],
      "source": [
        "# Combine the relevant columns into a new column 'news_text' by joining their values with a space\n",
        "data_merged['news_text'] = data_merged['title'] + \" \" + data_merged['text']\n",
        "# Drop the irrelevant columns from the DataFrame as they are no longer needed\n",
        "data_merged = data_merged.drop(['title', 'text','date'], axis=1)\n",
        "# Display the first 5 rows of the updated DataFrame to check the result\n",
        "data_merged.head(5)"
      ]
    },
    {
      "cell_type": "code",
      "execution_count": 18,
      "metadata": {},
      "outputs": [],
      "source": [
        "data_merged = data_merged[['news_text','class']]"
      ]
    },
    {
      "cell_type": "markdown",
      "metadata": {
        "id": "L944HZpsJrFy"
      },
      "source": [
        "## **2.** Text Preprocessing <font color = red>[15 marks]</font> <br>\n",
        "\n",
        "\n",
        "\n",
        "\n",
        "\n",
        "\n",
        "On all the news text, you need to:\n",
        "<ol type=1>\n",
        "  <li> Make the text lowercase\n",
        "  <li> Remove text in square brackets\n",
        "  <li> Remove punctuation\n",
        "  <li> Remove words containing numbers\n",
        "</ol>\n",
        "\n",
        "\n",
        "Once you have done these cleaning operations you need to perform POS tagging and lemmatization on the cleaned news text, and remove all words that are not tagged as NN or NNS."
      ]
    },
    {
      "cell_type": "markdown",
      "metadata": {
        "id": "_-6VW3V3jx1A"
      },
      "source": [
        "### **2.1** Text Cleaning  <font color = red>[5 marks]</font> <br>\n",
        "\n"
      ]
    },
    {
      "cell_type": "markdown",
      "metadata": {
        "id": "78OZs7P4kp41"
      },
      "source": [
        "#### 2.1.0 Create a new DataFrame to store the processed data\n",
        "\n"
      ]
    },
    {
      "cell_type": "code",
      "execution_count": 20,
      "metadata": {
        "id": "uXnN7aa_JrF0"
      },
      "outputs": [],
      "source": [
        "# Create a DataFrame('df_clean') that will have only the cleaned news text and the lemmatized news text with POS tags removed\n",
        "df_clean = pd.DataFrame(columns=['news_text'])\n",
        "# Add 'news_label' column to the new dataframe for topic identification\n",
        "df_clean['news_label'] = \" \"\n"
      ]
    },
    {
      "cell_type": "markdown",
      "metadata": {
        "id": "hsf00J83mdNL"
      },
      "source": [
        "#### 2.1.1 Write the function to clean the text and remove all the unnecessary elements  <font color = red>[4 marks]</font> <br>\n",
        "\n"
      ]
    },
    {
      "cell_type": "code",
      "execution_count": null,
      "metadata": {
        "id": "qm7SjjSkJrFz"
      },
      "outputs": [],
      "source": [
        "# Write the function here to clean the text and remove all the unnecessary elements\n",
        "def wordcleaning(text):\n",
        "    text = text.lower() # Convert to lower case\n",
        "    text = re.sub('\\[.*?\\]','',text) # Remove text in square brackets\n",
        "    text = re.sub('[%s]' % re.escape(string.punctuation),'',text) # Remove punctuation\n",
        "    text = re.sub('\\w*\\d\\w*','',text) # Remove words with numbers\n",
        "    text = re.sub(r'\\s+', ' ', text).strip() #Removing any bank spaces \n",
        "    return text"
      ]
    },
    {
      "cell_type": "markdown",
      "metadata": {
        "id": "dDFMNnrdkUvd"
      },
      "source": [
        "#### 2.1.2  Apply the function to clean the news text and store the cleaned text in a new column within the new DataFrame. <font color = red>[1 mark]</font> <br>\n"
      ]
    },
    {
      "cell_type": "code",
      "execution_count": 22,
      "metadata": {
        "id": "nOiDVvEIJrF0"
      },
      "outputs": [],
      "source": [
        "# Apply the function to clean the news text and remove all unnecessary elements\n",
        "# Store it in a separate column in the new DataFrame\n",
        "df_clean = data_merged[\"news_text\"].apply(wordcleaning)"
      ]
    },
    {
      "cell_type": "code",
      "execution_count": 23,
      "metadata": {},
      "outputs": [
        {
          "data": {
            "text/plain": [
              "0    united just took a disgusting step to smear th...\n",
              "1    seth rich murder has chilling similarities to ...\n",
              "2    clinton my worries are not the same as black g...\n",
              "3    frances macron says received no request to hos...\n",
              "4    way to go sarah sanders shuts down black repor...\n",
              "5    trump’s ineptitude causes huge drop in investm...\n",
              "6    argentina faces hope and hopelessness in subma...\n",
              "7    donald rumseld humiliates “the view” dingbat j...\n",
              "8    list of mayors in us cities who have asked oba...\n",
              "9    hillary clinton says half her cabinet will be ...\n",
              "Name: news_text, dtype: object"
            ]
          },
          "execution_count": 23,
          "metadata": {},
          "output_type": "execute_result"
        }
      ],
      "source": [
        "df_clean.head(10)"
      ]
    },
    {
      "cell_type": "markdown",
      "metadata": {
        "id": "MSAVnSelkF9d"
      },
      "source": [
        "### **2.2** POS Tagging and Lemmatization  <font color = red>[10 marks]</font> <br>\n",
        "\n"
      ]
    },
    {
      "cell_type": "markdown",
      "metadata": {
        "id": "QCqNHDL2mHok"
      },
      "source": [
        "#### 2.2.1 Write the function for POS tagging and lemmatization, filtering stopwords and keeping only NN and NNS tags <font color = red>[8 marks]</font> <br>\n",
        "\n"
      ]
    },
    {
      "cell_type": "code",
      "execution_count": 24,
      "metadata": {},
      "outputs": [],
      "source": [
        "# Write the function for POS tagging and lemmatization, filtering stopwords and keeping only NN and NNS tags\n",
        "def extract_nouns_spacy(text):\n",
        "    doc = nlp(text)\n",
        "    return [token.lemma_ for token in doc if token.pos_ == \"NOUN\" and not token.is_stop]"
      ]
    },
    {
      "cell_type": "code",
      "execution_count": null,
      "metadata": {},
      "outputs": [],
      "source": [
        "nouns_series = df_clean.apply(extract_nouns_spacy) #Applying the Exactation of nouns in a diiferent series for better visibility"
      ]
    },
    {
      "cell_type": "code",
      "execution_count": 26,
      "metadata": {},
      "outputs": [
        {
          "data": {
            "text/plain": [
              "0    [step, victim, heart, viral, relation, tailspi...\n",
              "1    [murder, similarity, body, count, victim, mont...\n",
              "2    [worry, grandmother, church, grandchild, world...\n",
              "3    [france, request, hariri, contact, prime, mini...\n",
              "4    [way, sander, shut, reporter, anthem, race, sa...\n",
              "Name: news_text, dtype: object"
            ]
          },
          "execution_count": 26,
          "metadata": {},
          "output_type": "execute_result"
        }
      ],
      "source": [
        "nouns_series.head(5)"
      ]
    },
    {
      "cell_type": "markdown",
      "metadata": {
        "id": "_T3So7PXlibT"
      },
      "source": [
        "#### 2.2.2  Apply the POS tagging and lemmatization function to cleaned text and store it in a new column within the new DataFrame. <font color = red>[2 mark]</font> <br>\n",
        "\n",
        "**NOTE: Store the cleaned text and the lemmatized text with POS tags removed in separate columns within the new DataFrame.**\n",
        "\n",
        "**This will be useful for analysing character length differences between cleaned text and lemmatized text with POS tags removed during EDA.**\n"
      ]
    },
    {
      "cell_type": "code",
      "execution_count": null,
      "metadata": {
        "id": "L9FWmibNI67F"
      },
      "outputs": [],
      "source": [
        "#Creating a new dataframe and storing all the values inside one dataframe\n",
        " df_clean = pd.DataFrame(df_clean) # Store it in a separate column in the new DataFrame\n",
        "df_clean.columns = [\"news_text\",]\n",
        "df_clean['class']= data_merged['class']\n",
        "df_clean['nouns'] = nouns_series  # Apply POS tagging and lemmatization function to cleaned text\n",
        "df_clean.head(5)"
      ]
    },
    {
      "cell_type": "code",
      "execution_count": 31,
      "metadata": {},
      "outputs": [
        {
          "data": {
            "text/html": [
              "<div>\n",
              "<style scoped>\n",
              "    .dataframe tbody tr th:only-of-type {\n",
              "        vertical-align: middle;\n",
              "    }\n",
              "\n",
              "    .dataframe tbody tr th {\n",
              "        vertical-align: top;\n",
              "    }\n",
              "\n",
              "    .dataframe thead th {\n",
              "        text-align: right;\n",
              "    }\n",
              "</style>\n",
              "<table border=\"1\" class=\"dataframe\">\n",
              "  <thead>\n",
              "    <tr style=\"text-align: right;\">\n",
              "      <th></th>\n",
              "      <th>news_text</th>\n",
              "      <th>class</th>\n",
              "      <th>nouns</th>\n",
              "    </tr>\n",
              "  </thead>\n",
              "  <tbody>\n",
              "    <tr>\n",
              "      <th>0</th>\n",
              "      <td>united just took a disgusting step to smear th...</td>\n",
              "      <td>0</td>\n",
              "      <td>[step, victim, heart, viral, relation, tailspi...</td>\n",
              "    </tr>\n",
              "    <tr>\n",
              "      <th>1</th>\n",
              "      <td>seth rich murder has chilling similarities to ...</td>\n",
              "      <td>0</td>\n",
              "      <td>[murder, similarity, body, count, victim, mont...</td>\n",
              "    </tr>\n",
              "    <tr>\n",
              "      <th>2</th>\n",
              "      <td>clinton my worries are not the same as black g...</td>\n",
              "      <td>1</td>\n",
              "      <td>[worry, grandmother, church, grandchild, world...</td>\n",
              "    </tr>\n",
              "    <tr>\n",
              "      <th>3</th>\n",
              "      <td>frances macron says received no request to hos...</td>\n",
              "      <td>1</td>\n",
              "      <td>[france, request, hariri, contact, prime, mini...</td>\n",
              "    </tr>\n",
              "    <tr>\n",
              "      <th>4</th>\n",
              "      <td>way to go sarah sanders shuts down black repor...</td>\n",
              "      <td>0</td>\n",
              "      <td>[way, sander, shut, reporter, anthem, race, sa...</td>\n",
              "    </tr>\n",
              "  </tbody>\n",
              "</table>\n",
              "</div>"
            ],
            "text/plain": [
              "                                           news_text  class  \\\n",
              "0  united just took a disgusting step to smear th...      0   \n",
              "1  seth rich murder has chilling similarities to ...      0   \n",
              "2  clinton my worries are not the same as black g...      1   \n",
              "3  frances macron says received no request to hos...      1   \n",
              "4  way to go sarah sanders shuts down black repor...      0   \n",
              "\n",
              "                                               nouns  \n",
              "0  [step, victim, heart, viral, relation, tailspi...  \n",
              "1  [murder, similarity, body, count, victim, mont...  \n",
              "2  [worry, grandmother, church, grandchild, world...  \n",
              "3  [france, request, hariri, contact, prime, mini...  \n",
              "4  [way, sander, shut, reporter, anthem, race, sa...  "
            ]
          },
          "execution_count": 31,
          "metadata": {},
          "output_type": "execute_result"
        }
      ],
      "source": [
        "df_clean.head(5)"
      ]
    },
    {
      "cell_type": "markdown",
      "metadata": {
        "id": "BMc5kjeqnX9b"
      },
      "source": [
        "### Save the Cleaned data as a csv file (Recommended)"
      ]
    },
    {
      "cell_type": "code",
      "execution_count": 32,
      "metadata": {
        "id": "fTjNG5xfnlwm"
      },
      "outputs": [],
      "source": [
        "## Recommended to perform the below steps to save time while rerunning the code\n",
        "df_clean.to_csv(\"clean_df.csv\", index=False)\n"
      ]
    },
    {
      "cell_type": "code",
      "execution_count": 33,
      "metadata": {},
      "outputs": [],
      "source": [
        "df_clean = pd.read_csv(\"clean_df.csv\")"
      ]
    },
    {
      "cell_type": "code",
      "execution_count": 34,
      "metadata": {
        "id": "0M0LseVjneMv"
      },
      "outputs": [
        {
          "data": {
            "text/html": [
              "<div>\n",
              "<style scoped>\n",
              "    .dataframe tbody tr th:only-of-type {\n",
              "        vertical-align: middle;\n",
              "    }\n",
              "\n",
              "    .dataframe tbody tr th {\n",
              "        vertical-align: top;\n",
              "    }\n",
              "\n",
              "    .dataframe thead th {\n",
              "        text-align: right;\n",
              "    }\n",
              "</style>\n",
              "<table border=\"1\" class=\"dataframe\">\n",
              "  <thead>\n",
              "    <tr style=\"text-align: right;\">\n",
              "      <th></th>\n",
              "      <th>news_text</th>\n",
              "      <th>class</th>\n",
              "      <th>nouns</th>\n",
              "    </tr>\n",
              "  </thead>\n",
              "  <tbody>\n",
              "    <tr>\n",
              "      <th>0</th>\n",
              "      <td>united just took a disgusting step to smear th...</td>\n",
              "      <td>0</td>\n",
              "      <td>['step', 'victim', 'heart', 'viral', 'relation...</td>\n",
              "    </tr>\n",
              "    <tr>\n",
              "      <th>1</th>\n",
              "      <td>seth rich murder has chilling similarities to ...</td>\n",
              "      <td>0</td>\n",
              "      <td>['murder', 'similarity', 'body', 'count', 'vic...</td>\n",
              "    </tr>\n",
              "    <tr>\n",
              "      <th>2</th>\n",
              "      <td>clinton my worries are not the same as black g...</td>\n",
              "      <td>1</td>\n",
              "      <td>['worry', 'grandmother', 'church', 'grandchild...</td>\n",
              "    </tr>\n",
              "    <tr>\n",
              "      <th>3</th>\n",
              "      <td>frances macron says received no request to hos...</td>\n",
              "      <td>1</td>\n",
              "      <td>['france', 'request', 'hariri', 'contact', 'pr...</td>\n",
              "    </tr>\n",
              "    <tr>\n",
              "      <th>4</th>\n",
              "      <td>way to go sarah sanders shuts down black repor...</td>\n",
              "      <td>0</td>\n",
              "      <td>['way', 'sander', 'shut', 'reporter', 'anthem'...</td>\n",
              "    </tr>\n",
              "  </tbody>\n",
              "</table>\n",
              "</div>"
            ],
            "text/plain": [
              "                                           news_text  class  \\\n",
              "0  united just took a disgusting step to smear th...      0   \n",
              "1  seth rich murder has chilling similarities to ...      0   \n",
              "2  clinton my worries are not the same as black g...      1   \n",
              "3  frances macron says received no request to hos...      1   \n",
              "4  way to go sarah sanders shuts down black repor...      0   \n",
              "\n",
              "                                               nouns  \n",
              "0  ['step', 'victim', 'heart', 'viral', 'relation...  \n",
              "1  ['murder', 'similarity', 'body', 'count', 'vic...  \n",
              "2  ['worry', 'grandmother', 'church', 'grandchild...  \n",
              "3  ['france', 'request', 'hariri', 'contact', 'pr...  \n",
              "4  ['way', 'sander', 'shut', 'reporter', 'anthem'...  "
            ]
          },
          "execution_count": 34,
          "metadata": {},
          "output_type": "execute_result"
        }
      ],
      "source": [
        "# Check the first few rows of the DataFrame\n",
        "df_clean.head(5)"
      ]
    },
    {
      "cell_type": "code",
      "execution_count": 35,
      "metadata": {
        "id": "lDZq_T3FYuOi"
      },
      "outputs": [
        {
          "data": {
            "text/plain": [
              "(44898, 3)"
            ]
          },
          "execution_count": 35,
          "metadata": {},
          "output_type": "execute_result"
        }
      ],
      "source": [
        "# Check the dimensions of the DataFrame\n",
        "df_clean.shape\n"
      ]
    },
    {
      "cell_type": "code",
      "execution_count": 36,
      "metadata": {
        "id": "ah1aJPmiAqWz"
      },
      "outputs": [
        {
          "data": {
            "text/plain": [
              "news_text    9\n",
              "class        0\n",
              "nouns        0\n",
              "dtype: int64"
            ]
          },
          "execution_count": 36,
          "metadata": {},
          "output_type": "execute_result"
        }
      ],
      "source": [
        "# Check the number of non-null entries and data types of each column\n",
        "df_clean.isnull().sum()\n"
      ]
    },
    {
      "cell_type": "code",
      "execution_count": 37,
      "metadata": {},
      "outputs": [],
      "source": [
        "df_clean = df_clean.dropna(subset=['news_text'])"
      ]
    },
    {
      "cell_type": "markdown",
      "metadata": {
        "id": "XMzqKme_2QQ0"
      },
      "source": [
        "## **3.** Train Validation Split <font color = red>[5 marks]</font> <br>"
      ]
    },
    {
      "cell_type": "code",
      "execution_count": 38,
      "metadata": {},
      "outputs": [],
      "source": [
        "y = df_clean['class']\n"
      ]
    },
    {
      "cell_type": "code",
      "execution_count": 42,
      "metadata": {
        "id": "jmx_W7Ty2PlK"
      },
      "outputs": [],
      "source": [
        "# Import Train Test Split and split the DataFrame into 70% train and 30% validation data\n",
        "from sklearn.model_selection import train_test_split \n",
        "\n",
        "\n",
        "x_train,x_test,y_train,y_test = train_test_split(df_clean,y,test_size=0.3)"
      ]
    },
    {
      "cell_type": "markdown",
      "metadata": {},
      "source": [
        "Here the X_train & X_test has the values of class as they are useful for Data visulization and will be removed before training the module "
      ]
    },
    {
      "cell_type": "markdown",
      "metadata": {
        "id": "_7Un1AElJrF2"
      },
      "source": [
        "## **4.** Exploratory Data Analysis on Training Data  <font color = red>[40 marks]</font> <br>\n",
        "\n",
        "Perform EDA on cleaned and preprocessed texts to get familiar with the training data by performing the tasks given below:\n",
        "\n",
        "<ul>\n",
        "  <li> Visualise the training data according to the character length of cleaned news text and lemmatized news text with POS tags removed\n",
        "  <li> Using a word cloud, find the top 40 words by frequency in true and fake news separately\n",
        "  <li> Find the top unigrams, bigrams and trigrams by frequency in true and fake news separately\n",
        "</ul>\n",
        "\n",
        "\n",
        "\n"
      ]
    },
    {
      "cell_type": "markdown",
      "metadata": {
        "id": "rOZ7yZ4Fp1cp"
      },
      "source": [
        "### **4.1** Visualise character lengths of cleaned news text and lemmatized news text with POS tags removed  <font color = red>[10 marks]</font> <br>\n",
        "\n"
      ]
    },
    {
      "cell_type": "markdown",
      "metadata": {
        "id": "UCI4DbZWpQ7n"
      },
      "source": [
        "##### 4.1.1  Add new columns to calculate the character lengths of the processed data columns  <font color = red>[3 marks]</font> <br>\n",
        "\n"
      ]
    },
    {
      "cell_type": "code",
      "execution_count": null,
      "metadata": {
        "id": "HifHm5rxpaxZ"
      },
      "outputs": [],
      "source": [
        "# Add a new column to calculate the character length of cleaned news text\n",
        "# Add a new column to calculate the character length of lemmatized news text with POS tags removed\n",
        "x_train['C_length'] = x_train['news_text'].astype(str).apply(len)"
      ]
    },
    {
      "cell_type": "code",
      "execution_count": null,
      "metadata": {},
      "outputs": [
        {
          "data": {
            "text/plain": [
              "31348"
            ]
          },
          "execution_count": 45,
          "metadata": {},
          "output_type": "execute_result"
        }
      ],
      "source": [
        "x_train['C_length'].max()"
      ]
    },
    {
      "cell_type": "code",
      "execution_count": 46,
      "metadata": {},
      "outputs": [
        {
          "name": "stdout",
          "output_type": "stream",
          "text": [
            "news_text    0\n",
            "class        0\n",
            "nouns        0\n",
            "C_length     0\n",
            "dtype: int64\n"
          ]
        }
      ],
      "source": [
        "print(x_train.isnull().sum())"
      ]
    },
    {
      "cell_type": "markdown",
      "metadata": {
        "id": "U1JvT8lNpbFe"
      },
      "source": [
        "##### 4.1.2  Create Histogram to visualise character lengths  <font color = red>[7 marks]</font> <br>\n",
        "\n",
        " Plot both distributions on the same graph for comparison and to observe overlaps and peak differences to understand text preprocessing's impact on text length."
      ]
    },
    {
      "cell_type": "code",
      "execution_count": 47,
      "metadata": {
        "id": "q-zaqJF6JrF2"
      },
      "outputs": [
        {
          "data": {
            "image/png": "[encoded data removed]",
            "text/plain": [
              "<Figure size 640x480 with 1 Axes>"
            ]
          },
          "metadata": {},
          "output_type": "display_data"
        }
      ],
      "source": [
        "# Create a histogram plot to visualise character lengths\n",
        "df_clean['text_length'] = df_clean['news_text'].apply(lambda x: len(str(x)))\n",
        "nouns_series['text_length'] = nouns_series.apply(lambda x: len(str(x)))\n",
        "\n",
        "data = [x_train['C_length'], df_clean['text_length'], nouns_series['text_length']]\n",
        "# Add histogram for cleaned news text & lemmatized text\n",
        "plt.hist(data, bins=100, stacked=True, color=['red', 'blue', 'green'], label=['Original', 'Cleaned', 'Nouns Only'])\n",
        "\n",
        "#Adding legends \n",
        "plt.title('Distribution of News Text Lengths')\n",
        "plt.xlabel('Length of text')\n",
        "plt.ylabel('Frequency')\n",
        "plt.legend()\n",
        "plt.show()\n",
        "\n"
      ]
    },
    {
      "cell_type": "markdown",
      "metadata": {
        "id": "T9jD_6SeJrF3"
      },
      "source": [
        "### **4.2** Find and display the top 40 words by frequency among true and fake news in Training data after processing the text  <font color = red>[10 marks]</font> <br>\n",
        "\n"
      ]
    },
    {
      "cell_type": "markdown",
      "metadata": {
        "id": "n320yzDiEUH4"
      },
      "source": [
        "##### 4.2.1 Find and display the top 40 words by frequency among true news in Training data after processing the text  <font color = red>[5 marks]</font> <br>"
      ]
    },
    {
      "cell_type": "code",
      "execution_count": 48,
      "metadata": {
        "id": "QcfdvtfZJrF3"
      },
      "outputs": [
        {
          "name": "stderr",
          "output_type": "stream",
          "text": [
            "[nltk_data] Error loading stopwords: <urlopen error [Errno 11001]\n",
            "[nltk_data]     getaddrinfo failed>\n"
          ]
        },
        {
          "name": "stdout",
          "output_type": "stream",
          "text": [
            "          Word  Frequency\n",
            "0         said      68826\n",
            "1        trump      33136\n",
            "2           us      31248\n",
            "3        would      22053\n",
            "4      reuters      19789\n",
            "5    president      18123\n",
            "6        state      13462\n",
            "7   government      12742\n",
            "8       states      12454\n",
            "9          new      12234\n",
            "10       house      12223\n",
            "11  republican      11182\n",
            "12        also      11157\n",
            "13      united      10811\n",
            "14      people      10521\n",
            "15        told       9863\n",
            "16       could       9649\n",
            "17         one       8870\n",
            "18        last       8844\n",
            "19      trumps       8714\n",
            "20  washington       8538\n",
            "21    election       8375\n",
            "22         two       8291\n",
            "23       party       8060\n",
            "24      former       7587\n",
            "25       north       7488\n",
            "26    campaign       7479\n",
            "27        year       7382\n",
            "28      donald       7319\n",
            "29    security       7210\n",
            "30       white       7051\n",
            "31     percent       7002\n",
            "32       court       6938\n",
            "33      senate       6740\n",
            "34    minister       6301\n",
            "35       first       6053\n",
            "36   officials       6053\n",
            "37       china       6011\n",
            "38     clinton       5925\n",
            "39         tax       5908\n"
          ]
        },
        {
          "data": {
            "image/png": "[encoded data removed]",
            "text/plain": [
              "<Figure size 1000x500 with 1 Axes>"
            ]
          },
          "metadata": {},
          "output_type": "display_data"
        }
      ],
      "source": [
        "from collections import Counter\n",
        "\n",
        "import nltk\n",
        "nltk.download('stopwords')\n",
        "from nltk.corpus import stopwords\n",
        "\n",
        "## Use a word cloud find the top 40 words by frequency among true news in the training data after processing the text\n",
        "# Filter news with label 1 (True News) and convert to it string and handle any non-string values\n",
        "df_class1 = x_train[x_train['class'] == 1]\n",
        "all_text = ' '.join(df_class1['news_text'].dropna()) # combing text for creating a unified list\n",
        "all_text = all_text.lower() # making al text lower \n",
        "all_text = re.sub(r'[^a-zA-Z\\s]', '', all_text) #removing special characters in case \n",
        "words = all_text.split() # Splitting Text into words\n",
        "stop_words = set(stopwords.words('english'))\n",
        "words = [word for word in words if word not in stop_words]\n",
        "word_counts = Counter(words) \n",
        "top_40 = word_counts.most_common(40)\n",
        "top_40_df = pd.DataFrame(top_40, columns=['Word', 'Frequency'])\n",
        "print(top_40_df)\n",
        "\n",
        "\n",
        "# Generate word cloud for True News\n",
        "top_40_dict = dict(top_40)\n",
        "\n",
        "wordcloud = WordCloud(width=800, height=400, background_color='white', colormap='rainbow').generate_from_frequencies(top_40_dict)\n",
        "\n",
        "# Plot the WordCloud\n",
        "plt.figure(figsize=(10,5))\n",
        "plt.imshow(wordcloud, interpolation='bilinear')\n",
        "plt.axis('off')\n",
        "plt.show()"
      ]
    },
    {
      "cell_type": "markdown",
      "metadata": {
        "id": "LbHtjWzbEj__"
      },
      "source": [
        "##### 4.2.2 Find and display the top 40 words by frequency among fake news in Training data after processing the text  <font color = red>[5 marks]</font> <br>"
      ]
    },
    {
      "cell_type": "code",
      "execution_count": 49,
      "metadata": {
        "id": "MOFoDEscEkMO"
      },
      "outputs": [
        {
          "name": "stderr",
          "output_type": "stream",
          "text": [
            "[nltk_data] Error loading stopwords: <urlopen error [Errno 11001]\n",
            "[nltk_data]     getaddrinfo failed>\n"
          ]
        },
        {
          "name": "stdout",
          "output_type": "stream",
          "text": [
            "          Word  Frequency\n",
            "0        trump      56570\n",
            "1         said      21755\n",
            "2       people      18516\n",
            "3    president      18416\n",
            "4        would      16545\n",
            "5          one      16215\n",
            "6           us      15775\n",
            "7        obama      13646\n",
            "8      clinton      13087\n",
            "9         like      12604\n",
            "10      donald      12561\n",
            "11     hillary      10662\n",
            "12        also      10456\n",
            "13         new      10449\n",
            "14        news      10120\n",
            "15        even       9581\n",
            "16       white       9473\n",
            "17        time       9025\n",
            "18       state       8944\n",
            "19         via       7835\n",
            "20       house       7718\n",
            "21       video       7708\n",
            "22       media       7695\n",
            "23         get       7668\n",
            "24     america       7620\n",
            "25    campaign       7458\n",
            "26        know       7386\n",
            "27       first       7202\n",
            "28       could       7170\n",
            "29       going       7107\n",
            "30    american       6932\n",
            "31       image       6864\n",
            "32        many       6719\n",
            "33      states       6638\n",
            "34        make       6635\n",
            "35  republican       6622\n",
            "36        told       6426\n",
            "37        made       6203\n",
            "38       right       6175\n",
            "39      police       6149\n"
          ]
        },
        {
          "data": {
            "image/png": "[encoded data removed]",
            "text/plain": [
              "<Figure size 1000x500 with 1 Axes>"
            ]
          },
          "metadata": {},
          "output_type": "display_data"
        }
      ],
      "source": [
        "from collections import Counter\n",
        "\n",
        "import nltk\n",
        "nltk.download('stopwords')\n",
        "from nltk.corpus import stopwords\n",
        "\n",
        "## Use a word cloud find the top 40 words by frequency among fake news in the training data after processing the text\n",
        "# Filter news with label 0 (Fake News) and convert to it string and handle any non-string values\n",
        "df_class1 = x_train[x_train['class'] == 0]\n",
        "all_text = ' '.join(df_class1['news_text'].dropna()) # combing text for creating a unified list\n",
        "all_text = all_text.lower() # making al text lower \n",
        "all_text = re.sub(r'[^a-zA-Z\\s]', '', all_text) #removing special characters in case \n",
        "words = all_text.split() # Splitting Text into words\n",
        "stop_words = set(stopwords.words('english'))\n",
        "words = [word for word in words if word not in stop_words]\n",
        "word_counts = Counter(words) \n",
        "top_40 = word_counts.most_common(40)\n",
        "top_40_df = pd.DataFrame(top_40, columns=['Word', 'Frequency'])\n",
        "print(top_40_df)\n",
        "\n",
        "\n",
        "# Generate word cloud for Fake News\n",
        "top_40_dict = dict(top_40)\n",
        "\n",
        "wordcloud = WordCloud(width=800, height=400, background_color='white', colormap='rainbow').generate_from_frequencies(top_40_dict)\n",
        "\n",
        "\n",
        "plt.figure(figsize=(10,5))\n",
        "plt.imshow(wordcloud, interpolation='bilinear')\n",
        "plt.axis('off')\n",
        "plt.show()"
      ]
    },
    {
      "cell_type": "markdown",
      "metadata": {
        "id": "5DfCSbbmJrF4"
      },
      "source": [
        "### **4.3** Find and display the top unigrams, bigrams and trigrams by frequency in true news and fake news after processing the text  <font color = red>[20 marks]</font> <br>\n",
        "\n",
        "\n"
      ]
    },
    {
      "cell_type": "markdown",
      "metadata": {
        "id": "ApGagSppsAyL"
      },
      "source": [
        "##### 4.3.1 Write a function to get the specified top n-grams  <font color = red>[4 marks]</font> <br>\n",
        "\n"
      ]
    },
    {
      "cell_type": "code",
      "execution_count": 50,
      "metadata": {},
      "outputs": [],
      "source": [
        "from collections import Counter\n",
        "import spacy\n",
        "import matplotlib.pyplot as plt\n",
        "\n",
        "# Load spaCy model\n",
        "nlp = spacy.load(\"en_core_web_sm\")\n",
        "\n",
        "def plt_top10_ngrams(df, n=1, top_k=10, remove_stopwords=True, use_lemma=False):\n",
        "    texts = df[df['class'] == 1]['news_text'].dropna().astype(str)\n",
        "    ngram_counter = Counter()\n",
        "    \n",
        "    for text in texts:\n",
        "        doc = nlp(text)\n",
        "        tokens = []\n",
        "        for token in doc:\n",
        "            if token.is_punct or token.is_space:\n",
        "                continue\n",
        "            if remove_stopwords and token.is_stop:\n",
        "                continue\n",
        "            tokens.append(token.lemma_.lower() if use_lemma else token.text.lower())\n",
        "        \n",
        "        ngrams = [tuple(tokens[i:i+n]) for i in range(len(tokens) - n + 1)]\n",
        "        ngram_counter.update(ngrams)\n",
        "\n",
        "    top_ngrams = ngram_counter.most_common(top_k)\n",
        "\n",
        "    # Print n-grams\n",
        "    for gram, freq in top_ngrams:\n",
        "        print(f\"{' '.join(gram)}: {freq}\")\n",
        "\n",
        "    # Plot\n",
        "    labels = [' '.join(gram) for gram, _ in top_ngrams]\n",
        "    counts = [freq for _, freq in top_ngrams]\n",
        "\n",
        "    plt.figure(figsize=(10, 6))\n",
        "    plt.bar(labels, counts, color='seagreen')\n",
        "    plt.title(f\"Top {top_k} {n}-grams in True News\")\n",
        "    plt.xlabel(f\"{n}-grams\")\n",
        "    plt.ylabel(\"Frequency\")\n",
        "    plt.xticks(rotation=45)\n",
        "    plt.tight_layout()\n",
        "    plt.show()"
      ]
    },
    {
      "cell_type": "markdown",
      "metadata": {
        "id": "ZHcBL7vRsM4I"
      },
      "source": [
        "##### 4.3.2 Handle the NaN values  <font color = red>[1 mark]</font> <br>\n",
        "\n"
      ]
    },
    {
      "cell_type": "code",
      "execution_count": 51,
      "metadata": {
        "id": "3Ks69UQGCXpw"
      },
      "outputs": [],
      "source": [
        "# Handle NaN values in the text data\n",
        "x_train = x_train.dropna(subset=['news_text'])"
      ]
    },
    {
      "cell_type": "code",
      "execution_count": 52,
      "metadata": {},
      "outputs": [
        {
          "data": {
            "text/plain": [
              "news_text    0\n",
              "class        0\n",
              "nouns        0\n",
              "C_length     0\n",
              "dtype: int64"
            ]
          },
          "execution_count": 52,
          "metadata": {},
          "output_type": "execute_result"
        }
      ],
      "source": [
        "x_train.isnull().sum()"
      ]
    },
    {
      "cell_type": "markdown",
      "metadata": {
        "id": "caioIgIEsfh2"
      },
      "source": [
        "### For True News\n",
        "\n",
        "\n"
      ]
    },
    {
      "cell_type": "markdown",
      "metadata": {
        "id": "QYB2ZXZ83fjo"
      },
      "source": [
        "##### 4.3.3 Display the top 10 unigrams by frequency in true news and plot them as a bar graph  <font color = red>[2.5 marks]</font> <br>"
      ]
    },
    {
      "cell_type": "code",
      "execution_count": 53,
      "metadata": {
        "id": "YX7fedm1JrF8"
      },
      "outputs": [
        {
          "name": "stdout",
          "output_type": "stream",
          "text": [
            "said: 68826\n",
            "trump: 41317\n",
            "s: 31001\n",
            "reuters: 19789\n",
            "president: 18759\n",
            "state: 14164\n",
            "government: 12964\n",
            "house: 12325\n",
            "new: 12234\n",
            "states: 11754\n"
          ]
        },
        {
          "data": {
            "image/png": "[encoded data removed]",
            "text/plain": [
              "<Figure size 1000x600 with 1 Axes>"
            ]
          },
          "metadata": {},
          "output_type": "display_data"
        }
      ],
      "source": [
        "# Print the top 10 unigrams by frequency in true news and plot the same using a bar graph\n",
        "plt_top10_ngrams(x_train, n=1, top_k=10)"
      ]
    },
    {
      "cell_type": "markdown",
      "metadata": {
        "id": "y3Q7wQnnsvOE"
      },
      "source": [
        "##### 4.3.4 Display the top 10 bigrams by frequency in true news and plot them as a bar graph  <font color = red>[2.5 marks]</font> <br>\n",
        "\n"
      ]
    },
    {
      "cell_type": "code",
      "execution_count": 54,
      "metadata": {
        "id": "aV7kD7w8JrF8"
      },
      "outputs": [
        {
          "name": "stdout",
          "output_type": "stream",
          "text": [
            "united states: 8469\n",
            "donald trump: 7105\n",
            "white house: 6278\n",
            "washington reuters: 4532\n",
            "north korea: 4395\n",
            "president donald: 4131\n",
            "new york: 3154\n",
            "prime minister: 2865\n",
            "said statement: 2814\n",
            "islamic state: 2552\n"
          ]
        },
        {
          "data": {
            "image/png": "[encoded data removed]",
            "text/plain": [
              "<Figure size 1000x600 with 1 Axes>"
            ]
          },
          "metadata": {},
          "output_type": "display_data"
        }
      ],
      "source": [
        "# Print the top 10 bigrams by frequency in true news and plot the same using a bar graph\n",
        "plt_top10_ngrams(x_train, n=2, top_k=10)"
      ]
    },
    {
      "cell_type": "markdown",
      "metadata": {
        "id": "opdM04-Bs_Bg"
      },
      "source": [
        "##### 4.3.5 Display the top 10 trigrams by frequency in true news and plot them as a bar graph  <font color = red>[2.5 marks]</font> <br>\n",
        "\n"
      ]
    },
    {
      "cell_type": "code",
      "execution_count": 55,
      "metadata": {
        "id": "Xkh7vtbtJrF-"
      },
      "outputs": [
        {
          "name": "stdout",
          "output_type": "stream",
          "text": [
            "president donald trump: 4089\n",
            "president barack obama: 1987\n",
            "reuters president donald: 1085\n",
            "washington reuters president: 935\n",
            "white house said: 654\n",
            "presidentelect donald trump: 576\n",
            "north korea s: 575\n",
            "president vladimir putin: 545\n",
            "new york reuters: 511\n",
            "george w bush: 466\n"
          ]
        },
        {
          "data": {
            "image/png": "[encoded data removed]",
            "text/plain": [
              "<Figure size 1000x600 with 1 Axes>"
            ]
          },
          "metadata": {},
          "output_type": "display_data"
        }
      ],
      "source": [
        "# Print the top 10 trigrams by frequency in true news and plot the same using a bar graph\n",
        "plt_top10_ngrams(x_train, n=3, top_k=10)"
      ]
    },
    {
      "cell_type": "markdown",
      "metadata": {
        "id": "prNx2Sm0WGEj"
      },
      "source": [
        "### For Fake News\n",
        "\n",
        "\n",
        "\n",
        "\n",
        "\n"
      ]
    },
    {
      "cell_type": "markdown",
      "metadata": {
        "id": "obBKlBVK3mfX"
      },
      "source": [
        "##### 4.3.6 Display the top 10 unigrams by frequency in fake news and plot them as a bar graph  <font color = red>[2.5 marks]</font> <br>"
      ]
    },
    {
      "cell_type": "code",
      "execution_count": 56,
      "metadata": {
        "id": "1qKDzoSIWGXp"
      },
      "outputs": [],
      "source": [
        "# Print the top 10 unigrams by frequency in fake news and plot the same using a bar graph\n",
        "def plt_top10_ngrams_fake(df, n=1, top_k=10, remove_stopwords=True, use_lemma=False):\n",
        "    texts = df[df['class'] == 0]['news_text'].dropna().astype(str)\n",
        "    ngram_counter = Counter()\n",
        "    \n",
        "    for text in texts:\n",
        "        doc = nlp(text)\n",
        "        tokens = []\n",
        "        for token in doc:\n",
        "            if token.is_punct or token.is_space:\n",
        "                continue\n",
        "            if remove_stopwords and token.is_stop:\n",
        "                continue\n",
        "            tokens.append(token.lemma_.lower() if use_lemma else token.text.lower())\n",
        "        \n",
        "        ngrams = [tuple(tokens[i:i+n]) for i in range(len(tokens) - n + 1)]\n",
        "        ngram_counter.update(ngrams)\n",
        "\n",
        "    top_ngrams = ngram_counter.most_common(top_k)\n",
        "\n",
        "    # Print n-grams\n",
        "    for gram, freq in top_ngrams:\n",
        "        print(f\"{' '.join(gram)}: {freq}\")\n",
        "\n",
        "    # Plot\n",
        "    labels = [' '.join(gram) for gram, _ in top_ngrams]\n",
        "    counts = [freq for _, freq in top_ngrams]\n",
        "\n",
        "    plt.figure(figsize=(10, 6))\n",
        "    plt.bar(labels, counts, color='Red')\n",
        "    plt.title(f\"Top {top_k} {n}-grams in False News\")\n",
        "    plt.xlabel(f\"{n}-grams\")\n",
        "    plt.ylabel(\"Frequency\")\n",
        "    plt.xticks(rotation=45)\n",
        "    plt.tight_layout()\n",
        "    plt.show()"
      ]
    },
    {
      "cell_type": "code",
      "execution_count": 57,
      "metadata": {},
      "outputs": [
        {
          "name": "stdout",
          "output_type": "stream",
          "text": [
            "said: 68826\n",
            "trump: 41317\n",
            "s: 31001\n",
            "reuters: 19789\n",
            "president: 18759\n",
            "state: 14164\n",
            "government: 12964\n",
            "house: 12325\n",
            "new: 12234\n",
            "states: 11754\n"
          ]
        },
        {
          "data": {
            "image/png": "[encoded data removed]",
            "text/plain": [
              "<Figure size 1000x600 with 1 Axes>"
            ]
          },
          "metadata": {},
          "output_type": "display_data"
        }
      ],
      "source": [
        "plt_top10_ngrams(x_train, n=1, top_k=10)"
      ]
    },
    {
      "cell_type": "markdown",
      "metadata": {
        "id": "bSlMnmqcYsNw"
      },
      "source": [
        "##### 4.3.7 Display the top 10 bigrams by frequency in fake news and plot them as a bar graph  <font color = red>[2.5 marks]</font> <br>\n",
        "\n"
      ]
    },
    {
      "cell_type": "code",
      "execution_count": 58,
      "metadata": {
        "id": "r5xUk_r9Wa0f"
      },
      "outputs": [
        {
          "name": "stdout",
          "output_type": "stream",
          "text": [
            "united states: 8469\n",
            "donald trump: 7105\n",
            "white house: 6278\n",
            "washington reuters: 4532\n",
            "north korea: 4395\n",
            "president donald: 4131\n",
            "new york: 3154\n",
            "prime minister: 2865\n",
            "said statement: 2814\n",
            "islamic state: 2552\n"
          ]
        },
        {
          "data": {
            "image/png": "[encoded data removed]",
            "text/plain": [
              "<Figure size 1000x600 with 1 Axes>"
            ]
          },
          "metadata": {},
          "output_type": "display_data"
        }
      ],
      "source": [
        "# Print the top 10 bigrams by frequency in fake news and plot the same using a bar graph\n",
        "plt_top10_ngrams(x_train, n=2, top_k=10)"
      ]
    },
    {
      "cell_type": "markdown",
      "metadata": {
        "id": "i08WYIwPYs6R"
      },
      "source": [
        "##### 4.3.8 Display the top 10 trigrams by frequency in fake news and plot them as a bar graph  <font color = red>[2.5 marks]</font> <br>\n",
        "\n"
      ]
    },
    {
      "cell_type": "code",
      "execution_count": 59,
      "metadata": {
        "id": "6nT9a1EvWa-s"
      },
      "outputs": [
        {
          "name": "stdout",
          "output_type": "stream",
          "text": [
            "president donald trump: 4089\n",
            "president barack obama: 1987\n",
            "reuters president donald: 1085\n",
            "washington reuters president: 935\n",
            "white house said: 654\n",
            "presidentelect donald trump: 576\n",
            "north korea s: 575\n",
            "president vladimir putin: 545\n",
            "new york reuters: 511\n",
            "george w bush: 466\n"
          ]
        },
        {
          "data": {
            "image/png": "[encoded data removed]",
            "text/plain": [
              "<Figure size 1000x600 with 1 Axes>"
            ]
          },
          "metadata": {},
          "output_type": "display_data"
        }
      ],
      "source": [
        "# Print the top 10 trigrams by frequency in fake news and plot the same using a bar graph\n",
        "plt_top10_ngrams(x_train, n=3, top_k=10)"
      ]
    },
    {
      "cell_type": "markdown",
      "metadata": {
        "id": "2VsOO_oHN8-_"
      },
      "source": [
        "## **5.** Exploratory Data Analysis on Validation Data [Optional]\n",
        "\n",
        "Perform EDA on validation data to differentiate EDA on training data with EDA on validation data and the tasks are given below:\n",
        "\n",
        "<ul>\n",
        "  <li> Visualise the data according to the character length of cleaned news text and lemmatized text with POS tags removed\n",
        "  <li> Using a word cloud find the top 40 words by frequency in true and fake news separately\n",
        "  <li> Find the top unigrams, bigrams and trigrams by frequency in true and fake news separately\n",
        "</ul>\n",
        "\n",
        "\n",
        "\n"
      ]
    },
    {
      "cell_type": "markdown",
      "metadata": {
        "id": "jNkif5wrONfI"
      },
      "source": [
        "### **5.1** Visualise character lengths of cleaned news text and lemmatized news text with POS tags removed"
      ]
    },
    {
      "cell_type": "markdown",
      "metadata": {
        "id": "gAhwSWBWOTIj"
      },
      "source": [
        "##### 5.1.1  Add new columns to calculate the character lengths of the processed data columns"
      ]
    },
    {
      "cell_type": "code",
      "execution_count": 60,
      "metadata": {
        "id": "6hYYTrdHORAs"
      },
      "outputs": [],
      "source": [
        "# Add a new column to calculate the character length of cleaned news text\n",
        "\n",
        "# Add a new column to calculate the character length of lemmatized news text with POS tags removed\n"
      ]
    },
    {
      "cell_type": "markdown",
      "metadata": {
        "id": "VRILiD8hOX5q"
      },
      "source": [
        "##### 5.1.2  Create Histogram to visualise character lengths\n",
        "\n",
        "Plot both distributions on the same graph for comparison and to observe overlaps and peak differences to understand text preprocessing's impact on text length."
      ]
    },
    {
      "cell_type": "code",
      "execution_count": 61,
      "metadata": {
        "id": "j7LLOXC0Oaix"
      },
      "outputs": [],
      "source": [
        "# Create a histogram plot to visualise character lengths\n",
        "\n",
        "# Add histogram for cleaned news text\n",
        "\n",
        "# Add histogram for lemmatized news text with POS tags removed\n"
      ]
    },
    {
      "cell_type": "markdown",
      "metadata": {
        "id": "nPxa0JrvOwFu"
      },
      "source": [
        "### **5.2** Find and display the top 40 words by frequency among true and fake news after processing the text"
      ]
    },
    {
      "cell_type": "markdown",
      "metadata": {
        "id": "uOZRD8vaFt2h"
      },
      "source": [
        "##### 5.2.1  Find and display the top 40 words by frequency among true news in validation data after processing the text"
      ]
    },
    {
      "cell_type": "code",
      "execution_count": 62,
      "metadata": {
        "id": "6_9UVs4WOw0_"
      },
      "outputs": [],
      "source": [
        "## Use a word cloud find the top 40 words by frequency among true news after processing the text\n",
        "\n",
        "# Generate word cloud for True News\n"
      ]
    },
    {
      "cell_type": "markdown",
      "metadata": {
        "id": "T6AQPITsFuop"
      },
      "source": [
        "##### 5.2.2  Find and display the top 40 words by frequency among fake news in validation data after processing the text"
      ]
    },
    {
      "cell_type": "code",
      "execution_count": 63,
      "metadata": {
        "id": "4gk6xTdSFu1X"
      },
      "outputs": [],
      "source": [
        "## Use a word cloud find the top 40 words by frequency among fake news after processing the text\n",
        "\n",
        "# Generate word cloud for Fake News\n"
      ]
    },
    {
      "cell_type": "markdown",
      "metadata": {
        "id": "dx0s2a7xOxKf"
      },
      "source": [
        "### **5.3** Find and display the top unigrams, bigrams and trigrams by frequency in true news and fake news after processing the text  \n",
        "\n",
        "\n",
        "\n"
      ]
    },
    {
      "cell_type": "markdown",
      "metadata": {
        "id": "z2xZKU0RO5ft"
      },
      "source": [
        "##### 5.3.1 Write a function to get the specified top n-grams"
      ]
    },
    {
      "cell_type": "code",
      "execution_count": 64,
      "metadata": {
        "id": "g70ZFxcoOxS2"
      },
      "outputs": [],
      "source": [
        "## Write a function to get the specified top n-grams\n"
      ]
    },
    {
      "cell_type": "markdown",
      "metadata": {
        "id": "k8ud5-r7O7ut"
      },
      "source": [
        "##### 5.3.2 Handle the NaN values"
      ]
    },
    {
      "cell_type": "code",
      "execution_count": 65,
      "metadata": {
        "id": "vsBu-aotPBJF"
      },
      "outputs": [],
      "source": [
        "## First handle NaN values in the text data\n"
      ]
    },
    {
      "cell_type": "markdown",
      "metadata": {
        "id": "0KVWcxoDPAiE"
      },
      "source": [
        "### For True News\n"
      ]
    },
    {
      "cell_type": "markdown",
      "metadata": {
        "id": "Am3uuIlU4wj1"
      },
      "source": [
        "\n",
        "##### 5.3.3 Display the top 10 unigrams by frequency in true news and plot them as a bar graph"
      ]
    },
    {
      "cell_type": "code",
      "execution_count": 66,
      "metadata": {
        "id": "HKdpz-XmPGHD"
      },
      "outputs": [],
      "source": [
        "## Print the top 10 unigrams by frequency in true news and plot the same using a bar graph\n"
      ]
    },
    {
      "cell_type": "markdown",
      "metadata": {
        "id": "kiKrOL8rPLAs"
      },
      "source": [
        "##### 5.3.4 Display the top 10 bigrams by frequency in true news and plot them as a bar graph"
      ]
    },
    {
      "cell_type": "code",
      "execution_count": 67,
      "metadata": {
        "id": "iuyYGnaNPLwq"
      },
      "outputs": [],
      "source": [
        "## Print the top 10 bigrams by frequency in true news and plot the same using a bar graph\n"
      ]
    },
    {
      "cell_type": "markdown",
      "metadata": {
        "id": "9f8_h-BiPOKb"
      },
      "source": [
        "##### 5.3.5 Display the top 10 trigrams by frequency in true news and plot them as a bar graph"
      ]
    },
    {
      "cell_type": "code",
      "execution_count": 68,
      "metadata": {
        "id": "8lz-XS7qPQZj"
      },
      "outputs": [],
      "source": [
        "## Print the top 10 trigrams by frequency in true news and plot the same using a bar graph\n"
      ]
    },
    {
      "cell_type": "markdown",
      "metadata": {
        "id": "7MfApeGrd6Fl"
      },
      "source": [
        "### For Fake News"
      ]
    },
    {
      "cell_type": "markdown",
      "metadata": {
        "id": "_CH1csmZeGqh"
      },
      "source": [
        "##### 5.3.6 Display the top 10 unigrams by frequency in fake news and plot them as a bar graph"
      ]
    },
    {
      "cell_type": "code",
      "execution_count": 69,
      "metadata": {
        "id": "w310WzGAeG4K"
      },
      "outputs": [],
      "source": [
        "## Print the top 10 unigrams by frequency in fake news and plot the same using a bar graph\n"
      ]
    },
    {
      "cell_type": "markdown",
      "metadata": {
        "id": "yFjOaPx7eHFw"
      },
      "source": [
        "##### 5.3.7 Display the top 10 bigrams by frequency in fake news and plot them as a bar graph"
      ]
    },
    {
      "cell_type": "code",
      "execution_count": 70,
      "metadata": {
        "id": "ZuTqnjkIeHSJ"
      },
      "outputs": [],
      "source": [
        "## Print the top 10 bigrams by frequency in fake news and plot the same using a bar graph\n"
      ]
    },
    {
      "cell_type": "markdown",
      "metadata": {
        "id": "Vn_oiixheHf_"
      },
      "source": [
        "##### 5.3.8 Display the top 10 trigrams by frequency in fake news and plot them as a bar graph"
      ]
    },
    {
      "cell_type": "code",
      "execution_count": 71,
      "metadata": {
        "id": "xduyO4gheHtI"
      },
      "outputs": [],
      "source": [
        "## Print the top 10 trigrams by frequency in fake news and plot the same using a bar graph\n"
      ]
    },
    {
      "cell_type": "markdown",
      "metadata": {
        "id": "k-I0k0QtJrGA"
      },
      "source": [
        "## **6.** Feature Extraction  <font color = red>[10 marks]</font> <br>\n",
        "\n",
        "For any ML model to perform classification on textual data, you need to convert it to a vector form. In this assignment, you will use the Word2Vec Vectorizer to create vectors from textual data. Word2Vec model captures the semantic relationship between words.\n"
      ]
    },
    {
      "cell_type": "markdown",
      "metadata": {
        "id": "09xy3mAbtZgZ"
      },
      "source": [
        "### **6.1** Initialise Word2Vec model  <font color = red>[2 marks]</font>"
      ]
    },
    {
      "cell_type": "code",
      "execution_count": 72,
      "metadata": {
        "id": "Y8fGwaCPJrGA",
        "scrolled": true
      },
      "outputs": [],
      "source": [
        "## Write your code here to initialise the Word2Vec model by downloading \"word2vec-google-news-300\"\n",
        "\n",
        "import gensim.downloader as api\n",
        "word2vec_model = api.load(\"word2vec-google-news-300\")"
      ]
    },
    {
      "cell_type": "markdown",
      "metadata": {
        "id": "yYzD85nTJrGA"
      },
      "source": [
        "### **6.2** Extract vectors for cleaned news data   <font color = red>[8 marks]</font>"
      ]
    },
    {
      "cell_type": "code",
      "execution_count": 73,
      "metadata": {
        "id": "ffzdDpp_JrGB"
      },
      "outputs": [],
      "source": [
        "## Write your code here to extract the vectors from the Word2Vec model for both training and validation data\n",
        "\n",
        "def document_vector(text, model, vector_size=300):\n",
        "    \n",
        "    tokens = [token.text.lower() for token in nlp(text) if not token.is_punct and not token.is_space]\n",
        "    valid_tokens = [t for t in tokens if t in model]\n",
        "\n",
        "    if not valid_tokens:\n",
        "        return np.zeros(vector_size)  # Return zero-vector if no known words\n",
        "    \n",
        "    word_vectors = [model[t] for t in valid_tokens]\n",
        "    return np.mean(word_vectors, axis=0)\n",
        "\n",
        "def get_dataset_vectors(text_series, model, vector_size=300):\n",
        "    \"\"\"Convert a series of texts to their Word2Vec document vectors.\"\"\"\n",
        "    vectors = []\n",
        "    for text in text_series:\n",
        "        if not isinstance(text, str):\n",
        "            continue  # Skip non-string rows\n",
        "        vectors.append(document_vector(text, model, vector_size))\n",
        "    return np.vstack(vectors)\n",
        "\n",
        "## Extract the target variable for the training data and validation data\n"
      ]
    },
    {
      "cell_type": "code",
      "execution_count": 74,
      "metadata": {},
      "outputs": [],
      "source": [
        "x_train_clean = x_train['news_text']\n",
        "x_test_clean = x_test['news_text']"
      ]
    },
    {
      "cell_type": "code",
      "execution_count": 75,
      "metadata": {},
      "outputs": [],
      "source": [
        "train_vectors = get_dataset_vectors(x_train_clean, word2vec_model)\n"
      ]
    },
    {
      "cell_type": "code",
      "execution_count": 76,
      "metadata": {},
      "outputs": [],
      "source": [
        "test_vectors = get_dataset_vectors(x_test_clean, word2vec_model)"
      ]
    },
    {
      "cell_type": "markdown",
      "metadata": {
        "id": "7Q9lwvNEJrGB"
      },
      "source": [
        "## **7.** Model Training and Evaluation <font color = red>[45 marks]</font>\n",
        "\n",
        "You will use a set of supervised models to classify the news into true or fake."
      ]
    },
    {
      "cell_type": "markdown",
      "metadata": {
        "id": "sO16REK-xpq4"
      },
      "source": [
        "### **7.0** Import models and evaluation metrics"
      ]
    },
    {
      "cell_type": "code",
      "execution_count": 77,
      "metadata": {
        "id": "k0BKoT3wxpq4"
      },
      "outputs": [],
      "source": [
        "from sklearn.linear_model import LogisticRegression\n",
        "from sklearn.tree import DecisionTreeClassifier\n",
        "from sklearn.ensemble import RandomForestClassifier\n",
        "from sklearn.metrics import accuracy_score, precision_score, recall_score, f1_score\n",
        "from sklearn.metrics import classification_report"
      ]
    },
    {
      "cell_type": "markdown",
      "metadata": {
        "id": "SLuHH1olZXQq"
      },
      "source": [
        "### **7.1** Build Logistic Regression Model  <font color = red>[15 marks]</font>"
      ]
    },
    {
      "cell_type": "markdown",
      "metadata": {
        "id": "b1ItmvvGwduv"
      },
      "source": [
        "##### 7.1.1 Create and train logistic regression model on training data  <font color = red>[10 marks]</font>"
      ]
    },
    {
      "cell_type": "code",
      "execution_count": 78,
      "metadata": {},
      "outputs": [],
      "source": [
        "# Dropping the Class column and training the modules \n",
        "x_train = x_train.drop(columns='class')\n",
        "x_test = x_test.drop(columns='class')"
      ]
    },
    {
      "cell_type": "code",
      "execution_count": 82,
      "metadata": {
        "id": "wzXd3YSu5eyY"
      },
      "outputs": [
        {
          "data": {
            "text/html": [
              "<table class=\"simpletable\">\n",
              "<caption>Generalized Linear Model Regression Results</caption>\n",
              "<tr>\n",
              "  <th>Dep. Variable:</th>         <td>class</td>      <th>  No. Observations:  </th>  <td> 31422</td> \n",
              "</tr>\n",
              "<tr>\n",
              "  <th>Model:</th>                  <td>GLM</td>       <th>  Df Residuals:      </th>  <td> 31121</td> \n",
              "</tr>\n",
              "<tr>\n",
              "  <th>Model Family:</th>        <td>Binomial</td>     <th>  Df Model:          </th>  <td>   300</td> \n",
              "</tr>\n",
              "<tr>\n",
              "  <th>Link Function:</th>         <td>Logit</td>      <th>  Scale:             </th> <td>  1.0000</td>\n",
              "</tr>\n",
              "<tr>\n",
              "  <th>Method:</th>                <td>IRLS</td>       <th>  Log-Likelihood:    </th> <td> -2093.2</td>\n",
              "</tr>\n",
              "<tr>\n",
              "  <th>Date:</th>            <td>Wed, 30 Apr 2025</td> <th>  Deviance:          </th> <td>  4186.5</td>\n",
              "</tr>\n",
              "<tr>\n",
              "  <th>Time:</th>                <td>15:50:04</td>     <th>  Pearson chi2:      </th> <td>1.66e+05</td>\n",
              "</tr>\n",
              "<tr>\n",
              "  <th>No. Iterations:</th>         <td>10</td>        <th>  Pseudo R-squ. (CS):</th>  <td>0.7137</td> \n",
              "</tr>\n",
              "<tr>\n",
              "  <th>Covariance Type:</th>     <td>nonrobust</td>    <th>                     </th>     <td> </td>   \n",
              "</tr>\n",
              "</table>\n",
              "<table class=\"simpletable\">\n",
              "<tr>\n",
              "    <td></td>       <th>coef</th>     <th>std err</th>      <th>z</th>      <th>P>|z|</th>  <th>[0.025</th>    <th>0.975]</th>  \n",
              "</tr>\n",
              "<tr>\n",
              "  <th>const</th> <td>   29.7334</td> <td>    4.746</td> <td>    6.265</td> <td> 0.000</td> <td>   20.431</td> <td>   39.036</td>\n",
              "</tr>\n",
              "<tr>\n",
              "  <th>x1</th>    <td>   -9.4991</td> <td>    4.331</td> <td>   -2.193</td> <td> 0.028</td> <td>  -17.988</td> <td>   -1.010</td>\n",
              "</tr>\n",
              "<tr>\n",
              "  <th>x2</th>    <td>    2.9168</td> <td>    4.653</td> <td>    0.627</td> <td> 0.531</td> <td>   -6.202</td> <td>   12.036</td>\n",
              "</tr>\n",
              "<tr>\n",
              "  <th>x3</th>    <td>   35.4834</td> <td>    4.589</td> <td>    7.733</td> <td> 0.000</td> <td>   26.490</td> <td>   44.477</td>\n",
              "</tr>\n",
              "<tr>\n",
              "  <th>x4</th>    <td>  -16.2977</td> <td>    4.375</td> <td>   -3.725</td> <td> 0.000</td> <td>  -24.873</td> <td>   -7.722</td>\n",
              "</tr>\n",
              "<tr>\n",
              "  <th>x5</th>    <td>    2.1150</td> <td>    4.705</td> <td>    0.450</td> <td> 0.653</td> <td>   -7.107</td> <td>   11.337</td>\n",
              "</tr>\n",
              "<tr>\n",
              "  <th>x6</th>    <td>   17.1104</td> <td>    4.421</td> <td>    3.870</td> <td> 0.000</td> <td>    8.445</td> <td>   25.776</td>\n",
              "</tr>\n",
              "<tr>\n",
              "  <th>x7</th>    <td>   10.4177</td> <td>    4.445</td> <td>    2.344</td> <td> 0.019</td> <td>    1.706</td> <td>   19.129</td>\n",
              "</tr>\n",
              "<tr>\n",
              "  <th>x8</th>    <td>  -12.8543</td> <td>    4.588</td> <td>   -2.802</td> <td> 0.005</td> <td>  -21.846</td> <td>   -3.862</td>\n",
              "</tr>\n",
              "<tr>\n",
              "  <th>x9</th>    <td>   -7.4971</td> <td>    4.456</td> <td>   -1.683</td> <td> 0.092</td> <td>  -16.230</td> <td>    1.236</td>\n",
              "</tr>\n",
              "<tr>\n",
              "  <th>x10</th>   <td>    7.5254</td> <td>    5.008</td> <td>    1.503</td> <td> 0.133</td> <td>   -2.290</td> <td>   17.341</td>\n",
              "</tr>\n",
              "<tr>\n",
              "  <th>x11</th>   <td>   26.5573</td> <td>    4.516</td> <td>    5.881</td> <td> 0.000</td> <td>   17.707</td> <td>   35.408</td>\n",
              "</tr>\n",
              "<tr>\n",
              "  <th>x12</th>   <td>   13.9576</td> <td>    4.666</td> <td>    2.991</td> <td> 0.003</td> <td>    4.812</td> <td>   23.103</td>\n",
              "</tr>\n",
              "<tr>\n",
              "  <th>x13</th>   <td>  -15.9343</td> <td>    4.679</td> <td>   -3.405</td> <td> 0.001</td> <td>  -25.106</td> <td>   -6.763</td>\n",
              "</tr>\n",
              "<tr>\n",
              "  <th>x14</th>   <td>    2.5593</td> <td>    4.547</td> <td>    0.563</td> <td> 0.574</td> <td>   -6.354</td> <td>   11.472</td>\n",
              "</tr>\n",
              "<tr>\n",
              "  <th>x15</th>   <td>    3.2674</td> <td>    4.221</td> <td>    0.774</td> <td> 0.439</td> <td>   -5.005</td> <td>   11.540</td>\n",
              "</tr>\n",
              "<tr>\n",
              "  <th>x16</th>   <td>   -7.4259</td> <td>    4.632</td> <td>   -1.603</td> <td> 0.109</td> <td>  -16.504</td> <td>    1.652</td>\n",
              "</tr>\n",
              "<tr>\n",
              "  <th>x17</th>   <td>   32.1711</td> <td>    4.265</td> <td>    7.543</td> <td> 0.000</td> <td>   23.812</td> <td>   40.530</td>\n",
              "</tr>\n",
              "<tr>\n",
              "  <th>x18</th>   <td>   11.9457</td> <td>    4.148</td> <td>    2.880</td> <td> 0.004</td> <td>    3.816</td> <td>   20.075</td>\n",
              "</tr>\n",
              "<tr>\n",
              "  <th>x19</th>   <td>    6.7650</td> <td>    4.563</td> <td>    1.483</td> <td> 0.138</td> <td>   -2.178</td> <td>   15.708</td>\n",
              "</tr>\n",
              "<tr>\n",
              "  <th>x20</th>   <td>  -12.0289</td> <td>    4.516</td> <td>   -2.663</td> <td> 0.008</td> <td>  -20.881</td> <td>   -3.177</td>\n",
              "</tr>\n",
              "<tr>\n",
              "  <th>x21</th>   <td>  -28.3599</td> <td>    4.177</td> <td>   -6.790</td> <td> 0.000</td> <td>  -36.546</td> <td>  -20.174</td>\n",
              "</tr>\n",
              "<tr>\n",
              "  <th>x22</th>   <td>  -33.8593</td> <td>    4.391</td> <td>   -7.711</td> <td> 0.000</td> <td>  -42.466</td> <td>  -25.253</td>\n",
              "</tr>\n",
              "<tr>\n",
              "  <th>x23</th>   <td>   15.2983</td> <td>    4.289</td> <td>    3.567</td> <td> 0.000</td> <td>    6.892</td> <td>   23.704</td>\n",
              "</tr>\n",
              "<tr>\n",
              "  <th>x24</th>   <td>    3.7285</td> <td>    4.227</td> <td>    0.882</td> <td> 0.378</td> <td>   -4.557</td> <td>   12.014</td>\n",
              "</tr>\n",
              "<tr>\n",
              "  <th>x25</th>   <td>   -8.0674</td> <td>    4.365</td> <td>   -1.848</td> <td> 0.065</td> <td>  -16.623</td> <td>    0.488</td>\n",
              "</tr>\n",
              "<tr>\n",
              "  <th>x26</th>   <td>  -35.0045</td> <td>    4.474</td> <td>   -7.823</td> <td> 0.000</td> <td>  -43.774</td> <td>  -26.235</td>\n",
              "</tr>\n",
              "<tr>\n",
              "  <th>x27</th>   <td>   26.7665</td> <td>    4.671</td> <td>    5.730</td> <td> 0.000</td> <td>   17.612</td> <td>   35.921</td>\n",
              "</tr>\n",
              "<tr>\n",
              "  <th>x28</th>   <td>   -4.5739</td> <td>    4.695</td> <td>   -0.974</td> <td> 0.330</td> <td>  -13.776</td> <td>    4.628</td>\n",
              "</tr>\n",
              "<tr>\n",
              "  <th>x29</th>   <td>  -12.2743</td> <td>    4.535</td> <td>   -2.707</td> <td> 0.007</td> <td>  -21.162</td> <td>   -3.386</td>\n",
              "</tr>\n",
              "<tr>\n",
              "  <th>x30</th>   <td>   14.4107</td> <td>    4.518</td> <td>    3.190</td> <td> 0.001</td> <td>    5.557</td> <td>   23.265</td>\n",
              "</tr>\n",
              "<tr>\n",
              "  <th>x31</th>   <td>  -15.5540</td> <td>    4.349</td> <td>   -3.576</td> <td> 0.000</td> <td>  -24.078</td> <td>   -7.030</td>\n",
              "</tr>\n",
              "<tr>\n",
              "  <th>x32</th>   <td>    3.3272</td> <td>    4.481</td> <td>    0.743</td> <td> 0.458</td> <td>   -5.455</td> <td>   12.109</td>\n",
              "</tr>\n",
              "<tr>\n",
              "  <th>x33</th>   <td>   10.4639</td> <td>    4.439</td> <td>    2.357</td> <td> 0.018</td> <td>    1.764</td> <td>   19.164</td>\n",
              "</tr>\n",
              "<tr>\n",
              "  <th>x34</th>   <td>   -4.1533</td> <td>    4.597</td> <td>   -0.903</td> <td> 0.366</td> <td>  -13.164</td> <td>    4.857</td>\n",
              "</tr>\n",
              "<tr>\n",
              "  <th>x35</th>   <td>    0.5847</td> <td>    4.251</td> <td>    0.138</td> <td> 0.891</td> <td>   -7.748</td> <td>    8.917</td>\n",
              "</tr>\n",
              "<tr>\n",
              "  <th>x36</th>   <td>    2.3401</td> <td>    4.431</td> <td>    0.528</td> <td> 0.597</td> <td>   -6.344</td> <td>   11.025</td>\n",
              "</tr>\n",
              "<tr>\n",
              "  <th>x37</th>   <td>   -8.4964</td> <td>    4.437</td> <td>   -1.915</td> <td> 0.055</td> <td>  -17.193</td> <td>    0.200</td>\n",
              "</tr>\n",
              "<tr>\n",
              "  <th>x38</th>   <td>   -1.7920</td> <td>    4.630</td> <td>   -0.387</td> <td> 0.699</td> <td>  -10.866</td> <td>    7.282</td>\n",
              "</tr>\n",
              "<tr>\n",
              "  <th>x39</th>   <td>    4.7964</td> <td>    4.677</td> <td>    1.025</td> <td> 0.305</td> <td>   -4.371</td> <td>   13.964</td>\n",
              "</tr>\n",
              "<tr>\n",
              "  <th>x40</th>   <td>    3.1945</td> <td>    4.349</td> <td>    0.734</td> <td> 0.463</td> <td>   -5.330</td> <td>   11.719</td>\n",
              "</tr>\n",
              "<tr>\n",
              "  <th>x41</th>   <td>  -26.5254</td> <td>    4.467</td> <td>   -5.939</td> <td> 0.000</td> <td>  -35.280</td> <td>  -17.771</td>\n",
              "</tr>\n",
              "<tr>\n",
              "  <th>x42</th>   <td>    0.1351</td> <td>    4.376</td> <td>    0.031</td> <td> 0.975</td> <td>   -8.442</td> <td>    8.712</td>\n",
              "</tr>\n",
              "<tr>\n",
              "  <th>x43</th>   <td>   -0.1954</td> <td>    4.480</td> <td>   -0.044</td> <td> 0.965</td> <td>   -8.976</td> <td>    8.585</td>\n",
              "</tr>\n",
              "<tr>\n",
              "  <th>x44</th>   <td>   15.3844</td> <td>    4.588</td> <td>    3.353</td> <td> 0.001</td> <td>    6.392</td> <td>   24.377</td>\n",
              "</tr>\n",
              "<tr>\n",
              "  <th>x45</th>   <td>    9.9525</td> <td>    4.268</td> <td>    2.332</td> <td> 0.020</td> <td>    1.587</td> <td>   18.318</td>\n",
              "</tr>\n",
              "<tr>\n",
              "  <th>x46</th>   <td>   16.4079</td> <td>    4.395</td> <td>    3.734</td> <td> 0.000</td> <td>    7.795</td> <td>   25.021</td>\n",
              "</tr>\n",
              "<tr>\n",
              "  <th>x47</th>   <td>  -15.0897</td> <td>    4.513</td> <td>   -3.343</td> <td> 0.001</td> <td>  -23.936</td> <td>   -6.244</td>\n",
              "</tr>\n",
              "<tr>\n",
              "  <th>x48</th>   <td>  -22.1963</td> <td>    4.412</td> <td>   -5.031</td> <td> 0.000</td> <td>  -30.843</td> <td>  -13.549</td>\n",
              "</tr>\n",
              "<tr>\n",
              "  <th>x49</th>   <td>  -17.5648</td> <td>    4.395</td> <td>   -3.996</td> <td> 0.000</td> <td>  -26.179</td> <td>   -8.950</td>\n",
              "</tr>\n",
              "<tr>\n",
              "  <th>x50</th>   <td>   -6.6293</td> <td>    4.625</td> <td>   -1.433</td> <td> 0.152</td> <td>  -15.695</td> <td>    2.436</td>\n",
              "</tr>\n",
              "<tr>\n",
              "  <th>x51</th>   <td>   18.8964</td> <td>    4.364</td> <td>    4.330</td> <td> 0.000</td> <td>   10.343</td> <td>   27.450</td>\n",
              "</tr>\n",
              "<tr>\n",
              "  <th>x52</th>   <td>  -16.8371</td> <td>    4.551</td> <td>   -3.700</td> <td> 0.000</td> <td>  -25.756</td> <td>   -7.918</td>\n",
              "</tr>\n",
              "<tr>\n",
              "  <th>x53</th>   <td>   13.1404</td> <td>    4.559</td> <td>    2.883</td> <td> 0.004</td> <td>    4.206</td> <td>   22.075</td>\n",
              "</tr>\n",
              "<tr>\n",
              "  <th>x54</th>   <td>  -15.3269</td> <td>    4.359</td> <td>   -3.516</td> <td> 0.000</td> <td>  -23.871</td> <td>   -6.783</td>\n",
              "</tr>\n",
              "<tr>\n",
              "  <th>x55</th>   <td>  -14.4775</td> <td>    4.565</td> <td>   -3.171</td> <td> 0.002</td> <td>  -23.425</td> <td>   -5.530</td>\n",
              "</tr>\n",
              "<tr>\n",
              "  <th>x56</th>   <td>   10.1258</td> <td>    4.185</td> <td>    2.420</td> <td> 0.016</td> <td>    1.924</td> <td>   18.328</td>\n",
              "</tr>\n",
              "<tr>\n",
              "  <th>x57</th>   <td>   -1.1862</td> <td>    4.528</td> <td>   -0.262</td> <td> 0.793</td> <td>  -10.060</td> <td>    7.687</td>\n",
              "</tr>\n",
              "<tr>\n",
              "  <th>x58</th>   <td>    1.7499</td> <td>    4.595</td> <td>    0.381</td> <td> 0.703</td> <td>   -7.256</td> <td>   10.756</td>\n",
              "</tr>\n",
              "<tr>\n",
              "  <th>x59</th>   <td>   -5.8646</td> <td>    4.478</td> <td>   -1.310</td> <td> 0.190</td> <td>  -14.641</td> <td>    2.912</td>\n",
              "</tr>\n",
              "<tr>\n",
              "  <th>x60</th>   <td>  -16.7394</td> <td>    4.744</td> <td>   -3.529</td> <td> 0.000</td> <td>  -26.037</td> <td>   -7.442</td>\n",
              "</tr>\n",
              "<tr>\n",
              "  <th>x61</th>   <td>   -5.6318</td> <td>    4.584</td> <td>   -1.229</td> <td> 0.219</td> <td>  -14.616</td> <td>    3.353</td>\n",
              "</tr>\n",
              "<tr>\n",
              "  <th>x62</th>   <td>   -4.3360</td> <td>    4.413</td> <td>   -0.982</td> <td> 0.326</td> <td>  -12.986</td> <td>    4.314</td>\n",
              "</tr>\n",
              "<tr>\n",
              "  <th>x63</th>   <td>  -16.8243</td> <td>    4.738</td> <td>   -3.551</td> <td> 0.000</td> <td>  -26.110</td> <td>   -7.538</td>\n",
              "</tr>\n",
              "<tr>\n",
              "  <th>x64</th>   <td>   -3.7467</td> <td>    4.400</td> <td>   -0.852</td> <td> 0.394</td> <td>  -12.370</td> <td>    4.877</td>\n",
              "</tr>\n",
              "<tr>\n",
              "  <th>x65</th>   <td>    8.2001</td> <td>    4.656</td> <td>    1.761</td> <td> 0.078</td> <td>   -0.925</td> <td>   17.325</td>\n",
              "</tr>\n",
              "<tr>\n",
              "  <th>x66</th>   <td>   59.1187</td> <td>    4.650</td> <td>   12.713</td> <td> 0.000</td> <td>   50.004</td> <td>   68.233</td>\n",
              "</tr>\n",
              "<tr>\n",
              "  <th>x67</th>   <td>   28.6765</td> <td>    4.617</td> <td>    6.211</td> <td> 0.000</td> <td>   19.627</td> <td>   37.726</td>\n",
              "</tr>\n",
              "<tr>\n",
              "  <th>x68</th>   <td>  -38.0510</td> <td>    4.192</td> <td>   -9.077</td> <td> 0.000</td> <td>  -46.267</td> <td>  -29.835</td>\n",
              "</tr>\n",
              "<tr>\n",
              "  <th>x69</th>   <td>    6.2436</td> <td>    4.538</td> <td>    1.376</td> <td> 0.169</td> <td>   -2.651</td> <td>   15.139</td>\n",
              "</tr>\n",
              "<tr>\n",
              "  <th>x70</th>   <td>   13.6487</td> <td>    4.720</td> <td>    2.892</td> <td> 0.004</td> <td>    4.398</td> <td>   22.900</td>\n",
              "</tr>\n",
              "<tr>\n",
              "  <th>x71</th>   <td>   -0.2149</td> <td>    4.265</td> <td>   -0.050</td> <td> 0.960</td> <td>   -8.573</td> <td>    8.144</td>\n",
              "</tr>\n",
              "<tr>\n",
              "  <th>x72</th>   <td>    2.8029</td> <td>    4.598</td> <td>    0.610</td> <td> 0.542</td> <td>   -6.208</td> <td>   11.814</td>\n",
              "</tr>\n",
              "<tr>\n",
              "  <th>x73</th>   <td>   -3.1694</td> <td>    4.423</td> <td>   -0.717</td> <td> 0.474</td> <td>  -11.838</td> <td>    5.499</td>\n",
              "</tr>\n",
              "<tr>\n",
              "  <th>x74</th>   <td>   31.1431</td> <td>    4.439</td> <td>    7.016</td> <td> 0.000</td> <td>   22.443</td> <td>   39.843</td>\n",
              "</tr>\n",
              "<tr>\n",
              "  <th>x75</th>   <td>  -13.7669</td> <td>    4.459</td> <td>   -3.087</td> <td> 0.002</td> <td>  -22.506</td> <td>   -5.027</td>\n",
              "</tr>\n",
              "<tr>\n",
              "  <th>x76</th>   <td>   19.8825</td> <td>    4.254</td> <td>    4.674</td> <td> 0.000</td> <td>   11.545</td> <td>   28.220</td>\n",
              "</tr>\n",
              "<tr>\n",
              "  <th>x77</th>   <td>  -19.6069</td> <td>    4.232</td> <td>   -4.633</td> <td> 0.000</td> <td>  -27.902</td> <td>  -11.312</td>\n",
              "</tr>\n",
              "<tr>\n",
              "  <th>x78</th>   <td>   -7.5241</td> <td>    4.256</td> <td>   -1.768</td> <td> 0.077</td> <td>  -15.865</td> <td>    0.817</td>\n",
              "</tr>\n",
              "<tr>\n",
              "  <th>x79</th>   <td>   10.8098</td> <td>    4.823</td> <td>    2.241</td> <td> 0.025</td> <td>    1.357</td> <td>   20.263</td>\n",
              "</tr>\n",
              "<tr>\n",
              "  <th>x80</th>   <td>   12.4427</td> <td>    4.169</td> <td>    2.985</td> <td> 0.003</td> <td>    4.272</td> <td>   20.613</td>\n",
              "</tr>\n",
              "<tr>\n",
              "  <th>x81</th>   <td>   -5.2464</td> <td>    4.624</td> <td>   -1.134</td> <td> 0.257</td> <td>  -14.310</td> <td>    3.817</td>\n",
              "</tr>\n",
              "<tr>\n",
              "  <th>x82</th>   <td>   30.3021</td> <td>    4.691</td> <td>    6.459</td> <td> 0.000</td> <td>   21.107</td> <td>   39.497</td>\n",
              "</tr>\n",
              "<tr>\n",
              "  <th>x83</th>   <td>    8.2080</td> <td>    4.780</td> <td>    1.717</td> <td> 0.086</td> <td>   -1.160</td> <td>   17.576</td>\n",
              "</tr>\n",
              "<tr>\n",
              "  <th>x84</th>   <td>   -8.0362</td> <td>    4.514</td> <td>   -1.780</td> <td> 0.075</td> <td>  -16.883</td> <td>    0.811</td>\n",
              "</tr>\n",
              "<tr>\n",
              "  <th>x85</th>   <td>    3.5822</td> <td>    4.297</td> <td>    0.834</td> <td> 0.404</td> <td>   -4.839</td> <td>   12.004</td>\n",
              "</tr>\n",
              "<tr>\n",
              "  <th>x86</th>   <td>    5.5627</td> <td>    4.332</td> <td>    1.284</td> <td> 0.199</td> <td>   -2.929</td> <td>   14.054</td>\n",
              "</tr>\n",
              "<tr>\n",
              "  <th>x87</th>   <td>   21.0443</td> <td>    4.675</td> <td>    4.501</td> <td> 0.000</td> <td>   11.882</td> <td>   30.207</td>\n",
              "</tr>\n",
              "<tr>\n",
              "  <th>x88</th>   <td>    8.0577</td> <td>    4.522</td> <td>    1.782</td> <td> 0.075</td> <td>   -0.806</td> <td>   16.921</td>\n",
              "</tr>\n",
              "<tr>\n",
              "  <th>x89</th>   <td>  -18.5565</td> <td>    4.536</td> <td>   -4.091</td> <td> 0.000</td> <td>  -27.447</td> <td>   -9.666</td>\n",
              "</tr>\n",
              "<tr>\n",
              "  <th>x90</th>   <td>   12.7763</td> <td>    4.671</td> <td>    2.735</td> <td> 0.006</td> <td>    3.620</td> <td>   21.932</td>\n",
              "</tr>\n",
              "<tr>\n",
              "  <th>x91</th>   <td>   33.5188</td> <td>    4.525</td> <td>    7.407</td> <td> 0.000</td> <td>   24.649</td> <td>   42.388</td>\n",
              "</tr>\n",
              "<tr>\n",
              "  <th>x92</th>   <td>   -6.6054</td> <td>    4.305</td> <td>   -1.534</td> <td> 0.125</td> <td>  -15.043</td> <td>    1.832</td>\n",
              "</tr>\n",
              "<tr>\n",
              "  <th>x93</th>   <td>   21.7586</td> <td>    4.586</td> <td>    4.744</td> <td> 0.000</td> <td>   12.770</td> <td>   30.747</td>\n",
              "</tr>\n",
              "<tr>\n",
              "  <th>x94</th>   <td>   15.9211</td> <td>    4.210</td> <td>    3.782</td> <td> 0.000</td> <td>    7.670</td> <td>   24.172</td>\n",
              "</tr>\n",
              "<tr>\n",
              "  <th>x95</th>   <td>   -3.4520</td> <td>    4.648</td> <td>   -0.743</td> <td> 0.458</td> <td>  -12.561</td> <td>    5.657</td>\n",
              "</tr>\n",
              "<tr>\n",
              "  <th>x96</th>   <td>    4.2810</td> <td>    4.427</td> <td>    0.967</td> <td> 0.334</td> <td>   -4.395</td> <td>   12.957</td>\n",
              "</tr>\n",
              "<tr>\n",
              "  <th>x97</th>   <td>    7.4063</td> <td>    4.554</td> <td>    1.626</td> <td> 0.104</td> <td>   -1.519</td> <td>   16.331</td>\n",
              "</tr>\n",
              "<tr>\n",
              "  <th>x98</th>   <td>    1.1656</td> <td>    4.454</td> <td>    0.262</td> <td> 0.794</td> <td>   -7.565</td> <td>    9.896</td>\n",
              "</tr>\n",
              "<tr>\n",
              "  <th>x99</th>   <td>  -31.1772</td> <td>    4.808</td> <td>   -6.484</td> <td> 0.000</td> <td>  -40.601</td> <td>  -21.753</td>\n",
              "</tr>\n",
              "<tr>\n",
              "  <th>x100</th>  <td>  -18.7490</td> <td>    4.340</td> <td>   -4.320</td> <td> 0.000</td> <td>  -27.256</td> <td>  -10.242</td>\n",
              "</tr>\n",
              "<tr>\n",
              "  <th>x101</th>  <td>    7.9255</td> <td>    4.439</td> <td>    1.785</td> <td> 0.074</td> <td>   -0.776</td> <td>   16.627</td>\n",
              "</tr>\n",
              "<tr>\n",
              "  <th>x102</th>  <td>   31.8568</td> <td>    4.503</td> <td>    7.075</td> <td> 0.000</td> <td>   23.031</td> <td>   40.682</td>\n",
              "</tr>\n",
              "<tr>\n",
              "  <th>x103</th>  <td>   19.3825</td> <td>    4.614</td> <td>    4.201</td> <td> 0.000</td> <td>   10.339</td> <td>   28.426</td>\n",
              "</tr>\n",
              "<tr>\n",
              "  <th>x104</th>  <td>  -14.5019</td> <td>    4.510</td> <td>   -3.216</td> <td> 0.001</td> <td>  -23.341</td> <td>   -5.663</td>\n",
              "</tr>\n",
              "<tr>\n",
              "  <th>x105</th>  <td>   21.8901</td> <td>    4.591</td> <td>    4.768</td> <td> 0.000</td> <td>   12.891</td> <td>   30.889</td>\n",
              "</tr>\n",
              "<tr>\n",
              "  <th>x106</th>  <td>    6.8019</td> <td>    4.545</td> <td>    1.497</td> <td> 0.135</td> <td>   -2.106</td> <td>   15.710</td>\n",
              "</tr>\n",
              "<tr>\n",
              "  <th>x107</th>  <td>  -15.6232</td> <td>    4.462</td> <td>   -3.502</td> <td> 0.000</td> <td>  -24.368</td> <td>   -6.879</td>\n",
              "</tr>\n",
              "<tr>\n",
              "  <th>x108</th>  <td>   10.2284</td> <td>    4.610</td> <td>    2.219</td> <td> 0.027</td> <td>    1.192</td> <td>   19.265</td>\n",
              "</tr>\n",
              "<tr>\n",
              "  <th>x109</th>  <td>    0.2058</td> <td>    4.496</td> <td>    0.046</td> <td> 0.963</td> <td>   -8.605</td> <td>    9.017</td>\n",
              "</tr>\n",
              "<tr>\n",
              "  <th>x110</th>  <td>   10.1356</td> <td>    4.481</td> <td>    2.262</td> <td> 0.024</td> <td>    1.353</td> <td>   18.919</td>\n",
              "</tr>\n",
              "<tr>\n",
              "  <th>x111</th>  <td>    4.3653</td> <td>    4.582</td> <td>    0.953</td> <td> 0.341</td> <td>   -4.616</td> <td>   13.347</td>\n",
              "</tr>\n",
              "<tr>\n",
              "  <th>x112</th>  <td>    9.2147</td> <td>    4.452</td> <td>    2.070</td> <td> 0.038</td> <td>    0.489</td> <td>   17.940</td>\n",
              "</tr>\n",
              "<tr>\n",
              "  <th>x113</th>  <td>    5.6221</td> <td>    4.544</td> <td>    1.237</td> <td> 0.216</td> <td>   -3.285</td> <td>   14.529</td>\n",
              "</tr>\n",
              "<tr>\n",
              "  <th>x114</th>  <td>   22.5365</td> <td>    4.828</td> <td>    4.668</td> <td> 0.000</td> <td>   13.074</td> <td>   31.999</td>\n",
              "</tr>\n",
              "<tr>\n",
              "  <th>x115</th>  <td>  -12.8850</td> <td>    4.537</td> <td>   -2.840</td> <td> 0.005</td> <td>  -21.778</td> <td>   -3.992</td>\n",
              "</tr>\n",
              "<tr>\n",
              "  <th>x116</th>  <td>   -5.2267</td> <td>    4.564</td> <td>   -1.145</td> <td> 0.252</td> <td>  -14.172</td> <td>    3.719</td>\n",
              "</tr>\n",
              "<tr>\n",
              "  <th>x117</th>  <td>   -9.9256</td> <td>    4.528</td> <td>   -2.192</td> <td> 0.028</td> <td>  -18.800</td> <td>   -1.051</td>\n",
              "</tr>\n",
              "<tr>\n",
              "  <th>x118</th>  <td>   -9.8839</td> <td>    4.472</td> <td>   -2.210</td> <td> 0.027</td> <td>  -18.649</td> <td>   -1.119</td>\n",
              "</tr>\n",
              "<tr>\n",
              "  <th>x119</th>  <td>   -7.6609</td> <td>    4.300</td> <td>   -1.782</td> <td> 0.075</td> <td>  -16.089</td> <td>    0.767</td>\n",
              "</tr>\n",
              "<tr>\n",
              "  <th>x120</th>  <td>   -2.8923</td> <td>    4.519</td> <td>   -0.640</td> <td> 0.522</td> <td>  -11.750</td> <td>    5.965</td>\n",
              "</tr>\n",
              "<tr>\n",
              "  <th>x121</th>  <td>   21.3350</td> <td>    4.511</td> <td>    4.730</td> <td> 0.000</td> <td>   12.494</td> <td>   30.176</td>\n",
              "</tr>\n",
              "<tr>\n",
              "  <th>x122</th>  <td>  -13.8699</td> <td>    4.188</td> <td>   -3.312</td> <td> 0.001</td> <td>  -22.078</td> <td>   -5.662</td>\n",
              "</tr>\n",
              "<tr>\n",
              "  <th>x123</th>  <td>   -3.1291</td> <td>    4.608</td> <td>   -0.679</td> <td> 0.497</td> <td>  -12.160</td> <td>    5.902</td>\n",
              "</tr>\n",
              "<tr>\n",
              "  <th>x124</th>  <td>   13.0877</td> <td>    4.615</td> <td>    2.836</td> <td> 0.005</td> <td>    4.043</td> <td>   22.133</td>\n",
              "</tr>\n",
              "<tr>\n",
              "  <th>x125</th>  <td>   12.9048</td> <td>    4.150</td> <td>    3.110</td> <td> 0.002</td> <td>    4.772</td> <td>   21.038</td>\n",
              "</tr>\n",
              "<tr>\n",
              "  <th>x126</th>  <td>  -19.5731</td> <td>    4.368</td> <td>   -4.481</td> <td> 0.000</td> <td>  -28.135</td> <td>  -11.011</td>\n",
              "</tr>\n",
              "<tr>\n",
              "  <th>x127</th>  <td>   18.8572</td> <td>    4.708</td> <td>    4.005</td> <td> 0.000</td> <td>    9.630</td> <td>   28.084</td>\n",
              "</tr>\n",
              "<tr>\n",
              "  <th>x128</th>  <td>    7.2817</td> <td>    4.720</td> <td>    1.543</td> <td> 0.123</td> <td>   -1.969</td> <td>   16.532</td>\n",
              "</tr>\n",
              "<tr>\n",
              "  <th>x129</th>  <td>    4.7934</td> <td>    4.406</td> <td>    1.088</td> <td> 0.277</td> <td>   -3.842</td> <td>   13.429</td>\n",
              "</tr>\n",
              "<tr>\n",
              "  <th>x130</th>  <td>  -15.4658</td> <td>    4.471</td> <td>   -3.459</td> <td> 0.001</td> <td>  -24.230</td> <td>   -6.702</td>\n",
              "</tr>\n",
              "<tr>\n",
              "  <th>x131</th>  <td>   -3.1882</td> <td>    4.594</td> <td>   -0.694</td> <td> 0.488</td> <td>  -12.191</td> <td>    5.815</td>\n",
              "</tr>\n",
              "<tr>\n",
              "  <th>x132</th>  <td>   -0.9711</td> <td>    4.403</td> <td>   -0.221</td> <td> 0.825</td> <td>   -9.600</td> <td>    7.658</td>\n",
              "</tr>\n",
              "<tr>\n",
              "  <th>x133</th>  <td>    2.9647</td> <td>    4.472</td> <td>    0.663</td> <td> 0.507</td> <td>   -5.800</td> <td>   11.729</td>\n",
              "</tr>\n",
              "<tr>\n",
              "  <th>x134</th>  <td>    2.6373</td> <td>    4.667</td> <td>    0.565</td> <td> 0.572</td> <td>   -6.509</td> <td>   11.784</td>\n",
              "</tr>\n",
              "<tr>\n",
              "  <th>x135</th>  <td>  -14.7493</td> <td>    4.569</td> <td>   -3.228</td> <td> 0.001</td> <td>  -23.704</td> <td>   -5.795</td>\n",
              "</tr>\n",
              "<tr>\n",
              "  <th>x136</th>  <td>    0.1257</td> <td>    4.349</td> <td>    0.029</td> <td> 0.977</td> <td>   -8.398</td> <td>    8.650</td>\n",
              "</tr>\n",
              "<tr>\n",
              "  <th>x137</th>  <td>    2.7011</td> <td>    4.676</td> <td>    0.578</td> <td> 0.563</td> <td>   -6.463</td> <td>   11.865</td>\n",
              "</tr>\n",
              "<tr>\n",
              "  <th>x138</th>  <td>  -18.8631</td> <td>    4.303</td> <td>   -4.383</td> <td> 0.000</td> <td>  -27.298</td> <td>  -10.429</td>\n",
              "</tr>\n",
              "<tr>\n",
              "  <th>x139</th>  <td>    2.6911</td> <td>    4.500</td> <td>    0.598</td> <td> 0.550</td> <td>   -6.130</td> <td>   11.512</td>\n",
              "</tr>\n",
              "<tr>\n",
              "  <th>x140</th>  <td>  -25.5953</td> <td>    4.486</td> <td>   -5.705</td> <td> 0.000</td> <td>  -34.388</td> <td>  -16.802</td>\n",
              "</tr>\n",
              "<tr>\n",
              "  <th>x141</th>  <td>  -10.8450</td> <td>    4.540</td> <td>   -2.389</td> <td> 0.017</td> <td>  -19.744</td> <td>   -1.946</td>\n",
              "</tr>\n",
              "<tr>\n",
              "  <th>x142</th>  <td>  -18.9757</td> <td>    4.473</td> <td>   -4.242</td> <td> 0.000</td> <td>  -27.743</td> <td>  -10.208</td>\n",
              "</tr>\n",
              "<tr>\n",
              "  <th>x143</th>  <td>    5.3700</td> <td>    4.453</td> <td>    1.206</td> <td> 0.228</td> <td>   -3.357</td> <td>   14.097</td>\n",
              "</tr>\n",
              "<tr>\n",
              "  <th>x144</th>  <td>    2.6949</td> <td>    4.499</td> <td>    0.599</td> <td> 0.549</td> <td>   -6.123</td> <td>   11.513</td>\n",
              "</tr>\n",
              "<tr>\n",
              "  <th>x145</th>  <td>   30.4525</td> <td>    4.384</td> <td>    6.946</td> <td> 0.000</td> <td>   21.860</td> <td>   39.045</td>\n",
              "</tr>\n",
              "<tr>\n",
              "  <th>x146</th>  <td>  -14.7604</td> <td>    4.592</td> <td>   -3.214</td> <td> 0.001</td> <td>  -23.761</td> <td>   -5.759</td>\n",
              "</tr>\n",
              "<tr>\n",
              "  <th>x147</th>  <td>   23.4491</td> <td>    4.344</td> <td>    5.398</td> <td> 0.000</td> <td>   14.935</td> <td>   31.964</td>\n",
              "</tr>\n",
              "<tr>\n",
              "  <th>x148</th>  <td>  -36.3240</td> <td>    4.548</td> <td>   -7.987</td> <td> 0.000</td> <td>  -45.238</td> <td>  -27.410</td>\n",
              "</tr>\n",
              "<tr>\n",
              "  <th>x149</th>  <td>   -5.7332</td> <td>    4.339</td> <td>   -1.321</td> <td> 0.186</td> <td>  -14.237</td> <td>    2.771</td>\n",
              "</tr>\n",
              "<tr>\n",
              "  <th>x150</th>  <td>    2.2424</td> <td>    4.580</td> <td>    0.490</td> <td> 0.624</td> <td>   -6.734</td> <td>   11.218</td>\n",
              "</tr>\n",
              "<tr>\n",
              "  <th>x151</th>  <td>   -9.6552</td> <td>    4.534</td> <td>   -2.130</td> <td> 0.033</td> <td>  -18.541</td> <td>   -0.769</td>\n",
              "</tr>\n",
              "<tr>\n",
              "  <th>x152</th>  <td>    7.5791</td> <td>    4.220</td> <td>    1.796</td> <td> 0.073</td> <td>   -0.692</td> <td>   15.851</td>\n",
              "</tr>\n",
              "<tr>\n",
              "  <th>x153</th>  <td>    1.4618</td> <td>    4.229</td> <td>    0.346</td> <td> 0.730</td> <td>   -6.826</td> <td>    9.750</td>\n",
              "</tr>\n",
              "<tr>\n",
              "  <th>x154</th>  <td>  -22.8454</td> <td>    4.305</td> <td>   -5.307</td> <td> 0.000</td> <td>  -31.283</td> <td>  -14.408</td>\n",
              "</tr>\n",
              "<tr>\n",
              "  <th>x155</th>  <td>    8.9950</td> <td>    4.641</td> <td>    1.938</td> <td> 0.053</td> <td>   -0.101</td> <td>   18.091</td>\n",
              "</tr>\n",
              "<tr>\n",
              "  <th>x156</th>  <td>  -19.9681</td> <td>    4.477</td> <td>   -4.461</td> <td> 0.000</td> <td>  -28.742</td> <td>  -11.194</td>\n",
              "</tr>\n",
              "<tr>\n",
              "  <th>x157</th>  <td>   15.1605</td> <td>    4.712</td> <td>    3.217</td> <td> 0.001</td> <td>    5.925</td> <td>   24.396</td>\n",
              "</tr>\n",
              "<tr>\n",
              "  <th>x158</th>  <td>   -6.0526</td> <td>    4.309</td> <td>   -1.405</td> <td> 0.160</td> <td>  -14.498</td> <td>    2.393</td>\n",
              "</tr>\n",
              "<tr>\n",
              "  <th>x159</th>  <td>    9.2393</td> <td>    4.751</td> <td>    1.945</td> <td> 0.052</td> <td>   -0.073</td> <td>   18.552</td>\n",
              "</tr>\n",
              "<tr>\n",
              "  <th>x160</th>  <td>   31.9755</td> <td>    4.406</td> <td>    7.257</td> <td> 0.000</td> <td>   23.339</td> <td>   40.612</td>\n",
              "</tr>\n",
              "<tr>\n",
              "  <th>x161</th>  <td>   -5.4402</td> <td>    4.422</td> <td>   -1.230</td> <td> 0.219</td> <td>  -14.108</td> <td>    3.227</td>\n",
              "</tr>\n",
              "<tr>\n",
              "  <th>x162</th>  <td>   13.2097</td> <td>    4.612</td> <td>    2.865</td> <td> 0.004</td> <td>    4.171</td> <td>   22.248</td>\n",
              "</tr>\n",
              "<tr>\n",
              "  <th>x163</th>  <td>   12.7294</td> <td>    4.459</td> <td>    2.855</td> <td> 0.004</td> <td>    3.991</td> <td>   21.468</td>\n",
              "</tr>\n",
              "<tr>\n",
              "  <th>x164</th>  <td>   -6.6728</td> <td>    4.212</td> <td>   -1.584</td> <td> 0.113</td> <td>  -14.929</td> <td>    1.583</td>\n",
              "</tr>\n",
              "<tr>\n",
              "  <th>x165</th>  <td>    1.6795</td> <td>    4.488</td> <td>    0.374</td> <td> 0.708</td> <td>   -7.116</td> <td>   10.475</td>\n",
              "</tr>\n",
              "<tr>\n",
              "  <th>x166</th>  <td>    3.8570</td> <td>    4.388</td> <td>    0.879</td> <td> 0.379</td> <td>   -4.743</td> <td>   12.457</td>\n",
              "</tr>\n",
              "<tr>\n",
              "  <th>x167</th>  <td>  -33.9616</td> <td>    4.880</td> <td>   -6.959</td> <td> 0.000</td> <td>  -43.526</td> <td>  -24.397</td>\n",
              "</tr>\n",
              "<tr>\n",
              "  <th>x168</th>  <td>    4.9357</td> <td>    4.756</td> <td>    1.038</td> <td> 0.299</td> <td>   -4.385</td> <td>   14.257</td>\n",
              "</tr>\n",
              "<tr>\n",
              "  <th>x169</th>  <td>    1.5045</td> <td>    4.753</td> <td>    0.317</td> <td> 0.752</td> <td>   -7.811</td> <td>   10.820</td>\n",
              "</tr>\n",
              "<tr>\n",
              "  <th>x170</th>  <td>   -5.0842</td> <td>    4.575</td> <td>   -1.111</td> <td> 0.266</td> <td>  -14.052</td> <td>    3.883</td>\n",
              "</tr>\n",
              "<tr>\n",
              "  <th>x171</th>  <td>  -15.1651</td> <td>    4.251</td> <td>   -3.567</td> <td> 0.000</td> <td>  -23.497</td> <td>   -6.833</td>\n",
              "</tr>\n",
              "<tr>\n",
              "  <th>x172</th>  <td>   39.7932</td> <td>    4.585</td> <td>    8.679</td> <td> 0.000</td> <td>   30.806</td> <td>   48.780</td>\n",
              "</tr>\n",
              "<tr>\n",
              "  <th>x173</th>  <td>  -23.1963</td> <td>    4.798</td> <td>   -4.835</td> <td> 0.000</td> <td>  -32.599</td> <td>  -13.793</td>\n",
              "</tr>\n",
              "<tr>\n",
              "  <th>x174</th>  <td>    9.7860</td> <td>    4.799</td> <td>    2.039</td> <td> 0.041</td> <td>    0.381</td> <td>   19.191</td>\n",
              "</tr>\n",
              "<tr>\n",
              "  <th>x175</th>  <td>   -1.6861</td> <td>    4.784</td> <td>   -0.352</td> <td> 0.725</td> <td>  -11.062</td> <td>    7.690</td>\n",
              "</tr>\n",
              "<tr>\n",
              "  <th>x176</th>  <td>   -1.6434</td> <td>    4.485</td> <td>   -0.366</td> <td> 0.714</td> <td>  -10.435</td> <td>    7.148</td>\n",
              "</tr>\n",
              "<tr>\n",
              "  <th>x177</th>  <td>   -6.9972</td> <td>    4.497</td> <td>   -1.556</td> <td> 0.120</td> <td>  -15.812</td> <td>    1.818</td>\n",
              "</tr>\n",
              "<tr>\n",
              "  <th>x178</th>  <td>    9.1166</td> <td>    4.556</td> <td>    2.001</td> <td> 0.045</td> <td>    0.187</td> <td>   18.046</td>\n",
              "</tr>\n",
              "<tr>\n",
              "  <th>x179</th>  <td>   16.8921</td> <td>    4.317</td> <td>    3.913</td> <td> 0.000</td> <td>    8.430</td> <td>   25.354</td>\n",
              "</tr>\n",
              "<tr>\n",
              "  <th>x180</th>  <td>   -4.1618</td> <td>    4.467</td> <td>   -0.932</td> <td> 0.352</td> <td>  -12.917</td> <td>    4.594</td>\n",
              "</tr>\n",
              "<tr>\n",
              "  <th>x181</th>  <td>  -16.2533</td> <td>    4.502</td> <td>   -3.610</td> <td> 0.000</td> <td>  -25.077</td> <td>   -7.430</td>\n",
              "</tr>\n",
              "<tr>\n",
              "  <th>x182</th>  <td>   -0.0167</td> <td>    4.776</td> <td>   -0.003</td> <td> 0.997</td> <td>   -9.378</td> <td>    9.344</td>\n",
              "</tr>\n",
              "<tr>\n",
              "  <th>x183</th>  <td>  -23.8177</td> <td>    4.753</td> <td>   -5.011</td> <td> 0.000</td> <td>  -33.134</td> <td>  -14.501</td>\n",
              "</tr>\n",
              "<tr>\n",
              "  <th>x184</th>  <td>   19.3479</td> <td>    4.539</td> <td>    4.263</td> <td> 0.000</td> <td>   10.451</td> <td>   28.244</td>\n",
              "</tr>\n",
              "<tr>\n",
              "  <th>x185</th>  <td>   21.7898</td> <td>    4.330</td> <td>    5.032</td> <td> 0.000</td> <td>   13.302</td> <td>   30.277</td>\n",
              "</tr>\n",
              "<tr>\n",
              "  <th>x186</th>  <td>    9.5283</td> <td>    4.747</td> <td>    2.007</td> <td> 0.045</td> <td>    0.224</td> <td>   18.833</td>\n",
              "</tr>\n",
              "<tr>\n",
              "  <th>x187</th>  <td>  -12.9581</td> <td>    4.490</td> <td>   -2.886</td> <td> 0.004</td> <td>  -21.758</td> <td>   -4.158</td>\n",
              "</tr>\n",
              "<tr>\n",
              "  <th>x188</th>  <td>   20.3828</td> <td>    4.565</td> <td>    4.465</td> <td> 0.000</td> <td>   11.435</td> <td>   29.330</td>\n",
              "</tr>\n",
              "<tr>\n",
              "  <th>x189</th>  <td>   -9.2038</td> <td>    4.506</td> <td>   -2.043</td> <td> 0.041</td> <td>  -18.035</td> <td>   -0.373</td>\n",
              "</tr>\n",
              "<tr>\n",
              "  <th>x190</th>  <td>    0.7672</td> <td>    4.175</td> <td>    0.184</td> <td> 0.854</td> <td>   -7.415</td> <td>    8.949</td>\n",
              "</tr>\n",
              "<tr>\n",
              "  <th>x191</th>  <td>  -20.8208</td> <td>    4.614</td> <td>   -4.513</td> <td> 0.000</td> <td>  -29.864</td> <td>  -11.778</td>\n",
              "</tr>\n",
              "<tr>\n",
              "  <th>x192</th>  <td>  -14.1627</td> <td>    4.630</td> <td>   -3.059</td> <td> 0.002</td> <td>  -23.238</td> <td>   -5.088</td>\n",
              "</tr>\n",
              "<tr>\n",
              "  <th>x193</th>  <td>  -25.1685</td> <td>    4.563</td> <td>   -5.516</td> <td> 0.000</td> <td>  -34.112</td> <td>  -16.225</td>\n",
              "</tr>\n",
              "<tr>\n",
              "  <th>x194</th>  <td>  -14.7585</td> <td>    4.493</td> <td>   -3.284</td> <td> 0.001</td> <td>  -23.566</td> <td>   -5.951</td>\n",
              "</tr>\n",
              "<tr>\n",
              "  <th>x195</th>  <td>   -8.8208</td> <td>    4.621</td> <td>   -1.909</td> <td> 0.056</td> <td>  -17.878</td> <td>    0.236</td>\n",
              "</tr>\n",
              "<tr>\n",
              "  <th>x196</th>  <td>    7.8007</td> <td>    4.605</td> <td>    1.694</td> <td> 0.090</td> <td>   -1.225</td> <td>   16.826</td>\n",
              "</tr>\n",
              "<tr>\n",
              "  <th>x197</th>  <td>   -1.9962</td> <td>    4.299</td> <td>   -0.464</td> <td> 0.642</td> <td>  -10.422</td> <td>    6.430</td>\n",
              "</tr>\n",
              "<tr>\n",
              "  <th>x198</th>  <td>   29.9282</td> <td>    4.396</td> <td>    6.807</td> <td> 0.000</td> <td>   21.311</td> <td>   38.545</td>\n",
              "</tr>\n",
              "<tr>\n",
              "  <th>x199</th>  <td>  -32.6283</td> <td>    4.349</td> <td>   -7.502</td> <td> 0.000</td> <td>  -41.153</td> <td>  -24.104</td>\n",
              "</tr>\n",
              "<tr>\n",
              "  <th>x200</th>  <td>  -26.3656</td> <td>    4.610</td> <td>   -5.720</td> <td> 0.000</td> <td>  -35.400</td> <td>  -17.331</td>\n",
              "</tr>\n",
              "<tr>\n",
              "  <th>x201</th>  <td>   14.1315</td> <td>    4.348</td> <td>    3.250</td> <td> 0.001</td> <td>    5.609</td> <td>   22.654</td>\n",
              "</tr>\n",
              "<tr>\n",
              "  <th>x202</th>  <td>   -6.2510</td> <td>    4.332</td> <td>   -1.443</td> <td> 0.149</td> <td>  -14.741</td> <td>    2.239</td>\n",
              "</tr>\n",
              "<tr>\n",
              "  <th>x203</th>  <td>   -1.6561</td> <td>    4.329</td> <td>   -0.383</td> <td> 0.702</td> <td>  -10.140</td> <td>    6.828</td>\n",
              "</tr>\n",
              "<tr>\n",
              "  <th>x204</th>  <td>   -8.6095</td> <td>    4.478</td> <td>   -1.923</td> <td> 0.055</td> <td>  -17.385</td> <td>    0.166</td>\n",
              "</tr>\n",
              "<tr>\n",
              "  <th>x205</th>  <td>  -32.9728</td> <td>    4.408</td> <td>   -7.480</td> <td> 0.000</td> <td>  -41.613</td> <td>  -24.333</td>\n",
              "</tr>\n",
              "<tr>\n",
              "  <th>x206</th>  <td>   -8.8441</td> <td>    4.235</td> <td>   -2.088</td> <td> 0.037</td> <td>  -17.144</td> <td>   -0.544</td>\n",
              "</tr>\n",
              "<tr>\n",
              "  <th>x207</th>  <td>   20.1128</td> <td>    4.683</td> <td>    4.295</td> <td> 0.000</td> <td>   10.934</td> <td>   29.291</td>\n",
              "</tr>\n",
              "<tr>\n",
              "  <th>x208</th>  <td>  -29.5784</td> <td>    4.516</td> <td>   -6.550</td> <td> 0.000</td> <td>  -38.430</td> <td>  -20.727</td>\n",
              "</tr>\n",
              "<tr>\n",
              "  <th>x209</th>  <td>   -4.5640</td> <td>    4.584</td> <td>   -0.996</td> <td> 0.319</td> <td>  -13.548</td> <td>    4.420</td>\n",
              "</tr>\n",
              "<tr>\n",
              "  <th>x210</th>  <td>  -32.6984</td> <td>    4.594</td> <td>   -7.117</td> <td> 0.000</td> <td>  -41.703</td> <td>  -23.694</td>\n",
              "</tr>\n",
              "<tr>\n",
              "  <th>x211</th>  <td>   -1.8512</td> <td>    4.673</td> <td>   -0.396</td> <td> 0.692</td> <td>  -11.011</td> <td>    7.308</td>\n",
              "</tr>\n",
              "<tr>\n",
              "  <th>x212</th>  <td>  -33.0094</td> <td>    4.501</td> <td>   -7.335</td> <td> 0.000</td> <td>  -41.830</td> <td>  -24.188</td>\n",
              "</tr>\n",
              "<tr>\n",
              "  <th>x213</th>  <td>  -14.5332</td> <td>    4.446</td> <td>   -3.269</td> <td> 0.001</td> <td>  -23.248</td> <td>   -5.819</td>\n",
              "</tr>\n",
              "<tr>\n",
              "  <th>x214</th>  <td>    3.4813</td> <td>    4.325</td> <td>    0.805</td> <td> 0.421</td> <td>   -4.995</td> <td>   11.958</td>\n",
              "</tr>\n",
              "<tr>\n",
              "  <th>x215</th>  <td>    3.3751</td> <td>    4.346</td> <td>    0.777</td> <td> 0.437</td> <td>   -5.142</td> <td>   11.892</td>\n",
              "</tr>\n",
              "<tr>\n",
              "  <th>x216</th>  <td>  -57.0218</td> <td>    4.604</td> <td>  -12.386</td> <td> 0.000</td> <td>  -66.045</td> <td>  -47.999</td>\n",
              "</tr>\n",
              "<tr>\n",
              "  <th>x217</th>  <td>  -24.2927</td> <td>    4.444</td> <td>   -5.466</td> <td> 0.000</td> <td>  -33.004</td> <td>  -15.582</td>\n",
              "</tr>\n",
              "<tr>\n",
              "  <th>x218</th>  <td>   16.4293</td> <td>    4.438</td> <td>    3.702</td> <td> 0.000</td> <td>    7.731</td> <td>   25.128</td>\n",
              "</tr>\n",
              "<tr>\n",
              "  <th>x219</th>  <td>   18.8437</td> <td>    4.670</td> <td>    4.035</td> <td> 0.000</td> <td>    9.690</td> <td>   27.997</td>\n",
              "</tr>\n",
              "<tr>\n",
              "  <th>x220</th>  <td>    9.4286</td> <td>    4.522</td> <td>    2.085</td> <td> 0.037</td> <td>    0.567</td> <td>   18.291</td>\n",
              "</tr>\n",
              "<tr>\n",
              "  <th>x221</th>  <td>    7.2653</td> <td>    4.532</td> <td>    1.603</td> <td> 0.109</td> <td>   -1.617</td> <td>   16.148</td>\n",
              "</tr>\n",
              "<tr>\n",
              "  <th>x222</th>  <td>  -20.1621</td> <td>    4.425</td> <td>   -4.557</td> <td> 0.000</td> <td>  -28.834</td> <td>  -11.490</td>\n",
              "</tr>\n",
              "<tr>\n",
              "  <th>x223</th>  <td>    8.5344</td> <td>    4.724</td> <td>    1.807</td> <td> 0.071</td> <td>   -0.724</td> <td>   17.793</td>\n",
              "</tr>\n",
              "<tr>\n",
              "  <th>x224</th>  <td>    1.8322</td> <td>    4.325</td> <td>    0.424</td> <td> 0.672</td> <td>   -6.645</td> <td>   10.309</td>\n",
              "</tr>\n",
              "<tr>\n",
              "  <th>x225</th>  <td>  -28.0005</td> <td>    4.353</td> <td>   -6.432</td> <td> 0.000</td> <td>  -36.533</td> <td>  -19.468</td>\n",
              "</tr>\n",
              "<tr>\n",
              "  <th>x226</th>  <td>  -12.5878</td> <td>    4.617</td> <td>   -2.727</td> <td> 0.006</td> <td>  -21.636</td> <td>   -3.540</td>\n",
              "</tr>\n",
              "<tr>\n",
              "  <th>x227</th>  <td>  -12.0361</td> <td>    4.506</td> <td>   -2.671</td> <td> 0.008</td> <td>  -20.869</td> <td>   -3.204</td>\n",
              "</tr>\n",
              "<tr>\n",
              "  <th>x228</th>  <td>   -5.6780</td> <td>    4.317</td> <td>   -1.315</td> <td> 0.188</td> <td>  -14.138</td> <td>    2.782</td>\n",
              "</tr>\n",
              "<tr>\n",
              "  <th>x229</th>  <td>   -3.3938</td> <td>    4.371</td> <td>   -0.776</td> <td> 0.437</td> <td>  -11.960</td> <td>    5.173</td>\n",
              "</tr>\n",
              "<tr>\n",
              "  <th>x230</th>  <td>   20.2072</td> <td>    4.617</td> <td>    4.377</td> <td> 0.000</td> <td>   11.159</td> <td>   29.256</td>\n",
              "</tr>\n",
              "<tr>\n",
              "  <th>x231</th>  <td>   -7.1442</td> <td>    4.562</td> <td>   -1.566</td> <td> 0.117</td> <td>  -16.086</td> <td>    1.798</td>\n",
              "</tr>\n",
              "<tr>\n",
              "  <th>x232</th>  <td>   15.0827</td> <td>    4.388</td> <td>    3.437</td> <td> 0.001</td> <td>    6.483</td> <td>   23.683</td>\n",
              "</tr>\n",
              "<tr>\n",
              "  <th>x233</th>  <td>  -21.9138</td> <td>    4.626</td> <td>   -4.737</td> <td> 0.000</td> <td>  -30.981</td> <td>  -12.847</td>\n",
              "</tr>\n",
              "<tr>\n",
              "  <th>x234</th>  <td>   17.2763</td> <td>    4.506</td> <td>    3.834</td> <td> 0.000</td> <td>    8.445</td> <td>   26.108</td>\n",
              "</tr>\n",
              "<tr>\n",
              "  <th>x235</th>  <td>    5.7017</td> <td>    4.442</td> <td>    1.284</td> <td> 0.199</td> <td>   -3.005</td> <td>   14.408</td>\n",
              "</tr>\n",
              "<tr>\n",
              "  <th>x236</th>  <td>    5.7433</td> <td>    4.469</td> <td>    1.285</td> <td> 0.199</td> <td>   -3.016</td> <td>   14.502</td>\n",
              "</tr>\n",
              "<tr>\n",
              "  <th>x237</th>  <td>  -31.4322</td> <td>    4.427</td> <td>   -7.099</td> <td> 0.000</td> <td>  -40.110</td> <td>  -22.755</td>\n",
              "</tr>\n",
              "<tr>\n",
              "  <th>x238</th>  <td>   -6.2627</td> <td>    4.577</td> <td>   -1.368</td> <td> 0.171</td> <td>  -15.234</td> <td>    2.709</td>\n",
              "</tr>\n",
              "<tr>\n",
              "  <th>x239</th>  <td>   -6.0034</td> <td>    4.934</td> <td>   -1.217</td> <td> 0.224</td> <td>  -15.673</td> <td>    3.666</td>\n",
              "</tr>\n",
              "<tr>\n",
              "  <th>x240</th>  <td>  -30.7060</td> <td>    4.847</td> <td>   -6.335</td> <td> 0.000</td> <td>  -40.206</td> <td>  -21.206</td>\n",
              "</tr>\n",
              "<tr>\n",
              "  <th>x241</th>  <td>   22.2228</td> <td>    4.401</td> <td>    5.049</td> <td> 0.000</td> <td>   13.597</td> <td>   30.849</td>\n",
              "</tr>\n",
              "<tr>\n",
              "  <th>x242</th>  <td>  -22.3243</td> <td>    4.618</td> <td>   -4.835</td> <td> 0.000</td> <td>  -31.375</td> <td>  -13.274</td>\n",
              "</tr>\n",
              "<tr>\n",
              "  <th>x243</th>  <td>  -12.4331</td> <td>    4.491</td> <td>   -2.769</td> <td> 0.006</td> <td>  -21.235</td> <td>   -3.632</td>\n",
              "</tr>\n",
              "<tr>\n",
              "  <th>x244</th>  <td>   27.3110</td> <td>    4.360</td> <td>    6.264</td> <td> 0.000</td> <td>   18.765</td> <td>   35.857</td>\n",
              "</tr>\n",
              "<tr>\n",
              "  <th>x245</th>  <td>   -6.4787</td> <td>    4.341</td> <td>   -1.493</td> <td> 0.136</td> <td>  -14.986</td> <td>    2.029</td>\n",
              "</tr>\n",
              "<tr>\n",
              "  <th>x246</th>  <td>  -21.9427</td> <td>    4.450</td> <td>   -4.931</td> <td> 0.000</td> <td>  -30.664</td> <td>  -13.221</td>\n",
              "</tr>\n",
              "<tr>\n",
              "  <th>x247</th>  <td>    9.3128</td> <td>    4.419</td> <td>    2.107</td> <td> 0.035</td> <td>    0.652</td> <td>   17.974</td>\n",
              "</tr>\n",
              "<tr>\n",
              "  <th>x248</th>  <td>    6.5774</td> <td>    4.562</td> <td>    1.442</td> <td> 0.149</td> <td>   -2.364</td> <td>   15.519</td>\n",
              "</tr>\n",
              "<tr>\n",
              "  <th>x249</th>  <td>    4.9487</td> <td>    4.579</td> <td>    1.081</td> <td> 0.280</td> <td>   -4.027</td> <td>   13.924</td>\n",
              "</tr>\n",
              "<tr>\n",
              "  <th>x250</th>  <td>   10.7573</td> <td>    4.519</td> <td>    2.381</td> <td> 0.017</td> <td>    1.901</td> <td>   19.613</td>\n",
              "</tr>\n",
              "<tr>\n",
              "  <th>x251</th>  <td>   -7.7320</td> <td>    4.653</td> <td>   -1.662</td> <td> 0.097</td> <td>  -16.851</td> <td>    1.387</td>\n",
              "</tr>\n",
              "<tr>\n",
              "  <th>x252</th>  <td>    2.2697</td> <td>    4.672</td> <td>    0.486</td> <td> 0.627</td> <td>   -6.886</td> <td>   11.426</td>\n",
              "</tr>\n",
              "<tr>\n",
              "  <th>x253</th>  <td>  -17.7402</td> <td>    4.395</td> <td>   -4.036</td> <td> 0.000</td> <td>  -26.355</td> <td>   -9.126</td>\n",
              "</tr>\n",
              "<tr>\n",
              "  <th>x254</th>  <td>  -13.0215</td> <td>    4.603</td> <td>   -2.829</td> <td> 0.005</td> <td>  -22.043</td> <td>   -4.000</td>\n",
              "</tr>\n",
              "<tr>\n",
              "  <th>x255</th>  <td>   12.9845</td> <td>    4.649</td> <td>    2.793</td> <td> 0.005</td> <td>    3.872</td> <td>   22.097</td>\n",
              "</tr>\n",
              "<tr>\n",
              "  <th>x256</th>  <td>   19.2085</td> <td>    4.398</td> <td>    4.368</td> <td> 0.000</td> <td>   10.589</td> <td>   27.828</td>\n",
              "</tr>\n",
              "<tr>\n",
              "  <th>x257</th>  <td>    2.7317</td> <td>    4.495</td> <td>    0.608</td> <td> 0.543</td> <td>   -6.078</td> <td>   11.541</td>\n",
              "</tr>\n",
              "<tr>\n",
              "  <th>x258</th>  <td>    7.9003</td> <td>    4.490</td> <td>    1.760</td> <td> 0.078</td> <td>   -0.899</td> <td>   16.700</td>\n",
              "</tr>\n",
              "<tr>\n",
              "  <th>x259</th>  <td>    5.7011</td> <td>    4.545</td> <td>    1.254</td> <td> 0.210</td> <td>   -3.207</td> <td>   14.609</td>\n",
              "</tr>\n",
              "<tr>\n",
              "  <th>x260</th>  <td>   -4.1486</td> <td>    4.248</td> <td>   -0.977</td> <td> 0.329</td> <td>  -12.474</td> <td>    4.177</td>\n",
              "</tr>\n",
              "<tr>\n",
              "  <th>x261</th>  <td>  -16.4526</td> <td>    4.742</td> <td>   -3.470</td> <td> 0.001</td> <td>  -25.747</td> <td>   -7.158</td>\n",
              "</tr>\n",
              "<tr>\n",
              "  <th>x262</th>  <td>   11.9871</td> <td>    4.627</td> <td>    2.591</td> <td> 0.010</td> <td>    2.918</td> <td>   21.056</td>\n",
              "</tr>\n",
              "<tr>\n",
              "  <th>x263</th>  <td>    1.5254</td> <td>    4.399</td> <td>    0.347</td> <td> 0.729</td> <td>   -7.097</td> <td>   10.148</td>\n",
              "</tr>\n",
              "<tr>\n",
              "  <th>x264</th>  <td>    0.2642</td> <td>    4.337</td> <td>    0.061</td> <td> 0.951</td> <td>   -8.236</td> <td>    8.765</td>\n",
              "</tr>\n",
              "<tr>\n",
              "  <th>x265</th>  <td>  -25.5936</td> <td>    4.512</td> <td>   -5.672</td> <td> 0.000</td> <td>  -34.438</td> <td>  -16.750</td>\n",
              "</tr>\n",
              "<tr>\n",
              "  <th>x266</th>  <td>    7.6702</td> <td>    4.205</td> <td>    1.824</td> <td> 0.068</td> <td>   -0.571</td> <td>   15.911</td>\n",
              "</tr>\n",
              "<tr>\n",
              "  <th>x267</th>  <td>   30.2602</td> <td>    4.504</td> <td>    6.719</td> <td> 0.000</td> <td>   21.433</td> <td>   39.088</td>\n",
              "</tr>\n",
              "<tr>\n",
              "  <th>x268</th>  <td>   -6.2685</td> <td>    4.790</td> <td>   -1.309</td> <td> 0.191</td> <td>  -15.657</td> <td>    3.120</td>\n",
              "</tr>\n",
              "<tr>\n",
              "  <th>x269</th>  <td>    2.1132</td> <td>    4.467</td> <td>    0.473</td> <td> 0.636</td> <td>   -6.641</td> <td>   10.868</td>\n",
              "</tr>\n",
              "<tr>\n",
              "  <th>x270</th>  <td>    9.3568</td> <td>    4.493</td> <td>    2.083</td> <td> 0.037</td> <td>    0.551</td> <td>   18.163</td>\n",
              "</tr>\n",
              "<tr>\n",
              "  <th>x271</th>  <td>   15.7494</td> <td>    4.459</td> <td>    3.532</td> <td> 0.000</td> <td>    7.010</td> <td>   24.489</td>\n",
              "</tr>\n",
              "<tr>\n",
              "  <th>x272</th>  <td>   -8.6927</td> <td>    4.337</td> <td>   -2.004</td> <td> 0.045</td> <td>  -17.193</td> <td>   -0.192</td>\n",
              "</tr>\n",
              "<tr>\n",
              "  <th>x273</th>  <td>  -18.5104</td> <td>    4.516</td> <td>   -4.099</td> <td> 0.000</td> <td>  -27.361</td> <td>   -9.659</td>\n",
              "</tr>\n",
              "<tr>\n",
              "  <th>x274</th>  <td>    5.3801</td> <td>    4.035</td> <td>    1.333</td> <td> 0.182</td> <td>   -2.528</td> <td>   13.288</td>\n",
              "</tr>\n",
              "<tr>\n",
              "  <th>x275</th>  <td>  -16.0015</td> <td>    4.516</td> <td>   -3.543</td> <td> 0.000</td> <td>  -24.853</td> <td>   -7.150</td>\n",
              "</tr>\n",
              "<tr>\n",
              "  <th>x276</th>  <td>   18.6778</td> <td>    4.351</td> <td>    4.293</td> <td> 0.000</td> <td>   10.150</td> <td>   27.206</td>\n",
              "</tr>\n",
              "<tr>\n",
              "  <th>x277</th>  <td>   15.6310</td> <td>    4.440</td> <td>    3.521</td> <td> 0.000</td> <td>    6.929</td> <td>   24.333</td>\n",
              "</tr>\n",
              "<tr>\n",
              "  <th>x278</th>  <td>   13.6549</td> <td>    4.377</td> <td>    3.120</td> <td> 0.002</td> <td>    5.076</td> <td>   22.234</td>\n",
              "</tr>\n",
              "<tr>\n",
              "  <th>x279</th>  <td>   -7.0914</td> <td>    4.610</td> <td>   -1.538</td> <td> 0.124</td> <td>  -16.127</td> <td>    1.945</td>\n",
              "</tr>\n",
              "<tr>\n",
              "  <th>x280</th>  <td>   -7.8190</td> <td>    4.490</td> <td>   -1.741</td> <td> 0.082</td> <td>  -16.620</td> <td>    0.982</td>\n",
              "</tr>\n",
              "<tr>\n",
              "  <th>x281</th>  <td>    1.0786</td> <td>    4.446</td> <td>    0.243</td> <td> 0.808</td> <td>   -7.636</td> <td>    9.793</td>\n",
              "</tr>\n",
              "<tr>\n",
              "  <th>x282</th>  <td>  -10.2289</td> <td>    4.225</td> <td>   -2.421</td> <td> 0.015</td> <td>  -18.510</td> <td>   -1.948</td>\n",
              "</tr>\n",
              "<tr>\n",
              "  <th>x283</th>  <td>    1.0352</td> <td>    4.363</td> <td>    0.237</td> <td> 0.812</td> <td>   -7.517</td> <td>    9.587</td>\n",
              "</tr>\n",
              "<tr>\n",
              "  <th>x284</th>  <td>   10.0637</td> <td>    4.511</td> <td>    2.231</td> <td> 0.026</td> <td>    1.221</td> <td>   18.906</td>\n",
              "</tr>\n",
              "<tr>\n",
              "  <th>x285</th>  <td>    3.3167</td> <td>    4.454</td> <td>    0.745</td> <td> 0.457</td> <td>   -5.414</td> <td>   12.047</td>\n",
              "</tr>\n",
              "<tr>\n",
              "  <th>x286</th>  <td>    1.4978</td> <td>    4.524</td> <td>    0.331</td> <td> 0.741</td> <td>   -7.369</td> <td>   10.365</td>\n",
              "</tr>\n",
              "<tr>\n",
              "  <th>x287</th>  <td>   -4.2265</td> <td>    4.851</td> <td>   -0.871</td> <td> 0.384</td> <td>  -13.734</td> <td>    5.281</td>\n",
              "</tr>\n",
              "<tr>\n",
              "  <th>x288</th>  <td>   43.2315</td> <td>    4.073</td> <td>   10.614</td> <td> 0.000</td> <td>   35.248</td> <td>   51.215</td>\n",
              "</tr>\n",
              "<tr>\n",
              "  <th>x289</th>  <td>  -26.8350</td> <td>    4.426</td> <td>   -6.063</td> <td> 0.000</td> <td>  -35.510</td> <td>  -18.160</td>\n",
              "</tr>\n",
              "<tr>\n",
              "  <th>x290</th>  <td>   -2.2951</td> <td>    4.202</td> <td>   -0.546</td> <td> 0.585</td> <td>  -10.531</td> <td>    5.941</td>\n",
              "</tr>\n",
              "<tr>\n",
              "  <th>x291</th>  <td>  -25.5158</td> <td>    4.127</td> <td>   -6.183</td> <td> 0.000</td> <td>  -33.604</td> <td>  -17.428</td>\n",
              "</tr>\n",
              "<tr>\n",
              "  <th>x292</th>  <td>   19.5931</td> <td>    4.270</td> <td>    4.589</td> <td> 0.000</td> <td>   11.225</td> <td>   27.961</td>\n",
              "</tr>\n",
              "<tr>\n",
              "  <th>x293</th>  <td>    7.2679</td> <td>    4.529</td> <td>    1.605</td> <td> 0.109</td> <td>   -1.610</td> <td>   16.145</td>\n",
              "</tr>\n",
              "<tr>\n",
              "  <th>x294</th>  <td>  -20.2850</td> <td>    4.322</td> <td>   -4.693</td> <td> 0.000</td> <td>  -28.756</td> <td>  -11.814</td>\n",
              "</tr>\n",
              "<tr>\n",
              "  <th>x295</th>  <td>    8.3696</td> <td>    4.497</td> <td>    1.861</td> <td> 0.063</td> <td>   -0.443</td> <td>   17.183</td>\n",
              "</tr>\n",
              "<tr>\n",
              "  <th>x296</th>  <td>   13.2146</td> <td>    4.179</td> <td>    3.162</td> <td> 0.002</td> <td>    5.024</td> <td>   21.405</td>\n",
              "</tr>\n",
              "<tr>\n",
              "  <th>x297</th>  <td>    7.3774</td> <td>    4.375</td> <td>    1.686</td> <td> 0.092</td> <td>   -1.197</td> <td>   15.952</td>\n",
              "</tr>\n",
              "<tr>\n",
              "  <th>x298</th>  <td>   18.2555</td> <td>    4.308</td> <td>    4.238</td> <td> 0.000</td> <td>    9.812</td> <td>   26.699</td>\n",
              "</tr>\n",
              "<tr>\n",
              "  <th>x299</th>  <td>  -25.9052</td> <td>    4.640</td> <td>   -5.584</td> <td> 0.000</td> <td>  -34.999</td> <td>  -16.812</td>\n",
              "</tr>\n",
              "<tr>\n",
              "  <th>x300</th>  <td>  -30.5244</td> <td>    4.701</td> <td>   -6.493</td> <td> 0.000</td> <td>  -39.738</td> <td>  -21.310</td>\n",
              "</tr>\n",
              "</table>"
            ],
            "text/latex": [
              "\\begin{center}\n",
              "\\begin{tabular}{lclc}\n",
              "\\toprule\n",
              "\\textbf{Dep. Variable:}   &      class       & \\textbf{  No. Observations:  } &    31422    \\\\\n",
              "\\textbf{Model:}           &       GLM        & \\textbf{  Df Residuals:      } &    31121    \\\\\n",
              "\\textbf{Model Family:}    &     Binomial     & \\textbf{  Df Model:          } &      300    \\\\\n",
              "\\textbf{Link Function:}   &      Logit       & \\textbf{  Scale:             } &    1.0000   \\\\\n",
              "\\textbf{Method:}          &       IRLS       & \\textbf{  Log-Likelihood:    } &   -2093.2   \\\\\n",
              "\\textbf{Date:}            & Wed, 30 Apr 2025 & \\textbf{  Deviance:          } &    4186.5   \\\\\n",
              "\\textbf{Time:}            &     15:50:04     & \\textbf{  Pearson chi2:      } &  1.66e+05   \\\\\n",
              "\\textbf{No. Iterations:}  &        10        & \\textbf{  Pseudo R-squ. (CS):} &   0.7137    \\\\\n",
              "\\textbf{Covariance Type:} &    nonrobust     & \\textbf{                     } &             \\\\\n",
              "\\bottomrule\n",
              "\\end{tabular}\n",
              "\\begin{tabular}{lcccccc}\n",
              "               & \\textbf{coef} & \\textbf{std err} & \\textbf{z} & \\textbf{P$> |$z$|$} & \\textbf{[0.025} & \\textbf{0.975]}  \\\\\n",
              "\\midrule\n",
              "\\textbf{const} &      29.7334  &        4.746     &     6.265  &         0.000        &       20.431    &       39.036     \\\\\n",
              "\\textbf{x1}    &      -9.4991  &        4.331     &    -2.193  &         0.028        &      -17.988    &       -1.010     \\\\\n",
              "\\textbf{x2}    &       2.9168  &        4.653     &     0.627  &         0.531        &       -6.202    &       12.036     \\\\\n",
              "\\textbf{x3}    &      35.4834  &        4.589     &     7.733  &         0.000        &       26.490    &       44.477     \\\\\n",
              "\\textbf{x4}    &     -16.2977  &        4.375     &    -3.725  &         0.000        &      -24.873    &       -7.722     \\\\\n",
              "\\textbf{x5}    &       2.1150  &        4.705     &     0.450  &         0.653        &       -7.107    &       11.337     \\\\\n",
              "\\textbf{x6}    &      17.1104  &        4.421     &     3.870  &         0.000        &        8.445    &       25.776     \\\\\n",
              "\\textbf{x7}    &      10.4177  &        4.445     &     2.344  &         0.019        &        1.706    &       19.129     \\\\\n",
              "\\textbf{x8}    &     -12.8543  &        4.588     &    -2.802  &         0.005        &      -21.846    &       -3.862     \\\\\n",
              "\\textbf{x9}    &      -7.4971  &        4.456     &    -1.683  &         0.092        &      -16.230    &        1.236     \\\\\n",
              "\\textbf{x10}   &       7.5254  &        5.008     &     1.503  &         0.133        &       -2.290    &       17.341     \\\\\n",
              "\\textbf{x11}   &      26.5573  &        4.516     &     5.881  &         0.000        &       17.707    &       35.408     \\\\\n",
              "\\textbf{x12}   &      13.9576  &        4.666     &     2.991  &         0.003        &        4.812    &       23.103     \\\\\n",
              "\\textbf{x13}   &     -15.9343  &        4.679     &    -3.405  &         0.001        &      -25.106    &       -6.763     \\\\\n",
              "\\textbf{x14}   &       2.5593  &        4.547     &     0.563  &         0.574        &       -6.354    &       11.472     \\\\\n",
              "\\textbf{x15}   &       3.2674  &        4.221     &     0.774  &         0.439        &       -5.005    &       11.540     \\\\\n",
              "\\textbf{x16}   &      -7.4259  &        4.632     &    -1.603  &         0.109        &      -16.504    &        1.652     \\\\\n",
              "\\textbf{x17}   &      32.1711  &        4.265     &     7.543  &         0.000        &       23.812    &       40.530     \\\\\n",
              "\\textbf{x18}   &      11.9457  &        4.148     &     2.880  &         0.004        &        3.816    &       20.075     \\\\\n",
              "\\textbf{x19}   &       6.7650  &        4.563     &     1.483  &         0.138        &       -2.178    &       15.708     \\\\\n",
              "\\textbf{x20}   &     -12.0289  &        4.516     &    -2.663  &         0.008        &      -20.881    &       -3.177     \\\\\n",
              "\\textbf{x21}   &     -28.3599  &        4.177     &    -6.790  &         0.000        &      -36.546    &      -20.174     \\\\\n",
              "\\textbf{x22}   &     -33.8593  &        4.391     &    -7.711  &         0.000        &      -42.466    &      -25.253     \\\\\n",
              "\\textbf{x23}   &      15.2983  &        4.289     &     3.567  &         0.000        &        6.892    &       23.704     \\\\\n",
              "\\textbf{x24}   &       3.7285  &        4.227     &     0.882  &         0.378        &       -4.557    &       12.014     \\\\\n",
              "\\textbf{x25}   &      -8.0674  &        4.365     &    -1.848  &         0.065        &      -16.623    &        0.488     \\\\\n",
              "\\textbf{x26}   &     -35.0045  &        4.474     &    -7.823  &         0.000        &      -43.774    &      -26.235     \\\\\n",
              "\\textbf{x27}   &      26.7665  &        4.671     &     5.730  &         0.000        &       17.612    &       35.921     \\\\\n",
              "\\textbf{x28}   &      -4.5739  &        4.695     &    -0.974  &         0.330        &      -13.776    &        4.628     \\\\\n",
              "\\textbf{x29}   &     -12.2743  &        4.535     &    -2.707  &         0.007        &      -21.162    &       -3.386     \\\\\n",
              "\\textbf{x30}   &      14.4107  &        4.518     &     3.190  &         0.001        &        5.557    &       23.265     \\\\\n",
              "\\textbf{x31}   &     -15.5540  &        4.349     &    -3.576  &         0.000        &      -24.078    &       -7.030     \\\\\n",
              "\\textbf{x32}   &       3.3272  &        4.481     &     0.743  &         0.458        &       -5.455    &       12.109     \\\\\n",
              "\\textbf{x33}   &      10.4639  &        4.439     &     2.357  &         0.018        &        1.764    &       19.164     \\\\\n",
              "\\textbf{x34}   &      -4.1533  &        4.597     &    -0.903  &         0.366        &      -13.164    &        4.857     \\\\\n",
              "\\textbf{x35}   &       0.5847  &        4.251     &     0.138  &         0.891        &       -7.748    &        8.917     \\\\\n",
              "\\textbf{x36}   &       2.3401  &        4.431     &     0.528  &         0.597        &       -6.344    &       11.025     \\\\\n",
              "\\textbf{x37}   &      -8.4964  &        4.437     &    -1.915  &         0.055        &      -17.193    &        0.200     \\\\\n",
              "\\textbf{x38}   &      -1.7920  &        4.630     &    -0.387  &         0.699        &      -10.866    &        7.282     \\\\\n",
              "\\textbf{x39}   &       4.7964  &        4.677     &     1.025  &         0.305        &       -4.371    &       13.964     \\\\\n",
              "\\textbf{x40}   &       3.1945  &        4.349     &     0.734  &         0.463        &       -5.330    &       11.719     \\\\\n",
              "\\textbf{x41}   &     -26.5254  &        4.467     &    -5.939  &         0.000        &      -35.280    &      -17.771     \\\\\n",
              "\\textbf{x42}   &       0.1351  &        4.376     &     0.031  &         0.975        &       -8.442    &        8.712     \\\\\n",
              "\\textbf{x43}   &      -0.1954  &        4.480     &    -0.044  &         0.965        &       -8.976    &        8.585     \\\\\n",
              "\\textbf{x44}   &      15.3844  &        4.588     &     3.353  &         0.001        &        6.392    &       24.377     \\\\\n",
              "\\textbf{x45}   &       9.9525  &        4.268     &     2.332  &         0.020        &        1.587    &       18.318     \\\\\n",
              "\\textbf{x46}   &      16.4079  &        4.395     &     3.734  &         0.000        &        7.795    &       25.021     \\\\\n",
              "\\textbf{x47}   &     -15.0897  &        4.513     &    -3.343  &         0.001        &      -23.936    &       -6.244     \\\\\n",
              "\\textbf{x48}   &     -22.1963  &        4.412     &    -5.031  &         0.000        &      -30.843    &      -13.549     \\\\\n",
              "\\textbf{x49}   &     -17.5648  &        4.395     &    -3.996  &         0.000        &      -26.179    &       -8.950     \\\\\n",
              "\\textbf{x50}   &      -6.6293  &        4.625     &    -1.433  &         0.152        &      -15.695    &        2.436     \\\\\n",
              "\\textbf{x51}   &      18.8964  &        4.364     &     4.330  &         0.000        &       10.343    &       27.450     \\\\\n",
              "\\textbf{x52}   &     -16.8371  &        4.551     &    -3.700  &         0.000        &      -25.756    &       -7.918     \\\\\n",
              "\\textbf{x53}   &      13.1404  &        4.559     &     2.883  &         0.004        &        4.206    &       22.075     \\\\\n",
              "\\textbf{x54}   &     -15.3269  &        4.359     &    -3.516  &         0.000        &      -23.871    &       -6.783     \\\\\n",
              "\\textbf{x55}   &     -14.4775  &        4.565     &    -3.171  &         0.002        &      -23.425    &       -5.530     \\\\\n",
              "\\textbf{x56}   &      10.1258  &        4.185     &     2.420  &         0.016        &        1.924    &       18.328     \\\\\n",
              "\\textbf{x57}   &      -1.1862  &        4.528     &    -0.262  &         0.793        &      -10.060    &        7.687     \\\\\n",
              "\\textbf{x58}   &       1.7499  &        4.595     &     0.381  &         0.703        &       -7.256    &       10.756     \\\\\n",
              "\\textbf{x59}   &      -5.8646  &        4.478     &    -1.310  &         0.190        &      -14.641    &        2.912     \\\\\n",
              "\\textbf{x60}   &     -16.7394  &        4.744     &    -3.529  &         0.000        &      -26.037    &       -7.442     \\\\\n",
              "\\textbf{x61}   &      -5.6318  &        4.584     &    -1.229  &         0.219        &      -14.616    &        3.353     \\\\\n",
              "\\textbf{x62}   &      -4.3360  &        4.413     &    -0.982  &         0.326        &      -12.986    &        4.314     \\\\\n",
              "\\textbf{x63}   &     -16.8243  &        4.738     &    -3.551  &         0.000        &      -26.110    &       -7.538     \\\\\n",
              "\\textbf{x64}   &      -3.7467  &        4.400     &    -0.852  &         0.394        &      -12.370    &        4.877     \\\\\n",
              "\\textbf{x65}   &       8.2001  &        4.656     &     1.761  &         0.078        &       -0.925    &       17.325     \\\\\n",
              "\\textbf{x66}   &      59.1187  &        4.650     &    12.713  &         0.000        &       50.004    &       68.233     \\\\\n",
              "\\textbf{x67}   &      28.6765  &        4.617     &     6.211  &         0.000        &       19.627    &       37.726     \\\\\n",
              "\\textbf{x68}   &     -38.0510  &        4.192     &    -9.077  &         0.000        &      -46.267    &      -29.835     \\\\\n",
              "\\textbf{x69}   &       6.2436  &        4.538     &     1.376  &         0.169        &       -2.651    &       15.139     \\\\\n",
              "\\textbf{x70}   &      13.6487  &        4.720     &     2.892  &         0.004        &        4.398    &       22.900     \\\\\n",
              "\\textbf{x71}   &      -0.2149  &        4.265     &    -0.050  &         0.960        &       -8.573    &        8.144     \\\\\n",
              "\\textbf{x72}   &       2.8029  &        4.598     &     0.610  &         0.542        &       -6.208    &       11.814     \\\\\n",
              "\\textbf{x73}   &      -3.1694  &        4.423     &    -0.717  &         0.474        &      -11.838    &        5.499     \\\\\n",
              "\\textbf{x74}   &      31.1431  &        4.439     &     7.016  &         0.000        &       22.443    &       39.843     \\\\\n",
              "\\textbf{x75}   &     -13.7669  &        4.459     &    -3.087  &         0.002        &      -22.506    &       -5.027     \\\\\n",
              "\\textbf{x76}   &      19.8825  &        4.254     &     4.674  &         0.000        &       11.545    &       28.220     \\\\\n",
              "\\textbf{x77}   &     -19.6069  &        4.232     &    -4.633  &         0.000        &      -27.902    &      -11.312     \\\\\n",
              "\\textbf{x78}   &      -7.5241  &        4.256     &    -1.768  &         0.077        &      -15.865    &        0.817     \\\\\n",
              "\\textbf{x79}   &      10.8098  &        4.823     &     2.241  &         0.025        &        1.357    &       20.263     \\\\\n",
              "\\textbf{x80}   &      12.4427  &        4.169     &     2.985  &         0.003        &        4.272    &       20.613     \\\\\n",
              "\\textbf{x81}   &      -5.2464  &        4.624     &    -1.134  &         0.257        &      -14.310    &        3.817     \\\\\n",
              "\\textbf{x82}   &      30.3021  &        4.691     &     6.459  &         0.000        &       21.107    &       39.497     \\\\\n",
              "\\textbf{x83}   &       8.2080  &        4.780     &     1.717  &         0.086        &       -1.160    &       17.576     \\\\\n",
              "\\textbf{x84}   &      -8.0362  &        4.514     &    -1.780  &         0.075        &      -16.883    &        0.811     \\\\\n",
              "\\textbf{x85}   &       3.5822  &        4.297     &     0.834  &         0.404        &       -4.839    &       12.004     \\\\\n",
              "\\textbf{x86}   &       5.5627  &        4.332     &     1.284  &         0.199        &       -2.929    &       14.054     \\\\\n",
              "\\textbf{x87}   &      21.0443  &        4.675     &     4.501  &         0.000        &       11.882    &       30.207     \\\\\n",
              "\\textbf{x88}   &       8.0577  &        4.522     &     1.782  &         0.075        &       -0.806    &       16.921     \\\\\n",
              "\\textbf{x89}   &     -18.5565  &        4.536     &    -4.091  &         0.000        &      -27.447    &       -9.666     \\\\\n",
              "\\textbf{x90}   &      12.7763  &        4.671     &     2.735  &         0.006        &        3.620    &       21.932     \\\\\n",
              "\\textbf{x91}   &      33.5188  &        4.525     &     7.407  &         0.000        &       24.649    &       42.388     \\\\\n",
              "\\textbf{x92}   &      -6.6054  &        4.305     &    -1.534  &         0.125        &      -15.043    &        1.832     \\\\\n",
              "\\textbf{x93}   &      21.7586  &        4.586     &     4.744  &         0.000        &       12.770    &       30.747     \\\\\n",
              "\\textbf{x94}   &      15.9211  &        4.210     &     3.782  &         0.000        &        7.670    &       24.172     \\\\\n",
              "\\textbf{x95}   &      -3.4520  &        4.648     &    -0.743  &         0.458        &      -12.561    &        5.657     \\\\\n",
              "\\textbf{x96}   &       4.2810  &        4.427     &     0.967  &         0.334        &       -4.395    &       12.957     \\\\\n",
              "\\textbf{x97}   &       7.4063  &        4.554     &     1.626  &         0.104        &       -1.519    &       16.331     \\\\\n",
              "\\textbf{x98}   &       1.1656  &        4.454     &     0.262  &         0.794        &       -7.565    &        9.896     \\\\\n",
              "\\textbf{x99}   &     -31.1772  &        4.808     &    -6.484  &         0.000        &      -40.601    &      -21.753     \\\\\n",
              "\\textbf{x100}  &     -18.7490  &        4.340     &    -4.320  &         0.000        &      -27.256    &      -10.242     \\\\\n",
              "\\textbf{x101}  &       7.9255  &        4.439     &     1.785  &         0.074        &       -0.776    &       16.627     \\\\\n",
              "\\textbf{x102}  &      31.8568  &        4.503     &     7.075  &         0.000        &       23.031    &       40.682     \\\\\n",
              "\\textbf{x103}  &      19.3825  &        4.614     &     4.201  &         0.000        &       10.339    &       28.426     \\\\\n",
              "\\textbf{x104}  &     -14.5019  &        4.510     &    -3.216  &         0.001        &      -23.341    &       -5.663     \\\\\n",
              "\\textbf{x105}  &      21.8901  &        4.591     &     4.768  &         0.000        &       12.891    &       30.889     \\\\\n",
              "\\textbf{x106}  &       6.8019  &        4.545     &     1.497  &         0.135        &       -2.106    &       15.710     \\\\\n",
              "\\textbf{x107}  &     -15.6232  &        4.462     &    -3.502  &         0.000        &      -24.368    &       -6.879     \\\\\n",
              "\\textbf{x108}  &      10.2284  &        4.610     &     2.219  &         0.027        &        1.192    &       19.265     \\\\\n",
              "\\textbf{x109}  &       0.2058  &        4.496     &     0.046  &         0.963        &       -8.605    &        9.017     \\\\\n",
              "\\textbf{x110}  &      10.1356  &        4.481     &     2.262  &         0.024        &        1.353    &       18.919     \\\\\n",
              "\\textbf{x111}  &       4.3653  &        4.582     &     0.953  &         0.341        &       -4.616    &       13.347     \\\\\n",
              "\\textbf{x112}  &       9.2147  &        4.452     &     2.070  &         0.038        &        0.489    &       17.940     \\\\\n",
              "\\textbf{x113}  &       5.6221  &        4.544     &     1.237  &         0.216        &       -3.285    &       14.529     \\\\\n",
              "\\textbf{x114}  &      22.5365  &        4.828     &     4.668  &         0.000        &       13.074    &       31.999     \\\\\n",
              "\\textbf{x115}  &     -12.8850  &        4.537     &    -2.840  &         0.005        &      -21.778    &       -3.992     \\\\\n",
              "\\textbf{x116}  &      -5.2267  &        4.564     &    -1.145  &         0.252        &      -14.172    &        3.719     \\\\\n",
              "\\textbf{x117}  &      -9.9256  &        4.528     &    -2.192  &         0.028        &      -18.800    &       -1.051     \\\\\n",
              "\\textbf{x118}  &      -9.8839  &        4.472     &    -2.210  &         0.027        &      -18.649    &       -1.119     \\\\\n",
              "\\textbf{x119}  &      -7.6609  &        4.300     &    -1.782  &         0.075        &      -16.089    &        0.767     \\\\\n",
              "\\textbf{x120}  &      -2.8923  &        4.519     &    -0.640  &         0.522        &      -11.750    &        5.965     \\\\\n",
              "\\textbf{x121}  &      21.3350  &        4.511     &     4.730  &         0.000        &       12.494    &       30.176     \\\\\n",
              "\\textbf{x122}  &     -13.8699  &        4.188     &    -3.312  &         0.001        &      -22.078    &       -5.662     \\\\\n",
              "\\textbf{x123}  &      -3.1291  &        4.608     &    -0.679  &         0.497        &      -12.160    &        5.902     \\\\\n",
              "\\textbf{x124}  &      13.0877  &        4.615     &     2.836  &         0.005        &        4.043    &       22.133     \\\\\n",
              "\\textbf{x125}  &      12.9048  &        4.150     &     3.110  &         0.002        &        4.772    &       21.038     \\\\\n",
              "\\textbf{x126}  &     -19.5731  &        4.368     &    -4.481  &         0.000        &      -28.135    &      -11.011     \\\\\n",
              "\\textbf{x127}  &      18.8572  &        4.708     &     4.005  &         0.000        &        9.630    &       28.084     \\\\\n",
              "\\textbf{x128}  &       7.2817  &        4.720     &     1.543  &         0.123        &       -1.969    &       16.532     \\\\\n",
              "\\textbf{x129}  &       4.7934  &        4.406     &     1.088  &         0.277        &       -3.842    &       13.429     \\\\\n",
              "\\textbf{x130}  &     -15.4658  &        4.471     &    -3.459  &         0.001        &      -24.230    &       -6.702     \\\\\n",
              "\\textbf{x131}  &      -3.1882  &        4.594     &    -0.694  &         0.488        &      -12.191    &        5.815     \\\\\n",
              "\\textbf{x132}  &      -0.9711  &        4.403     &    -0.221  &         0.825        &       -9.600    &        7.658     \\\\\n",
              "\\textbf{x133}  &       2.9647  &        4.472     &     0.663  &         0.507        &       -5.800    &       11.729     \\\\\n",
              "\\textbf{x134}  &       2.6373  &        4.667     &     0.565  &         0.572        &       -6.509    &       11.784     \\\\\n",
              "\\textbf{x135}  &     -14.7493  &        4.569     &    -3.228  &         0.001        &      -23.704    &       -5.795     \\\\\n",
              "\\textbf{x136}  &       0.1257  &        4.349     &     0.029  &         0.977        &       -8.398    &        8.650     \\\\\n",
              "\\textbf{x137}  &       2.7011  &        4.676     &     0.578  &         0.563        &       -6.463    &       11.865     \\\\\n",
              "\\textbf{x138}  &     -18.8631  &        4.303     &    -4.383  &         0.000        &      -27.298    &      -10.429     \\\\\n",
              "\\textbf{x139}  &       2.6911  &        4.500     &     0.598  &         0.550        &       -6.130    &       11.512     \\\\\n",
              "\\textbf{x140}  &     -25.5953  &        4.486     &    -5.705  &         0.000        &      -34.388    &      -16.802     \\\\\n",
              "\\textbf{x141}  &     -10.8450  &        4.540     &    -2.389  &         0.017        &      -19.744    &       -1.946     \\\\\n",
              "\\textbf{x142}  &     -18.9757  &        4.473     &    -4.242  &         0.000        &      -27.743    &      -10.208     \\\\\n",
              "\\textbf{x143}  &       5.3700  &        4.453     &     1.206  &         0.228        &       -3.357    &       14.097     \\\\\n",
              "\\textbf{x144}  &       2.6949  &        4.499     &     0.599  &         0.549        &       -6.123    &       11.513     \\\\\n",
              "\\textbf{x145}  &      30.4525  &        4.384     &     6.946  &         0.000        &       21.860    &       39.045     \\\\\n",
              "\\textbf{x146}  &     -14.7604  &        4.592     &    -3.214  &         0.001        &      -23.761    &       -5.759     \\\\\n",
              "\\textbf{x147}  &      23.4491  &        4.344     &     5.398  &         0.000        &       14.935    &       31.964     \\\\\n",
              "\\textbf{x148}  &     -36.3240  &        4.548     &    -7.987  &         0.000        &      -45.238    &      -27.410     \\\\\n",
              "\\textbf{x149}  &      -5.7332  &        4.339     &    -1.321  &         0.186        &      -14.237    &        2.771     \\\\\n",
              "\\textbf{x150}  &       2.2424  &        4.580     &     0.490  &         0.624        &       -6.734    &       11.218     \\\\\n",
              "\\textbf{x151}  &      -9.6552  &        4.534     &    -2.130  &         0.033        &      -18.541    &       -0.769     \\\\\n",
              "\\textbf{x152}  &       7.5791  &        4.220     &     1.796  &         0.073        &       -0.692    &       15.851     \\\\\n",
              "\\textbf{x153}  &       1.4618  &        4.229     &     0.346  &         0.730        &       -6.826    &        9.750     \\\\\n",
              "\\textbf{x154}  &     -22.8454  &        4.305     &    -5.307  &         0.000        &      -31.283    &      -14.408     \\\\\n",
              "\\textbf{x155}  &       8.9950  &        4.641     &     1.938  &         0.053        &       -0.101    &       18.091     \\\\\n",
              "\\textbf{x156}  &     -19.9681  &        4.477     &    -4.461  &         0.000        &      -28.742    &      -11.194     \\\\\n",
              "\\textbf{x157}  &      15.1605  &        4.712     &     3.217  &         0.001        &        5.925    &       24.396     \\\\\n",
              "\\textbf{x158}  &      -6.0526  &        4.309     &    -1.405  &         0.160        &      -14.498    &        2.393     \\\\\n",
              "\\textbf{x159}  &       9.2393  &        4.751     &     1.945  &         0.052        &       -0.073    &       18.552     \\\\\n",
              "\\textbf{x160}  &      31.9755  &        4.406     &     7.257  &         0.000        &       23.339    &       40.612     \\\\\n",
              "\\textbf{x161}  &      -5.4402  &        4.422     &    -1.230  &         0.219        &      -14.108    &        3.227     \\\\\n",
              "\\textbf{x162}  &      13.2097  &        4.612     &     2.865  &         0.004        &        4.171    &       22.248     \\\\\n",
              "\\textbf{x163}  &      12.7294  &        4.459     &     2.855  &         0.004        &        3.991    &       21.468     \\\\\n",
              "\\textbf{x164}  &      -6.6728  &        4.212     &    -1.584  &         0.113        &      -14.929    &        1.583     \\\\\n",
              "\\textbf{x165}  &       1.6795  &        4.488     &     0.374  &         0.708        &       -7.116    &       10.475     \\\\\n",
              "\\textbf{x166}  &       3.8570  &        4.388     &     0.879  &         0.379        &       -4.743    &       12.457     \\\\\n",
              "\\textbf{x167}  &     -33.9616  &        4.880     &    -6.959  &         0.000        &      -43.526    &      -24.397     \\\\\n",
              "\\textbf{x168}  &       4.9357  &        4.756     &     1.038  &         0.299        &       -4.385    &       14.257     \\\\\n",
              "\\textbf{x169}  &       1.5045  &        4.753     &     0.317  &         0.752        &       -7.811    &       10.820     \\\\\n",
              "\\textbf{x170}  &      -5.0842  &        4.575     &    -1.111  &         0.266        &      -14.052    &        3.883     \\\\\n",
              "\\textbf{x171}  &     -15.1651  &        4.251     &    -3.567  &         0.000        &      -23.497    &       -6.833     \\\\\n",
              "\\textbf{x172}  &      39.7932  &        4.585     &     8.679  &         0.000        &       30.806    &       48.780     \\\\\n",
              "\\textbf{x173}  &     -23.1963  &        4.798     &    -4.835  &         0.000        &      -32.599    &      -13.793     \\\\\n",
              "\\textbf{x174}  &       9.7860  &        4.799     &     2.039  &         0.041        &        0.381    &       19.191     \\\\\n",
              "\\textbf{x175}  &      -1.6861  &        4.784     &    -0.352  &         0.725        &      -11.062    &        7.690     \\\\\n",
              "\\textbf{x176}  &      -1.6434  &        4.485     &    -0.366  &         0.714        &      -10.435    &        7.148     \\\\\n",
              "\\textbf{x177}  &      -6.9972  &        4.497     &    -1.556  &         0.120        &      -15.812    &        1.818     \\\\\n",
              "\\textbf{x178}  &       9.1166  &        4.556     &     2.001  &         0.045        &        0.187    &       18.046     \\\\\n",
              "\\textbf{x179}  &      16.8921  &        4.317     &     3.913  &         0.000        &        8.430    &       25.354     \\\\\n",
              "\\textbf{x180}  &      -4.1618  &        4.467     &    -0.932  &         0.352        &      -12.917    &        4.594     \\\\\n",
              "\\textbf{x181}  &     -16.2533  &        4.502     &    -3.610  &         0.000        &      -25.077    &       -7.430     \\\\\n",
              "\\textbf{x182}  &      -0.0167  &        4.776     &    -0.003  &         0.997        &       -9.378    &        9.344     \\\\\n",
              "\\textbf{x183}  &     -23.8177  &        4.753     &    -5.011  &         0.000        &      -33.134    &      -14.501     \\\\\n",
              "\\textbf{x184}  &      19.3479  &        4.539     &     4.263  &         0.000        &       10.451    &       28.244     \\\\\n",
              "\\textbf{x185}  &      21.7898  &        4.330     &     5.032  &         0.000        &       13.302    &       30.277     \\\\\n",
              "\\textbf{x186}  &       9.5283  &        4.747     &     2.007  &         0.045        &        0.224    &       18.833     \\\\\n",
              "\\textbf{x187}  &     -12.9581  &        4.490     &    -2.886  &         0.004        &      -21.758    &       -4.158     \\\\\n",
              "\\textbf{x188}  &      20.3828  &        4.565     &     4.465  &         0.000        &       11.435    &       29.330     \\\\\n",
              "\\textbf{x189}  &      -9.2038  &        4.506     &    -2.043  &         0.041        &      -18.035    &       -0.373     \\\\\n",
              "\\textbf{x190}  &       0.7672  &        4.175     &     0.184  &         0.854        &       -7.415    &        8.949     \\\\\n",
              "\\textbf{x191}  &     -20.8208  &        4.614     &    -4.513  &         0.000        &      -29.864    &      -11.778     \\\\\n",
              "\\textbf{x192}  &     -14.1627  &        4.630     &    -3.059  &         0.002        &      -23.238    &       -5.088     \\\\\n",
              "\\textbf{x193}  &     -25.1685  &        4.563     &    -5.516  &         0.000        &      -34.112    &      -16.225     \\\\\n",
              "\\textbf{x194}  &     -14.7585  &        4.493     &    -3.284  &         0.001        &      -23.566    &       -5.951     \\\\\n",
              "\\textbf{x195}  &      -8.8208  &        4.621     &    -1.909  &         0.056        &      -17.878    &        0.236     \\\\\n",
              "\\textbf{x196}  &       7.8007  &        4.605     &     1.694  &         0.090        &       -1.225    &       16.826     \\\\\n",
              "\\textbf{x197}  &      -1.9962  &        4.299     &    -0.464  &         0.642        &      -10.422    &        6.430     \\\\\n",
              "\\textbf{x198}  &      29.9282  &        4.396     &     6.807  &         0.000        &       21.311    &       38.545     \\\\\n",
              "\\textbf{x199}  &     -32.6283  &        4.349     &    -7.502  &         0.000        &      -41.153    &      -24.104     \\\\\n",
              "\\textbf{x200}  &     -26.3656  &        4.610     &    -5.720  &         0.000        &      -35.400    &      -17.331     \\\\\n",
              "\\textbf{x201}  &      14.1315  &        4.348     &     3.250  &         0.001        &        5.609    &       22.654     \\\\\n",
              "\\textbf{x202}  &      -6.2510  &        4.332     &    -1.443  &         0.149        &      -14.741    &        2.239     \\\\\n",
              "\\textbf{x203}  &      -1.6561  &        4.329     &    -0.383  &         0.702        &      -10.140    &        6.828     \\\\\n",
              "\\textbf{x204}  &      -8.6095  &        4.478     &    -1.923  &         0.055        &      -17.385    &        0.166     \\\\\n",
              "\\textbf{x205}  &     -32.9728  &        4.408     &    -7.480  &         0.000        &      -41.613    &      -24.333     \\\\\n",
              "\\textbf{x206}  &      -8.8441  &        4.235     &    -2.088  &         0.037        &      -17.144    &       -0.544     \\\\\n",
              "\\textbf{x207}  &      20.1128  &        4.683     &     4.295  &         0.000        &       10.934    &       29.291     \\\\\n",
              "\\textbf{x208}  &     -29.5784  &        4.516     &    -6.550  &         0.000        &      -38.430    &      -20.727     \\\\\n",
              "\\textbf{x209}  &      -4.5640  &        4.584     &    -0.996  &         0.319        &      -13.548    &        4.420     \\\\\n",
              "\\textbf{x210}  &     -32.6984  &        4.594     &    -7.117  &         0.000        &      -41.703    &      -23.694     \\\\\n",
              "\\textbf{x211}  &      -1.8512  &        4.673     &    -0.396  &         0.692        &      -11.011    &        7.308     \\\\\n",
              "\\textbf{x212}  &     -33.0094  &        4.501     &    -7.335  &         0.000        &      -41.830    &      -24.188     \\\\\n",
              "\\textbf{x213}  &     -14.5332  &        4.446     &    -3.269  &         0.001        &      -23.248    &       -5.819     \\\\\n",
              "\\textbf{x214}  &       3.4813  &        4.325     &     0.805  &         0.421        &       -4.995    &       11.958     \\\\\n",
              "\\textbf{x215}  &       3.3751  &        4.346     &     0.777  &         0.437        &       -5.142    &       11.892     \\\\\n",
              "\\textbf{x216}  &     -57.0218  &        4.604     &   -12.386  &         0.000        &      -66.045    &      -47.999     \\\\\n",
              "\\textbf{x217}  &     -24.2927  &        4.444     &    -5.466  &         0.000        &      -33.004    &      -15.582     \\\\\n",
              "\\textbf{x218}  &      16.4293  &        4.438     &     3.702  &         0.000        &        7.731    &       25.128     \\\\\n",
              "\\textbf{x219}  &      18.8437  &        4.670     &     4.035  &         0.000        &        9.690    &       27.997     \\\\\n",
              "\\textbf{x220}  &       9.4286  &        4.522     &     2.085  &         0.037        &        0.567    &       18.291     \\\\\n",
              "\\textbf{x221}  &       7.2653  &        4.532     &     1.603  &         0.109        &       -1.617    &       16.148     \\\\\n",
              "\\textbf{x222}  &     -20.1621  &        4.425     &    -4.557  &         0.000        &      -28.834    &      -11.490     \\\\\n",
              "\\textbf{x223}  &       8.5344  &        4.724     &     1.807  &         0.071        &       -0.724    &       17.793     \\\\\n",
              "\\textbf{x224}  &       1.8322  &        4.325     &     0.424  &         0.672        &       -6.645    &       10.309     \\\\\n",
              "\\textbf{x225}  &     -28.0005  &        4.353     &    -6.432  &         0.000        &      -36.533    &      -19.468     \\\\\n",
              "\\textbf{x226}  &     -12.5878  &        4.617     &    -2.727  &         0.006        &      -21.636    &       -3.540     \\\\\n",
              "\\textbf{x227}  &     -12.0361  &        4.506     &    -2.671  &         0.008        &      -20.869    &       -3.204     \\\\\n",
              "\\textbf{x228}  &      -5.6780  &        4.317     &    -1.315  &         0.188        &      -14.138    &        2.782     \\\\\n",
              "\\textbf{x229}  &      -3.3938  &        4.371     &    -0.776  &         0.437        &      -11.960    &        5.173     \\\\\n",
              "\\textbf{x230}  &      20.2072  &        4.617     &     4.377  &         0.000        &       11.159    &       29.256     \\\\\n",
              "\\textbf{x231}  &      -7.1442  &        4.562     &    -1.566  &         0.117        &      -16.086    &        1.798     \\\\\n",
              "\\textbf{x232}  &      15.0827  &        4.388     &     3.437  &         0.001        &        6.483    &       23.683     \\\\\n",
              "\\textbf{x233}  &     -21.9138  &        4.626     &    -4.737  &         0.000        &      -30.981    &      -12.847     \\\\\n",
              "\\textbf{x234}  &      17.2763  &        4.506     &     3.834  &         0.000        &        8.445    &       26.108     \\\\\n",
              "\\textbf{x235}  &       5.7017  &        4.442     &     1.284  &         0.199        &       -3.005    &       14.408     \\\\\n",
              "\\textbf{x236}  &       5.7433  &        4.469     &     1.285  &         0.199        &       -3.016    &       14.502     \\\\\n",
              "\\textbf{x237}  &     -31.4322  &        4.427     &    -7.099  &         0.000        &      -40.110    &      -22.755     \\\\\n",
              "\\textbf{x238}  &      -6.2627  &        4.577     &    -1.368  &         0.171        &      -15.234    &        2.709     \\\\\n",
              "\\textbf{x239}  &      -6.0034  &        4.934     &    -1.217  &         0.224        &      -15.673    &        3.666     \\\\\n",
              "\\textbf{x240}  &     -30.7060  &        4.847     &    -6.335  &         0.000        &      -40.206    &      -21.206     \\\\\n",
              "\\textbf{x241}  &      22.2228  &        4.401     &     5.049  &         0.000        &       13.597    &       30.849     \\\\\n",
              "\\textbf{x242}  &     -22.3243  &        4.618     &    -4.835  &         0.000        &      -31.375    &      -13.274     \\\\\n",
              "\\textbf{x243}  &     -12.4331  &        4.491     &    -2.769  &         0.006        &      -21.235    &       -3.632     \\\\\n",
              "\\textbf{x244}  &      27.3110  &        4.360     &     6.264  &         0.000        &       18.765    &       35.857     \\\\\n",
              "\\textbf{x245}  &      -6.4787  &        4.341     &    -1.493  &         0.136        &      -14.986    &        2.029     \\\\\n",
              "\\textbf{x246}  &     -21.9427  &        4.450     &    -4.931  &         0.000        &      -30.664    &      -13.221     \\\\\n",
              "\\textbf{x247}  &       9.3128  &        4.419     &     2.107  &         0.035        &        0.652    &       17.974     \\\\\n",
              "\\textbf{x248}  &       6.5774  &        4.562     &     1.442  &         0.149        &       -2.364    &       15.519     \\\\\n",
              "\\textbf{x249}  &       4.9487  &        4.579     &     1.081  &         0.280        &       -4.027    &       13.924     \\\\\n",
              "\\textbf{x250}  &      10.7573  &        4.519     &     2.381  &         0.017        &        1.901    &       19.613     \\\\\n",
              "\\textbf{x251}  &      -7.7320  &        4.653     &    -1.662  &         0.097        &      -16.851    &        1.387     \\\\\n",
              "\\textbf{x252}  &       2.2697  &        4.672     &     0.486  &         0.627        &       -6.886    &       11.426     \\\\\n",
              "\\textbf{x253}  &     -17.7402  &        4.395     &    -4.036  &         0.000        &      -26.355    &       -9.126     \\\\\n",
              "\\textbf{x254}  &     -13.0215  &        4.603     &    -2.829  &         0.005        &      -22.043    &       -4.000     \\\\\n",
              "\\textbf{x255}  &      12.9845  &        4.649     &     2.793  &         0.005        &        3.872    &       22.097     \\\\\n",
              "\\textbf{x256}  &      19.2085  &        4.398     &     4.368  &         0.000        &       10.589    &       27.828     \\\\\n",
              "\\textbf{x257}  &       2.7317  &        4.495     &     0.608  &         0.543        &       -6.078    &       11.541     \\\\\n",
              "\\textbf{x258}  &       7.9003  &        4.490     &     1.760  &         0.078        &       -0.899    &       16.700     \\\\\n",
              "\\textbf{x259}  &       5.7011  &        4.545     &     1.254  &         0.210        &       -3.207    &       14.609     \\\\\n",
              "\\textbf{x260}  &      -4.1486  &        4.248     &    -0.977  &         0.329        &      -12.474    &        4.177     \\\\\n",
              "\\textbf{x261}  &     -16.4526  &        4.742     &    -3.470  &         0.001        &      -25.747    &       -7.158     \\\\\n",
              "\\textbf{x262}  &      11.9871  &        4.627     &     2.591  &         0.010        &        2.918    &       21.056     \\\\\n",
              "\\textbf{x263}  &       1.5254  &        4.399     &     0.347  &         0.729        &       -7.097    &       10.148     \\\\\n",
              "\\textbf{x264}  &       0.2642  &        4.337     &     0.061  &         0.951        &       -8.236    &        8.765     \\\\\n",
              "\\textbf{x265}  &     -25.5936  &        4.512     &    -5.672  &         0.000        &      -34.438    &      -16.750     \\\\\n",
              "\\textbf{x266}  &       7.6702  &        4.205     &     1.824  &         0.068        &       -0.571    &       15.911     \\\\\n",
              "\\textbf{x267}  &      30.2602  &        4.504     &     6.719  &         0.000        &       21.433    &       39.088     \\\\\n",
              "\\textbf{x268}  &      -6.2685  &        4.790     &    -1.309  &         0.191        &      -15.657    &        3.120     \\\\\n",
              "\\textbf{x269}  &       2.1132  &        4.467     &     0.473  &         0.636        &       -6.641    &       10.868     \\\\\n",
              "\\textbf{x270}  &       9.3568  &        4.493     &     2.083  &         0.037        &        0.551    &       18.163     \\\\\n",
              "\\textbf{x271}  &      15.7494  &        4.459     &     3.532  &         0.000        &        7.010    &       24.489     \\\\\n",
              "\\textbf{x272}  &      -8.6927  &        4.337     &    -2.004  &         0.045        &      -17.193    &       -0.192     \\\\\n",
              "\\textbf{x273}  &     -18.5104  &        4.516     &    -4.099  &         0.000        &      -27.361    &       -9.659     \\\\\n",
              "\\textbf{x274}  &       5.3801  &        4.035     &     1.333  &         0.182        &       -2.528    &       13.288     \\\\\n",
              "\\textbf{x275}  &     -16.0015  &        4.516     &    -3.543  &         0.000        &      -24.853    &       -7.150     \\\\\n",
              "\\textbf{x276}  &      18.6778  &        4.351     &     4.293  &         0.000        &       10.150    &       27.206     \\\\\n",
              "\\textbf{x277}  &      15.6310  &        4.440     &     3.521  &         0.000        &        6.929    &       24.333     \\\\\n",
              "\\textbf{x278}  &      13.6549  &        4.377     &     3.120  &         0.002        &        5.076    &       22.234     \\\\\n",
              "\\textbf{x279}  &      -7.0914  &        4.610     &    -1.538  &         0.124        &      -16.127    &        1.945     \\\\\n",
              "\\textbf{x280}  &      -7.8190  &        4.490     &    -1.741  &         0.082        &      -16.620    &        0.982     \\\\\n",
              "\\textbf{x281}  &       1.0786  &        4.446     &     0.243  &         0.808        &       -7.636    &        9.793     \\\\\n",
              "\\textbf{x282}  &     -10.2289  &        4.225     &    -2.421  &         0.015        &      -18.510    &       -1.948     \\\\\n",
              "\\textbf{x283}  &       1.0352  &        4.363     &     0.237  &         0.812        &       -7.517    &        9.587     \\\\\n",
              "\\textbf{x284}  &      10.0637  &        4.511     &     2.231  &         0.026        &        1.221    &       18.906     \\\\\n",
              "\\textbf{x285}  &       3.3167  &        4.454     &     0.745  &         0.457        &       -5.414    &       12.047     \\\\\n",
              "\\textbf{x286}  &       1.4978  &        4.524     &     0.331  &         0.741        &       -7.369    &       10.365     \\\\\n",
              "\\textbf{x287}  &      -4.2265  &        4.851     &    -0.871  &         0.384        &      -13.734    &        5.281     \\\\\n",
              "\\textbf{x288}  &      43.2315  &        4.073     &    10.614  &         0.000        &       35.248    &       51.215     \\\\\n",
              "\\textbf{x289}  &     -26.8350  &        4.426     &    -6.063  &         0.000        &      -35.510    &      -18.160     \\\\\n",
              "\\textbf{x290}  &      -2.2951  &        4.202     &    -0.546  &         0.585        &      -10.531    &        5.941     \\\\\n",
              "\\textbf{x291}  &     -25.5158  &        4.127     &    -6.183  &         0.000        &      -33.604    &      -17.428     \\\\\n",
              "\\textbf{x292}  &      19.5931  &        4.270     &     4.589  &         0.000        &       11.225    &       27.961     \\\\\n",
              "\\textbf{x293}  &       7.2679  &        4.529     &     1.605  &         0.109        &       -1.610    &       16.145     \\\\\n",
              "\\textbf{x294}  &     -20.2850  &        4.322     &    -4.693  &         0.000        &      -28.756    &      -11.814     \\\\\n",
              "\\textbf{x295}  &       8.3696  &        4.497     &     1.861  &         0.063        &       -0.443    &       17.183     \\\\\n",
              "\\textbf{x296}  &      13.2146  &        4.179     &     3.162  &         0.002        &        5.024    &       21.405     \\\\\n",
              "\\textbf{x297}  &       7.3774  &        4.375     &     1.686  &         0.092        &       -1.197    &       15.952     \\\\\n",
              "\\textbf{x298}  &      18.2555  &        4.308     &     4.238  &         0.000        &        9.812    &       26.699     \\\\\n",
              "\\textbf{x299}  &     -25.9052  &        4.640     &    -5.584  &         0.000        &      -34.999    &      -16.812     \\\\\n",
              "\\textbf{x300}  &     -30.5244  &        4.701     &    -6.493  &         0.000        &      -39.738    &      -21.310     \\\\\n",
              "\\bottomrule\n",
              "\\end{tabular}\n",
              "%\\caption{Generalized Linear Model Regression Results}\n",
              "\\end{center}"
            ],
            "text/plain": [
              "<class 'statsmodels.iolib.summary.Summary'>\n",
              "\"\"\"\n",
              "                 Generalized Linear Model Regression Results                  \n",
              "==============================================================================\n",
              "Dep. Variable:                  class   No. Observations:                31422\n",
              "Model:                            GLM   Df Residuals:                    31121\n",
              "Model Family:                Binomial   Df Model:                          300\n",
              "Link Function:                  Logit   Scale:                          1.0000\n",
              "Method:                          IRLS   Log-Likelihood:                -2093.2\n",
              "Date:                Wed, 30 Apr 2025   Deviance:                       4186.5\n",
              "Time:                        15:50:04   Pearson chi2:                 1.66e+05\n",
              "No. Iterations:                    10   Pseudo R-squ. (CS):             0.7137\n",
              "Covariance Type:            nonrobust                                         \n",
              "==============================================================================\n",
              "                 coef    std err          z      P>|z|      [0.025      0.975]\n",
              "------------------------------------------------------------------------------\n",
              "const         29.7334      4.746      6.265      0.000      20.431      39.036\n",
              "x1            -9.4991      4.331     -2.193      0.028     -17.988      -1.010\n",
              "x2             2.9168      4.653      0.627      0.531      -6.202      12.036\n",
              "x3            35.4834      4.589      7.733      0.000      26.490      44.477\n",
              "x4           -16.2977      4.375     -3.725      0.000     -24.873      -7.722\n",
              "x5             2.1150      4.705      0.450      0.653      -7.107      11.337\n",
              "x6            17.1104      4.421      3.870      0.000       8.445      25.776\n",
              "x7            10.4177      4.445      2.344      0.019       1.706      19.129\n",
              "x8           -12.8543      4.588     -2.802      0.005     -21.846      -3.862\n",
              "x9            -7.4971      4.456     -1.683      0.092     -16.230       1.236\n",
              "x10            7.5254      5.008      1.503      0.133      -2.290      17.341\n",
              "x11           26.5573      4.516      5.881      0.000      17.707      35.408\n",
              "x12           13.9576      4.666      2.991      0.003       4.812      23.103\n",
              "x13          -15.9343      4.679     -3.405      0.001     -25.106      -6.763\n",
              "x14            2.5593      4.547      0.563      0.574      -6.354      11.472\n",
              "x15            3.2674      4.221      0.774      0.439      -5.005      11.540\n",
              "x16           -7.4259      4.632     -1.603      0.109     -16.504       1.652\n",
              "x17           32.1711      4.265      7.543      0.000      23.812      40.530\n",
              "x18           11.9457      4.148      2.880      0.004       3.816      20.075\n",
              "x19            6.7650      4.563      1.483      0.138      -2.178      15.708\n",
              "x20          -12.0289      4.516     -2.663      0.008     -20.881      -3.177\n",
              "x21          -28.3599      4.177     -6.790      0.000     -36.546     -20.174\n",
              "x22          -33.8593      4.391     -7.711      0.000     -42.466     -25.253\n",
              "x23           15.2983      4.289      3.567      0.000       6.892      23.704\n",
              "x24            3.7285      4.227      0.882      0.378      -4.557      12.014\n",
              "x25           -8.0674      4.365     -1.848      0.065     -16.623       0.488\n",
              "x26          -35.0045      4.474     -7.823      0.000     -43.774     -26.235\n",
              "x27           26.7665      4.671      5.730      0.000      17.612      35.921\n",
              "x28           -4.5739      4.695     -0.974      0.330     -13.776       4.628\n",
              "x29          -12.2743      4.535     -2.707      0.007     -21.162      -3.386\n",
              "x30           14.4107      4.518      3.190      0.001       5.557      23.265\n",
              "x31          -15.5540      4.349     -3.576      0.000     -24.078      -7.030\n",
              "x32            3.3272      4.481      0.743      0.458      -5.455      12.109\n",
              "x33           10.4639      4.439      2.357      0.018       1.764      19.164\n",
              "x34           -4.1533      4.597     -0.903      0.366     -13.164       4.857\n",
              "x35            0.5847      4.251      0.138      0.891      -7.748       8.917\n",
              "x36            2.3401      4.431      0.528      0.597      -6.344      11.025\n",
              "x37           -8.4964      4.437     -1.915      0.055     -17.193       0.200\n",
              "x38           -1.7920      4.630     -0.387      0.699     -10.866       7.282\n",
              "x39            4.7964      4.677      1.025      0.305      -4.371      13.964\n",
              "x40            3.1945      4.349      0.734      0.463      -5.330      11.719\n",
              "x41          -26.5254      4.467     -5.939      0.000     -35.280     -17.771\n",
              "x42            0.1351      4.376      0.031      0.975      -8.442       8.712\n",
              "x43           -0.1954      4.480     -0.044      0.965      -8.976       8.585\n",
              "x44           15.3844      4.588      3.353      0.001       6.392      24.377\n",
              "x45            9.9525      4.268      2.332      0.020       1.587      18.318\n",
              "x46           16.4079      4.395      3.734      0.000       7.795      25.021\n",
              "x47          -15.0897      4.513     -3.343      0.001     -23.936      -6.244\n",
              "x48          -22.1963      4.412     -5.031      0.000     -30.843     -13.549\n",
              "x49          -17.5648      4.395     -3.996      0.000     -26.179      -8.950\n",
              "x50           -6.6293      4.625     -1.433      0.152     -15.695       2.436\n",
              "x51           18.8964      4.364      4.330      0.000      10.343      27.450\n",
              "x52          -16.8371      4.551     -3.700      0.000     -25.756      -7.918\n",
              "x53           13.1404      4.559      2.883      0.004       4.206      22.075\n",
              "x54          -15.3269      4.359     -3.516      0.000     -23.871      -6.783\n",
              "x55          -14.4775      4.565     -3.171      0.002     -23.425      -5.530\n",
              "x56           10.1258      4.185      2.420      0.016       1.924      18.328\n",
              "x57           -1.1862      4.528     -0.262      0.793     -10.060       7.687\n",
              "x58            1.7499      4.595      0.381      0.703      -7.256      10.756\n",
              "x59           -5.8646      4.478     -1.310      0.190     -14.641       2.912\n",
              "x60          -16.7394      4.744     -3.529      0.000     -26.037      -7.442\n",
              "x61           -5.6318      4.584     -1.229      0.219     -14.616       3.353\n",
              "x62           -4.3360      4.413     -0.982      0.326     -12.986       4.314\n",
              "x63          -16.8243      4.738     -3.551      0.000     -26.110      -7.538\n",
              "x64           -3.7467      4.400     -0.852      0.394     -12.370       4.877\n",
              "x65            8.2001      4.656      1.761      0.078      -0.925      17.325\n",
              "x66           59.1187      4.650     12.713      0.000      50.004      68.233\n",
              "x67           28.6765      4.617      6.211      0.000      19.627      37.726\n",
              "x68          -38.0510      4.192     -9.077      0.000     -46.267     -29.835\n",
              "x69            6.2436      4.538      1.376      0.169      -2.651      15.139\n",
              "x70           13.6487      4.720      2.892      0.004       4.398      22.900\n",
              "x71           -0.2149      4.265     -0.050      0.960      -8.573       8.144\n",
              "x72            2.8029      4.598      0.610      0.542      -6.208      11.814\n",
              "x73           -3.1694      4.423     -0.717      0.474     -11.838       5.499\n",
              "x74           31.1431      4.439      7.016      0.000      22.443      39.843\n",
              "x75          -13.7669      4.459     -3.087      0.002     -22.506      -5.027\n",
              "x76           19.8825      4.254      4.674      0.000      11.545      28.220\n",
              "x77          -19.6069      4.232     -4.633      0.000     -27.902     -11.312\n",
              "x78           -7.5241      4.256     -1.768      0.077     -15.865       0.817\n",
              "x79           10.8098      4.823      2.241      0.025       1.357      20.263\n",
              "x80           12.4427      4.169      2.985      0.003       4.272      20.613\n",
              "x81           -5.2464      4.624     -1.134      0.257     -14.310       3.817\n",
              "x82           30.3021      4.691      6.459      0.000      21.107      39.497\n",
              "x83            8.2080      4.780      1.717      0.086      -1.160      17.576\n",
              "x84           -8.0362      4.514     -1.780      0.075     -16.883       0.811\n",
              "x85            3.5822      4.297      0.834      0.404      -4.839      12.004\n",
              "x86            5.5627      4.332      1.284      0.199      -2.929      14.054\n",
              "x87           21.0443      4.675      4.501      0.000      11.882      30.207\n",
              "x88            8.0577      4.522      1.782      0.075      -0.806      16.921\n",
              "x89          -18.5565      4.536     -4.091      0.000     -27.447      -9.666\n",
              "x90           12.7763      4.671      2.735      0.006       3.620      21.932\n",
              "x91           33.5188      4.525      7.407      0.000      24.649      42.388\n",
              "x92           -6.6054      4.305     -1.534      0.125     -15.043       1.832\n",
              "x93           21.7586      4.586      4.744      0.000      12.770      30.747\n",
              "x94           15.9211      4.210      3.782      0.000       7.670      24.172\n",
              "x95           -3.4520      4.648     -0.743      0.458     -12.561       5.657\n",
              "x96            4.2810      4.427      0.967      0.334      -4.395      12.957\n",
              "x97            7.4063      4.554      1.626      0.104      -1.519      16.331\n",
              "x98            1.1656      4.454      0.262      0.794      -7.565       9.896\n",
              "x99          -31.1772      4.808     -6.484      0.000     -40.601     -21.753\n",
              "x100         -18.7490      4.340     -4.320      0.000     -27.256     -10.242\n",
              "x101           7.9255      4.439      1.785      0.074      -0.776      16.627\n",
              "x102          31.8568      4.503      7.075      0.000      23.031      40.682\n",
              "x103          19.3825      4.614      4.201      0.000      10.339      28.426\n",
              "x104         -14.5019      4.510     -3.216      0.001     -23.341      -5.663\n",
              "x105          21.8901      4.591      4.768      0.000      12.891      30.889\n",
              "x106           6.8019      4.545      1.497      0.135      -2.106      15.710\n",
              "x107         -15.6232      4.462     -3.502      0.000     -24.368      -6.879\n",
              "x108          10.2284      4.610      2.219      0.027       1.192      19.265\n",
              "x109           0.2058      4.496      0.046      0.963      -8.605       9.017\n",
              "x110          10.1356      4.481      2.262      0.024       1.353      18.919\n",
              "x111           4.3653      4.582      0.953      0.341      -4.616      13.347\n",
              "x112           9.2147      4.452      2.070      0.038       0.489      17.940\n",
              "x113           5.6221      4.544      1.237      0.216      -3.285      14.529\n",
              "x114          22.5365      4.828      4.668      0.000      13.074      31.999\n",
              "x115         -12.8850      4.537     -2.840      0.005     -21.778      -3.992\n",
              "x116          -5.2267      4.564     -1.145      0.252     -14.172       3.719\n",
              "x117          -9.9256      4.528     -2.192      0.028     -18.800      -1.051\n",
              "x118          -9.8839      4.472     -2.210      0.027     -18.649      -1.119\n",
              "x119          -7.6609      4.300     -1.782      0.075     -16.089       0.767\n",
              "x120          -2.8923      4.519     -0.640      0.522     -11.750       5.965\n",
              "x121          21.3350      4.511      4.730      0.000      12.494      30.176\n",
              "x122         -13.8699      4.188     -3.312      0.001     -22.078      -5.662\n",
              "x123          -3.1291      4.608     -0.679      0.497     -12.160       5.902\n",
              "x124          13.0877      4.615      2.836      0.005       4.043      22.133\n",
              "x125          12.9048      4.150      3.110      0.002       4.772      21.038\n",
              "x126         -19.5731      4.368     -4.481      0.000     -28.135     -11.011\n",
              "x127          18.8572      4.708      4.005      0.000       9.630      28.084\n",
              "x128           7.2817      4.720      1.543      0.123      -1.969      16.532\n",
              "x129           4.7934      4.406      1.088      0.277      -3.842      13.429\n",
              "x130         -15.4658      4.471     -3.459      0.001     -24.230      -6.702\n",
              "x131          -3.1882      4.594     -0.694      0.488     -12.191       5.815\n",
              "x132          -0.9711      4.403     -0.221      0.825      -9.600       7.658\n",
              "x133           2.9647      4.472      0.663      0.507      -5.800      11.729\n",
              "x134           2.6373      4.667      0.565      0.572      -6.509      11.784\n",
              "x135         -14.7493      4.569     -3.228      0.001     -23.704      -5.795\n",
              "x136           0.1257      4.349      0.029      0.977      -8.398       8.650\n",
              "x137           2.7011      4.676      0.578      0.563      -6.463      11.865\n",
              "x138         -18.8631      4.303     -4.383      0.000     -27.298     -10.429\n",
              "x139           2.6911      4.500      0.598      0.550      -6.130      11.512\n",
              "x140         -25.5953      4.486     -5.705      0.000     -34.388     -16.802\n",
              "x141         -10.8450      4.540     -2.389      0.017     -19.744      -1.946\n",
              "x142         -18.9757      4.473     -4.242      0.000     -27.743     -10.208\n",
              "x143           5.3700      4.453      1.206      0.228      -3.357      14.097\n",
              "x144           2.6949      4.499      0.599      0.549      -6.123      11.513\n",
              "x145          30.4525      4.384      6.946      0.000      21.860      39.045\n",
              "x146         -14.7604      4.592     -3.214      0.001     -23.761      -5.759\n",
              "x147          23.4491      4.344      5.398      0.000      14.935      31.964\n",
              "x148         -36.3240      4.548     -7.987      0.000     -45.238     -27.410\n",
              "x149          -5.7332      4.339     -1.321      0.186     -14.237       2.771\n",
              "x150           2.2424      4.580      0.490      0.624      -6.734      11.218\n",
              "x151          -9.6552      4.534     -2.130      0.033     -18.541      -0.769\n",
              "x152           7.5791      4.220      1.796      0.073      -0.692      15.851\n",
              "x153           1.4618      4.229      0.346      0.730      -6.826       9.750\n",
              "x154         -22.8454      4.305     -5.307      0.000     -31.283     -14.408\n",
              "x155           8.9950      4.641      1.938      0.053      -0.101      18.091\n",
              "x156         -19.9681      4.477     -4.461      0.000     -28.742     -11.194\n",
              "x157          15.1605      4.712      3.217      0.001       5.925      24.396\n",
              "x158          -6.0526      4.309     -1.405      0.160     -14.498       2.393\n",
              "x159           9.2393      4.751      1.945      0.052      -0.073      18.552\n",
              "x160          31.9755      4.406      7.257      0.000      23.339      40.612\n",
              "x161          -5.4402      4.422     -1.230      0.219     -14.108       3.227\n",
              "x162          13.2097      4.612      2.865      0.004       4.171      22.248\n",
              "x163          12.7294      4.459      2.855      0.004       3.991      21.468\n",
              "x164          -6.6728      4.212     -1.584      0.113     -14.929       1.583\n",
              "x165           1.6795      4.488      0.374      0.708      -7.116      10.475\n",
              "x166           3.8570      4.388      0.879      0.379      -4.743      12.457\n",
              "x167         -33.9616      4.880     -6.959      0.000     -43.526     -24.397\n",
              "x168           4.9357      4.756      1.038      0.299      -4.385      14.257\n",
              "x169           1.5045      4.753      0.317      0.752      -7.811      10.820\n",
              "x170          -5.0842      4.575     -1.111      0.266     -14.052       3.883\n",
              "x171         -15.1651      4.251     -3.567      0.000     -23.497      -6.833\n",
              "x172          39.7932      4.585      8.679      0.000      30.806      48.780\n",
              "x173         -23.1963      4.798     -4.835      0.000     -32.599     -13.793\n",
              "x174           9.7860      4.799      2.039      0.041       0.381      19.191\n",
              "x175          -1.6861      4.784     -0.352      0.725     -11.062       7.690\n",
              "x176          -1.6434      4.485     -0.366      0.714     -10.435       7.148\n",
              "x177          -6.9972      4.497     -1.556      0.120     -15.812       1.818\n",
              "x178           9.1166      4.556      2.001      0.045       0.187      18.046\n",
              "x179          16.8921      4.317      3.913      0.000       8.430      25.354\n",
              "x180          -4.1618      4.467     -0.932      0.352     -12.917       4.594\n",
              "x181         -16.2533      4.502     -3.610      0.000     -25.077      -7.430\n",
              "x182          -0.0167      4.776     -0.003      0.997      -9.378       9.344\n",
              "x183         -23.8177      4.753     -5.011      0.000     -33.134     -14.501\n",
              "x184          19.3479      4.539      4.263      0.000      10.451      28.244\n",
              "x185          21.7898      4.330      5.032      0.000      13.302      30.277\n",
              "x186           9.5283      4.747      2.007      0.045       0.224      18.833\n",
              "x187         -12.9581      4.490     -2.886      0.004     -21.758      -4.158\n",
              "x188          20.3828      4.565      4.465      0.000      11.435      29.330\n",
              "x189          -9.2038      4.506     -2.043      0.041     -18.035      -0.373\n",
              "x190           0.7672      4.175      0.184      0.854      -7.415       8.949\n",
              "x191         -20.8208      4.614     -4.513      0.000     -29.864     -11.778\n",
              "x192         -14.1627      4.630     -3.059      0.002     -23.238      -5.088\n",
              "x193         -25.1685      4.563     -5.516      0.000     -34.112     -16.225\n",
              "x194         -14.7585      4.493     -3.284      0.001     -23.566      -5.951\n",
              "x195          -8.8208      4.621     -1.909      0.056     -17.878       0.236\n",
              "x196           7.8007      4.605      1.694      0.090      -1.225      16.826\n",
              "x197          -1.9962      4.299     -0.464      0.642     -10.422       6.430\n",
              "x198          29.9282      4.396      6.807      0.000      21.311      38.545\n",
              "x199         -32.6283      4.349     -7.502      0.000     -41.153     -24.104\n",
              "x200         -26.3656      4.610     -5.720      0.000     -35.400     -17.331\n",
              "x201          14.1315      4.348      3.250      0.001       5.609      22.654\n",
              "x202          -6.2510      4.332     -1.443      0.149     -14.741       2.239\n",
              "x203          -1.6561      4.329     -0.383      0.702     -10.140       6.828\n",
              "x204          -8.6095      4.478     -1.923      0.055     -17.385       0.166\n",
              "x205         -32.9728      4.408     -7.480      0.000     -41.613     -24.333\n",
              "x206          -8.8441      4.235     -2.088      0.037     -17.144      -0.544\n",
              "x207          20.1128      4.683      4.295      0.000      10.934      29.291\n",
              "x208         -29.5784      4.516     -6.550      0.000     -38.430     -20.727\n",
              "x209          -4.5640      4.584     -0.996      0.319     -13.548       4.420\n",
              "x210         -32.6984      4.594     -7.117      0.000     -41.703     -23.694\n",
              "x211          -1.8512      4.673     -0.396      0.692     -11.011       7.308\n",
              "x212         -33.0094      4.501     -7.335      0.000     -41.830     -24.188\n",
              "x213         -14.5332      4.446     -3.269      0.001     -23.248      -5.819\n",
              "x214           3.4813      4.325      0.805      0.421      -4.995      11.958\n",
              "x215           3.3751      4.346      0.777      0.437      -5.142      11.892\n",
              "x216         -57.0218      4.604    -12.386      0.000     -66.045     -47.999\n",
              "x217         -24.2927      4.444     -5.466      0.000     -33.004     -15.582\n",
              "x218          16.4293      4.438      3.702      0.000       7.731      25.128\n",
              "x219          18.8437      4.670      4.035      0.000       9.690      27.997\n",
              "x220           9.4286      4.522      2.085      0.037       0.567      18.291\n",
              "x221           7.2653      4.532      1.603      0.109      -1.617      16.148\n",
              "x222         -20.1621      4.425     -4.557      0.000     -28.834     -11.490\n",
              "x223           8.5344      4.724      1.807      0.071      -0.724      17.793\n",
              "x224           1.8322      4.325      0.424      0.672      -6.645      10.309\n",
              "x225         -28.0005      4.353     -6.432      0.000     -36.533     -19.468\n",
              "x226         -12.5878      4.617     -2.727      0.006     -21.636      -3.540\n",
              "x227         -12.0361      4.506     -2.671      0.008     -20.869      -3.204\n",
              "x228          -5.6780      4.317     -1.315      0.188     -14.138       2.782\n",
              "x229          -3.3938      4.371     -0.776      0.437     -11.960       5.173\n",
              "x230          20.2072      4.617      4.377      0.000      11.159      29.256\n",
              "x231          -7.1442      4.562     -1.566      0.117     -16.086       1.798\n",
              "x232          15.0827      4.388      3.437      0.001       6.483      23.683\n",
              "x233         -21.9138      4.626     -4.737      0.000     -30.981     -12.847\n",
              "x234          17.2763      4.506      3.834      0.000       8.445      26.108\n",
              "x235           5.7017      4.442      1.284      0.199      -3.005      14.408\n",
              "x236           5.7433      4.469      1.285      0.199      -3.016      14.502\n",
              "x237         -31.4322      4.427     -7.099      0.000     -40.110     -22.755\n",
              "x238          -6.2627      4.577     -1.368      0.171     -15.234       2.709\n",
              "x239          -6.0034      4.934     -1.217      0.224     -15.673       3.666\n",
              "x240         -30.7060      4.847     -6.335      0.000     -40.206     -21.206\n",
              "x241          22.2228      4.401      5.049      0.000      13.597      30.849\n",
              "x242         -22.3243      4.618     -4.835      0.000     -31.375     -13.274\n",
              "x243         -12.4331      4.491     -2.769      0.006     -21.235      -3.632\n",
              "x244          27.3110      4.360      6.264      0.000      18.765      35.857\n",
              "x245          -6.4787      4.341     -1.493      0.136     -14.986       2.029\n",
              "x246         -21.9427      4.450     -4.931      0.000     -30.664     -13.221\n",
              "x247           9.3128      4.419      2.107      0.035       0.652      17.974\n",
              "x248           6.5774      4.562      1.442      0.149      -2.364      15.519\n",
              "x249           4.9487      4.579      1.081      0.280      -4.027      13.924\n",
              "x250          10.7573      4.519      2.381      0.017       1.901      19.613\n",
              "x251          -7.7320      4.653     -1.662      0.097     -16.851       1.387\n",
              "x252           2.2697      4.672      0.486      0.627      -6.886      11.426\n",
              "x253         -17.7402      4.395     -4.036      0.000     -26.355      -9.126\n",
              "x254         -13.0215      4.603     -2.829      0.005     -22.043      -4.000\n",
              "x255          12.9845      4.649      2.793      0.005       3.872      22.097\n",
              "x256          19.2085      4.398      4.368      0.000      10.589      27.828\n",
              "x257           2.7317      4.495      0.608      0.543      -6.078      11.541\n",
              "x258           7.9003      4.490      1.760      0.078      -0.899      16.700\n",
              "x259           5.7011      4.545      1.254      0.210      -3.207      14.609\n",
              "x260          -4.1486      4.248     -0.977      0.329     -12.474       4.177\n",
              "x261         -16.4526      4.742     -3.470      0.001     -25.747      -7.158\n",
              "x262          11.9871      4.627      2.591      0.010       2.918      21.056\n",
              "x263           1.5254      4.399      0.347      0.729      -7.097      10.148\n",
              "x264           0.2642      4.337      0.061      0.951      -8.236       8.765\n",
              "x265         -25.5936      4.512     -5.672      0.000     -34.438     -16.750\n",
              "x266           7.6702      4.205      1.824      0.068      -0.571      15.911\n",
              "x267          30.2602      4.504      6.719      0.000      21.433      39.088\n",
              "x268          -6.2685      4.790     -1.309      0.191     -15.657       3.120\n",
              "x269           2.1132      4.467      0.473      0.636      -6.641      10.868\n",
              "x270           9.3568      4.493      2.083      0.037       0.551      18.163\n",
              "x271          15.7494      4.459      3.532      0.000       7.010      24.489\n",
              "x272          -8.6927      4.337     -2.004      0.045     -17.193      -0.192\n",
              "x273         -18.5104      4.516     -4.099      0.000     -27.361      -9.659\n",
              "x274           5.3801      4.035      1.333      0.182      -2.528      13.288\n",
              "x275         -16.0015      4.516     -3.543      0.000     -24.853      -7.150\n",
              "x276          18.6778      4.351      4.293      0.000      10.150      27.206\n",
              "x277          15.6310      4.440      3.521      0.000       6.929      24.333\n",
              "x278          13.6549      4.377      3.120      0.002       5.076      22.234\n",
              "x279          -7.0914      4.610     -1.538      0.124     -16.127       1.945\n",
              "x280          -7.8190      4.490     -1.741      0.082     -16.620       0.982\n",
              "x281           1.0786      4.446      0.243      0.808      -7.636       9.793\n",
              "x282         -10.2289      4.225     -2.421      0.015     -18.510      -1.948\n",
              "x283           1.0352      4.363      0.237      0.812      -7.517       9.587\n",
              "x284          10.0637      4.511      2.231      0.026       1.221      18.906\n",
              "x285           3.3167      4.454      0.745      0.457      -5.414      12.047\n",
              "x286           1.4978      4.524      0.331      0.741      -7.369      10.365\n",
              "x287          -4.2265      4.851     -0.871      0.384     -13.734       5.281\n",
              "x288          43.2315      4.073     10.614      0.000      35.248      51.215\n",
              "x289         -26.8350      4.426     -6.063      0.000     -35.510     -18.160\n",
              "x290          -2.2951      4.202     -0.546      0.585     -10.531       5.941\n",
              "x291         -25.5158      4.127     -6.183      0.000     -33.604     -17.428\n",
              "x292          19.5931      4.270      4.589      0.000      11.225      27.961\n",
              "x293           7.2679      4.529      1.605      0.109      -1.610      16.145\n",
              "x294         -20.2850      4.322     -4.693      0.000     -28.756     -11.814\n",
              "x295           8.3696      4.497      1.861      0.063      -0.443      17.183\n",
              "x296          13.2146      4.179      3.162      0.002       5.024      21.405\n",
              "x297           7.3774      4.375      1.686      0.092      -1.197      15.952\n",
              "x298          18.2555      4.308      4.238      0.000       9.812      26.699\n",
              "x299         -25.9052      4.640     -5.584      0.000     -34.999     -16.812\n",
              "x300         -30.5244      4.701     -6.493      0.000     -39.738     -21.310\n",
              "==============================================================================\n",
              "\"\"\""
            ]
          },
          "execution_count": 82,
          "metadata": {},
          "output_type": "execute_result"
        }
      ],
      "source": [
        "## Initialise Logistic Regression model\n",
        "logreg = LogisticRegression()\n",
        "## Train Logistic Regression model on training data\n",
        "\n",
        "import statsmodels.api as sm\n",
        "\n",
        "logml = sm.GLM(y_train,(sm.add_constant(train_vectors)),family =sm.families.Binomial())\n",
        "## Predict on validation data\n",
        "logml = logml.fit()\n",
        "logml.summary()"
      ]
    },
    {
      "cell_type": "markdown",
      "metadata": {
        "id": "BvNKC8ob8IAL"
      },
      "source": [
        "##### 7.1.2 Calculate and print accuracy, precision, recall and f1-score on validation data <font color = red>[5 marks]</font>"
      ]
    },
    {
      "cell_type": "code",
      "execution_count": 83,
      "metadata": {
        "id": "BEyQcSoWo4xs"
      },
      "outputs": [],
      "source": [
        "## Calculate and print accuracy, precision, recall, f1-score on predicted labels\n",
        "\n",
        "from sklearn.metrics import accuracy_score, precision_score, recall_score, f1_score\n",
        "X_test_with_constant = sm.add_constant(test_vectors)\n",
        "\n",
        "# Make predictions\n",
        "y_pred_probs = logml.predict(X_test_with_constant)\n",
        "y_pred_log = (y_pred_probs > 0.5).astype(int)\n"
      ]
    },
    {
      "cell_type": "code",
      "execution_count": 94,
      "metadata": {},
      "outputs": [
        {
          "name": "stdout",
          "output_type": "stream",
          "text": [
            "0.974456077819856\n"
          ]
        }
      ],
      "source": [
        "accuracy_log = accuracy_score(y_test, y_pred_log)\n",
        "print(accuracy_log)"
      ]
    },
    {
      "cell_type": "code",
      "execution_count": 84,
      "metadata": {
        "id": "T6P4MA_AC216"
      },
      "outputs": [
        {
          "name": "stdout",
          "output_type": "stream",
          "text": [
            "              precision    recall  f1-score   support\n",
            "\n",
            "           0       0.98      0.97      0.98      7012\n",
            "           1       0.97      0.98      0.97      6455\n",
            "\n",
            "    accuracy                           0.97     13467\n",
            "   macro avg       0.97      0.97      0.97     13467\n",
            "weighted avg       0.97      0.97      0.97     13467\n",
            "\n"
          ]
        }
      ],
      "source": [
        "# Classification Report\n",
        "log_Scrore = classification_report(y_test, y_pred_log)\n",
        "print(log_Scrore)"
      ]
    },
    {
      "cell_type": "markdown",
      "metadata": {
        "id": "TRGPMQZd8r8B"
      },
      "source": [
        "### **7.2** Build Decision Tree Model <font color = red>[15 marks]</font>"
      ]
    },
    {
      "cell_type": "markdown",
      "metadata": {
        "id": "Rgv4vqrt81sH"
      },
      "source": [
        "##### 7.2.1 Create and train a decision tree model on training data <font color = red>[10 marks]</font>"
      ]
    },
    {
      "cell_type": "code",
      "execution_count": 85,
      "metadata": {
        "id": "i-mTab94xpq4"
      },
      "outputs": [
        {
          "name": "stdout",
          "output_type": "stream",
          "text": [
            "Fitting 4 folds for each of 30 candidates, totalling 120 fits\n"
          ]
        }
      ],
      "source": [
        "## Initialise Decision Tree model\n",
        "from sklearn.tree import DecisionTreeClassifier\n",
        "from sklearn.model_selection import GridSearchCV\n",
        "\n",
        "\n",
        "dt = DecisionTreeClassifier(random_state=42)\n",
        "params = {\n",
        "    \"max_depth\": [2,3,5,10,20],\n",
        "    \"min_samples_leaf\": [5,10,20,50,100,500]\n",
        "}\n",
        "grid_search = GridSearchCV(estimator=dt,\n",
        "                           param_grid=params,\n",
        "                           cv=4,\n",
        "                           n_jobs=-1, verbose=1, scoring=\"accuracy\")\n",
        "## Train Decision Tree model on training data\n",
        "\n",
        "grid_search.fit(train_vectors, y_train)\n",
        "best_dt = grid_search.best_estimator_"
      ]
    },
    {
      "cell_type": "code",
      "execution_count": 86,
      "metadata": {},
      "outputs": [],
      "source": [
        "## Predict on validation data\n",
        "y_train_pred = best_dt.predict(train_vectors)\n",
        "y_pred_dt = best_dt.predict(test_vectors)"
      ]
    },
    {
      "cell_type": "markdown",
      "metadata": {
        "id": "vZ_Vj5fs6w9I"
      },
      "source": [
        "##### 7.2.2 Calculate and print accuracy, precision, recall and f1-score on validation data <font color = red>[5 marks]</font>"
      ]
    },
    {
      "cell_type": "code",
      "execution_count": 95,
      "metadata": {
        "id": "15iYiCQhp7jo"
      },
      "outputs": [],
      "source": [
        "## Calculate and print accuracy, precision, recall, f1-score on predicted labels\n",
        "from sklearn.metrics import classification_report\n",
        "dt_Scrore_dt = classification_report(y_test, y_pred_dt)\n",
        "accuracy_dt = accuracy_score(y_test, y_pred_dt)"
      ]
    },
    {
      "cell_type": "code",
      "execution_count": 96,
      "metadata": {
        "id": "DohNckxxxpq4"
      },
      "outputs": [
        {
          "name": "stdout",
          "output_type": "stream",
          "text": [
            "              precision    recall  f1-score   support\n",
            "\n",
            "           0       0.89      0.90      0.90      7012\n",
            "           1       0.89      0.88      0.89      6455\n",
            "\n",
            "    accuracy                           0.89     13467\n",
            "   macro avg       0.89      0.89      0.89     13467\n",
            "weighted avg       0.89      0.89      0.89     13467\n",
            "\n",
            "0.8921066310239846\n"
          ]
        }
      ],
      "source": [
        "# Classification Report\n",
        "print(dt_Scrore_dt)\n",
        "print(accuracy_dt)"
      ]
    },
    {
      "cell_type": "markdown",
      "metadata": {
        "id": "xnB_P9kd9EdC"
      },
      "source": [
        "### **7.3** Build Random Forest Model <font color = red>[15 marks]</font>\n"
      ]
    },
    {
      "cell_type": "markdown",
      "metadata": {
        "id": "DhW0nyU29In9"
      },
      "source": [
        "##### 7.3.1 Create and train a random forest model on training data <font color = red>[10 marks]</font>"
      ]
    },
    {
      "cell_type": "code",
      "execution_count": 89,
      "metadata": {
        "id": "uIvY9-oPxpq4"
      },
      "outputs": [
        {
          "name": "stdout",
          "output_type": "stream",
          "text": [
            "Fitting 4 folds for each of 120 candidates, totalling 480 fits\n"
          ]
        },
        {
          "data": {
            "text/html": [
              "<style>#sk-container-id-1 {\n",
              "  /* Definition of color scheme common for light and dark mode */\n",
              "  --sklearn-color-text: #000;\n",
              "  --sklearn-color-text-muted: #666;\n",
              "  --sklearn-color-line: gray;\n",
              "  /* Definition of color scheme for unfitted estimators */\n",
              "  --sklearn-color-unfitted-level-0: #fff5e6;\n",
              "  --sklearn-color-unfitted-level-1: #f6e4d2;\n",
              "  --sklearn-color-unfitted-level-2: #ffe0b3;\n",
              "  --sklearn-color-unfitted-level-3: chocolate;\n",
              "  /* Definition of color scheme for fitted estimators */\n",
              "  --sklearn-color-fitted-level-0: #f0f8ff;\n",
              "  --sklearn-color-fitted-level-1: #d4ebff;\n",
              "  --sklearn-color-fitted-level-2: #b3dbfd;\n",
              "  --sklearn-color-fitted-level-3: cornflowerblue;\n",
              "\n",
              "  /* Specific color for light theme */\n",
              "  --sklearn-color-text-on-default-background: var(--sg-text-color, var(--theme-code-foreground, var(--jp-content-font-color1, black)));\n",
              "  --sklearn-color-background: var(--sg-background-color, var(--theme-background, var(--jp-layout-color0, white)));\n",
              "  --sklearn-color-border-box: var(--sg-text-color, var(--theme-code-foreground, var(--jp-content-font-color1, black)));\n",
              "  --sklearn-color-icon: #696969;\n",
              "\n",
              "  @media (prefers-color-scheme: dark) {\n",
              "    /* Redefinition of color scheme for dark theme */\n",
              "    --sklearn-color-text-on-default-background: var(--sg-text-color, var(--theme-code-foreground, var(--jp-content-font-color1, white)));\n",
              "    --sklearn-color-background: var(--sg-background-color, var(--theme-background, var(--jp-layout-color0, #111)));\n",
              "    --sklearn-color-border-box: var(--sg-text-color, var(--theme-code-foreground, var(--jp-content-font-color1, white)));\n",
              "    --sklearn-color-icon: #878787;\n",
              "  }\n",
              "}\n",
              "\n",
              "#sk-container-id-1 {\n",
              "  color: var(--sklearn-color-text);\n",
              "}\n",
              "\n",
              "#sk-container-id-1 pre {\n",
              "  padding: 0;\n",
              "}\n",
              "\n",
              "#sk-container-id-1 input.sk-hidden--visually {\n",
              "  border: 0;\n",
              "  clip: rect(1px 1px 1px 1px);\n",
              "  clip: rect(1px, 1px, 1px, 1px);\n",
              "  height: 1px;\n",
              "  margin: -1px;\n",
              "  overflow: hidden;\n",
              "  padding: 0;\n",
              "  position: absolute;\n",
              "  width: 1px;\n",
              "}\n",
              "\n",
              "#sk-container-id-1 div.sk-dashed-wrapped {\n",
              "  border: 1px dashed var(--sklearn-color-line);\n",
              "  margin: 0 0.4em 0.5em 0.4em;\n",
              "  box-sizing: border-box;\n",
              "  padding-bottom: 0.4em;\n",
              "  background-color: var(--sklearn-color-background);\n",
              "}\n",
              "\n",
              "#sk-container-id-1 div.sk-container {\n",
              "  /* jupyter's `normalize.less` sets `[hidden] { display: none; }`\n",
              "     but bootstrap.min.css set `[hidden] { display: none !important; }`\n",
              "     so we also need the `!important` here to be able to override the\n",
              "     default hidden behavior on the sphinx rendered scikit-learn.org.\n",
              "     See: https://github.com/scikit-learn/scikit-learn/issues/21755 */\n",
              "  display: inline-block !important;\n",
              "  position: relative;\n",
              "}\n",
              "\n",
              "#sk-container-id-1 div.sk-text-repr-fallback {\n",
              "  display: none;\n",
              "}\n",
              "\n",
              "div.sk-parallel-item,\n",
              "div.sk-serial,\n",
              "div.sk-item {\n",
              "  /* draw centered vertical line to link estimators */\n",
              "  background-image: linear-gradient(var(--sklearn-color-text-on-default-background), var(--sklearn-color-text-on-default-background));\n",
              "  background-size: 2px 100%;\n",
              "  background-repeat: no-repeat;\n",
              "  background-position: center center;\n",
              "}\n",
              "\n",
              "/* Parallel-specific style estimator block */\n",
              "\n",
              "#sk-container-id-1 div.sk-parallel-item::after {\n",
              "  content: \"\";\n",
              "  width: 100%;\n",
              "  border-bottom: 2px solid var(--sklearn-color-text-on-default-background);\n",
              "  flex-grow: 1;\n",
              "}\n",
              "\n",
              "#sk-container-id-1 div.sk-parallel {\n",
              "  display: flex;\n",
              "  align-items: stretch;\n",
              "  justify-content: center;\n",
              "  background-color: var(--sklearn-color-background);\n",
              "  position: relative;\n",
              "}\n",
              "\n",
              "#sk-container-id-1 div.sk-parallel-item {\n",
              "  display: flex;\n",
              "  flex-direction: column;\n",
              "}\n",
              "\n",
              "#sk-container-id-1 div.sk-parallel-item:first-child::after {\n",
              "  align-self: flex-end;\n",
              "  width: 50%;\n",
              "}\n",
              "\n",
              "#sk-container-id-1 div.sk-parallel-item:last-child::after {\n",
              "  align-self: flex-start;\n",
              "  width: 50%;\n",
              "}\n",
              "\n",
              "#sk-container-id-1 div.sk-parallel-item:only-child::after {\n",
              "  width: 0;\n",
              "}\n",
              "\n",
              "/* Serial-specific style estimator block */\n",
              "\n",
              "#sk-container-id-1 div.sk-serial {\n",
              "  display: flex;\n",
              "  flex-direction: column;\n",
              "  align-items: center;\n",
              "  background-color: var(--sklearn-color-background);\n",
              "  padding-right: 1em;\n",
              "  padding-left: 1em;\n",
              "}\n",
              "\n",
              "\n",
              "/* Toggleable style: style used for estimator/Pipeline/ColumnTransformer box that is\n",
              "clickable and can be expanded/collapsed.\n",
              "- Pipeline and ColumnTransformer use this feature and define the default style\n",
              "- Estimators will overwrite some part of the style using the `sk-estimator` class\n",
              "*/\n",
              "\n",
              "/* Pipeline and ColumnTransformer style (default) */\n",
              "\n",
              "#sk-container-id-1 div.sk-toggleable {\n",
              "  /* Default theme specific background. It is overwritten whether we have a\n",
              "  specific estimator or a Pipeline/ColumnTransformer */\n",
              "  background-color: var(--sklearn-color-background);\n",
              "}\n",
              "\n",
              "/* Toggleable label */\n",
              "#sk-container-id-1 label.sk-toggleable__label {\n",
              "  cursor: pointer;\n",
              "  display: flex;\n",
              "  width: 100%;\n",
              "  margin-bottom: 0;\n",
              "  padding: 0.5em;\n",
              "  box-sizing: border-box;\n",
              "  text-align: center;\n",
              "  align-items: start;\n",
              "  justify-content: space-between;\n",
              "  gap: 0.5em;\n",
              "}\n",
              "\n",
              "#sk-container-id-1 label.sk-toggleable__label .caption {\n",
              "  font-size: 0.6rem;\n",
              "  font-weight: lighter;\n",
              "  color: var(--sklearn-color-text-muted);\n",
              "}\n",
              "\n",
              "#sk-container-id-1 label.sk-toggleable__label-arrow:before {\n",
              "  /* Arrow on the left of the label */\n",
              "  content: \"▸\";\n",
              "  float: left;\n",
              "  margin-right: 0.25em;\n",
              "  color: var(--sklearn-color-icon);\n",
              "}\n",
              "\n",
              "#sk-container-id-1 label.sk-toggleable__label-arrow:hover:before {\n",
              "  color: var(--sklearn-color-text);\n",
              "}\n",
              "\n",
              "/* Toggleable content - dropdown */\n",
              "\n",
              "#sk-container-id-1 div.sk-toggleable__content {\n",
              "  max-height: 0;\n",
              "  max-width: 0;\n",
              "  overflow: hidden;\n",
              "  text-align: left;\n",
              "  /* unfitted */\n",
              "  background-color: var(--sklearn-color-unfitted-level-0);\n",
              "}\n",
              "\n",
              "#sk-container-id-1 div.sk-toggleable__content.fitted {\n",
              "  /* fitted */\n",
              "  background-color: var(--sklearn-color-fitted-level-0);\n",
              "}\n",
              "\n",
              "#sk-container-id-1 div.sk-toggleable__content pre {\n",
              "  margin: 0.2em;\n",
              "  border-radius: 0.25em;\n",
              "  color: var(--sklearn-color-text);\n",
              "  /* unfitted */\n",
              "  background-color: var(--sklearn-color-unfitted-level-0);\n",
              "}\n",
              "\n",
              "#sk-container-id-1 div.sk-toggleable__content.fitted pre {\n",
              "  /* unfitted */\n",
              "  background-color: var(--sklearn-color-fitted-level-0);\n",
              "}\n",
              "\n",
              "#sk-container-id-1 input.sk-toggleable__control:checked~div.sk-toggleable__content {\n",
              "  /* Expand drop-down */\n",
              "  max-height: 200px;\n",
              "  max-width: 100%;\n",
              "  overflow: auto;\n",
              "}\n",
              "\n",
              "#sk-container-id-1 input.sk-toggleable__control:checked~label.sk-toggleable__label-arrow:before {\n",
              "  content: \"▾\";\n",
              "}\n",
              "\n",
              "/* Pipeline/ColumnTransformer-specific style */\n",
              "\n",
              "#sk-container-id-1 div.sk-label input.sk-toggleable__control:checked~label.sk-toggleable__label {\n",
              "  color: var(--sklearn-color-text);\n",
              "  background-color: var(--sklearn-color-unfitted-level-2);\n",
              "}\n",
              "\n",
              "#sk-container-id-1 div.sk-label.fitted input.sk-toggleable__control:checked~label.sk-toggleable__label {\n",
              "  background-color: var(--sklearn-color-fitted-level-2);\n",
              "}\n",
              "\n",
              "/* Estimator-specific style */\n",
              "\n",
              "/* Colorize estimator box */\n",
              "#sk-container-id-1 div.sk-estimator input.sk-toggleable__control:checked~label.sk-toggleable__label {\n",
              "  /* unfitted */\n",
              "  background-color: var(--sklearn-color-unfitted-level-2);\n",
              "}\n",
              "\n",
              "#sk-container-id-1 div.sk-estimator.fitted input.sk-toggleable__control:checked~label.sk-toggleable__label {\n",
              "  /* fitted */\n",
              "  background-color: var(--sklearn-color-fitted-level-2);\n",
              "}\n",
              "\n",
              "#sk-container-id-1 div.sk-label label.sk-toggleable__label,\n",
              "#sk-container-id-1 div.sk-label label {\n",
              "  /* The background is the default theme color */\n",
              "  color: var(--sklearn-color-text-on-default-background);\n",
              "}\n",
              "\n",
              "/* On hover, darken the color of the background */\n",
              "#sk-container-id-1 div.sk-label:hover label.sk-toggleable__label {\n",
              "  color: var(--sklearn-color-text);\n",
              "  background-color: var(--sklearn-color-unfitted-level-2);\n",
              "}\n",
              "\n",
              "/* Label box, darken color on hover, fitted */\n",
              "#sk-container-id-1 div.sk-label.fitted:hover label.sk-toggleable__label.fitted {\n",
              "  color: var(--sklearn-color-text);\n",
              "  background-color: var(--sklearn-color-fitted-level-2);\n",
              "}\n",
              "\n",
              "/* Estimator label */\n",
              "\n",
              "#sk-container-id-1 div.sk-label label {\n",
              "  font-family: monospace;\n",
              "  font-weight: bold;\n",
              "  display: inline-block;\n",
              "  line-height: 1.2em;\n",
              "}\n",
              "\n",
              "#sk-container-id-1 div.sk-label-container {\n",
              "  text-align: center;\n",
              "}\n",
              "\n",
              "/* Estimator-specific */\n",
              "#sk-container-id-1 div.sk-estimator {\n",
              "  font-family: monospace;\n",
              "  border: 1px dotted var(--sklearn-color-border-box);\n",
              "  border-radius: 0.25em;\n",
              "  box-sizing: border-box;\n",
              "  margin-bottom: 0.5em;\n",
              "  /* unfitted */\n",
              "  background-color: var(--sklearn-color-unfitted-level-0);\n",
              "}\n",
              "\n",
              "#sk-container-id-1 div.sk-estimator.fitted {\n",
              "  /* fitted */\n",
              "  background-color: var(--sklearn-color-fitted-level-0);\n",
              "}\n",
              "\n",
              "/* on hover */\n",
              "#sk-container-id-1 div.sk-estimator:hover {\n",
              "  /* unfitted */\n",
              "  background-color: var(--sklearn-color-unfitted-level-2);\n",
              "}\n",
              "\n",
              "#sk-container-id-1 div.sk-estimator.fitted:hover {\n",
              "  /* fitted */\n",
              "  background-color: var(--sklearn-color-fitted-level-2);\n",
              "}\n",
              "\n",
              "/* Specification for estimator info (e.g. \"i\" and \"?\") */\n",
              "\n",
              "/* Common style for \"i\" and \"?\" */\n",
              "\n",
              ".sk-estimator-doc-link,\n",
              "a:link.sk-estimator-doc-link,\n",
              "a:visited.sk-estimator-doc-link {\n",
              "  float: right;\n",
              "  font-size: smaller;\n",
              "  line-height: 1em;\n",
              "  font-family: monospace;\n",
              "  background-color: var(--sklearn-color-background);\n",
              "  border-radius: 1em;\n",
              "  height: 1em;\n",
              "  width: 1em;\n",
              "  text-decoration: none !important;\n",
              "  margin-left: 0.5em;\n",
              "  text-align: center;\n",
              "  /* unfitted */\n",
              "  border: var(--sklearn-color-unfitted-level-1) 1pt solid;\n",
              "  color: var(--sklearn-color-unfitted-level-1);\n",
              "}\n",
              "\n",
              ".sk-estimator-doc-link.fitted,\n",
              "a:link.sk-estimator-doc-link.fitted,\n",
              "a:visited.sk-estimator-doc-link.fitted {\n",
              "  /* fitted */\n",
              "  border: var(--sklearn-color-fitted-level-1) 1pt solid;\n",
              "  color: var(--sklearn-color-fitted-level-1);\n",
              "}\n",
              "\n",
              "/* On hover */\n",
              "div.sk-estimator:hover .sk-estimator-doc-link:hover,\n",
              ".sk-estimator-doc-link:hover,\n",
              "div.sk-label-container:hover .sk-estimator-doc-link:hover,\n",
              ".sk-estimator-doc-link:hover {\n",
              "  /* unfitted */\n",
              "  background-color: var(--sklearn-color-unfitted-level-3);\n",
              "  color: var(--sklearn-color-background);\n",
              "  text-decoration: none;\n",
              "}\n",
              "\n",
              "div.sk-estimator.fitted:hover .sk-estimator-doc-link.fitted:hover,\n",
              ".sk-estimator-doc-link.fitted:hover,\n",
              "div.sk-label-container:hover .sk-estimator-doc-link.fitted:hover,\n",
              ".sk-estimator-doc-link.fitted:hover {\n",
              "  /* fitted */\n",
              "  background-color: var(--sklearn-color-fitted-level-3);\n",
              "  color: var(--sklearn-color-background);\n",
              "  text-decoration: none;\n",
              "}\n",
              "\n",
              "/* Span, style for the box shown on hovering the info icon */\n",
              ".sk-estimator-doc-link span {\n",
              "  display: none;\n",
              "  z-index: 9999;\n",
              "  position: relative;\n",
              "  font-weight: normal;\n",
              "  right: .2ex;\n",
              "  padding: .5ex;\n",
              "  margin: .5ex;\n",
              "  width: min-content;\n",
              "  min-width: 20ex;\n",
              "  max-width: 50ex;\n",
              "  color: var(--sklearn-color-text);\n",
              "  box-shadow: 2pt 2pt 4pt #999;\n",
              "  /* unfitted */\n",
              "  background: var(--sklearn-color-unfitted-level-0);\n",
              "  border: .5pt solid var(--sklearn-color-unfitted-level-3);\n",
              "}\n",
              "\n",
              ".sk-estimator-doc-link.fitted span {\n",
              "  /* fitted */\n",
              "  background: var(--sklearn-color-fitted-level-0);\n",
              "  border: var(--sklearn-color-fitted-level-3);\n",
              "}\n",
              "\n",
              ".sk-estimator-doc-link:hover span {\n",
              "  display: block;\n",
              "}\n",
              "\n",
              "/* \"?\"-specific style due to the `<a>` HTML tag */\n",
              "\n",
              "#sk-container-id-1 a.estimator_doc_link {\n",
              "  float: right;\n",
              "  font-size: 1rem;\n",
              "  line-height: 1em;\n",
              "  font-family: monospace;\n",
              "  background-color: var(--sklearn-color-background);\n",
              "  border-radius: 1rem;\n",
              "  height: 1rem;\n",
              "  width: 1rem;\n",
              "  text-decoration: none;\n",
              "  /* unfitted */\n",
              "  color: var(--sklearn-color-unfitted-level-1);\n",
              "  border: var(--sklearn-color-unfitted-level-1) 1pt solid;\n",
              "}\n",
              "\n",
              "#sk-container-id-1 a.estimator_doc_link.fitted {\n",
              "  /* fitted */\n",
              "  border: var(--sklearn-color-fitted-level-1) 1pt solid;\n",
              "  color: var(--sklearn-color-fitted-level-1);\n",
              "}\n",
              "\n",
              "/* On hover */\n",
              "#sk-container-id-1 a.estimator_doc_link:hover {\n",
              "  /* unfitted */\n",
              "  background-color: var(--sklearn-color-unfitted-level-3);\n",
              "  color: var(--sklearn-color-background);\n",
              "  text-decoration: none;\n",
              "}\n",
              "\n",
              "#sk-container-id-1 a.estimator_doc_link.fitted:hover {\n",
              "  /* fitted */\n",
              "  background-color: var(--sklearn-color-fitted-level-3);\n",
              "}\n",
              "</style><div id=\"sk-container-id-1\" class=\"sk-top-container\"><div class=\"sk-text-repr-fallback\"><pre>RandomForestClassifier(max_depth=20, max_features=5, min_samples_leaf=5,\n",
              "                       oob_score=True, random_state=100)</pre><b>In a Jupyter environment, please rerun this cell to show the HTML representation or trust the notebook. <br />On GitHub, the HTML representation is unable to render, please try loading this page with nbviewer.org.</b></div><div class=\"sk-container\" hidden><div class=\"sk-item\"><div class=\"sk-estimator fitted sk-toggleable\"><input class=\"sk-toggleable__control sk-hidden--visually\" id=\"sk-estimator-id-1\" type=\"checkbox\" checked><label for=\"sk-estimator-id-1\" class=\"sk-toggleable__label fitted sk-toggleable__label-arrow\"><div><div>RandomForestClassifier</div></div><div><a class=\"sk-estimator-doc-link fitted\" rel=\"noreferrer\" target=\"_blank\" href=\"https://scikit-learn.org/1.6/modules/generated/sklearn.ensemble.RandomForestClassifier.html\">?<span>Documentation for RandomForestClassifier</span></a><span class=\"sk-estimator-doc-link fitted\">i<span>Fitted</span></span></div></label><div class=\"sk-toggleable__content fitted\"><pre>RandomForestClassifier(max_depth=20, max_features=5, min_samples_leaf=5,\n",
              "                       oob_score=True, random_state=100)</pre></div> </div></div></div></div>"
            ],
            "text/plain": [
              "RandomForestClassifier(max_depth=20, max_features=5, min_samples_leaf=5,\n",
              "                       oob_score=True, random_state=100)"
            ]
          },
          "execution_count": 89,
          "metadata": {},
          "output_type": "execute_result"
        }
      ],
      "source": [
        "## Initialise Random Forest model\n",
        "from sklearn.ensemble import RandomForestClassifier\n",
        "rf = RandomForestClassifier(n_estimators=10, max_depth=4, max_features=5, random_state=100, oob_score=True)\n",
        "\n",
        "params = {\n",
        "    'max_depth': [2,3,5,10,20],\n",
        "    'min_samples_leaf': [5,10,20,50,100,200],\n",
        "    'n_estimators': [10, 25, 50, 100]\n",
        "}\n",
        "\n",
        "grid_search = GridSearchCV(estimator=rf,\n",
        "                           param_grid=params,\n",
        "                           cv = 4,\n",
        "                           n_jobs=-1, verbose=1, scoring=\"accuracy\")\n",
        "## Train Random Forest model on training data\n",
        "grid_search.fit(train_vectors, y_train)\n",
        "rf_best = grid_search.best_estimator_\n",
        "rf_best\n",
        "## Predict on validation data\n"
      ]
    },
    {
      "cell_type": "code",
      "execution_count": 90,
      "metadata": {},
      "outputs": [],
      "source": [
        "y_train_pred_rf = rf_best.predict(train_vectors)\n",
        "y_pred_rf = rf_best.predict(test_vectors)\n"
      ]
    },
    {
      "cell_type": "markdown",
      "metadata": {
        "id": "RRBxZieM7eea"
      },
      "source": [
        " ##### 7.3.2 Calculate and print accuracy, precision, recall and f1-score on validation data <font color = red>[5 marks]</font>"
      ]
    },
    {
      "cell_type": "code",
      "execution_count": 91,
      "metadata": {
        "id": "VzNK3jcCq01-"
      },
      "outputs": [],
      "source": [
        "## Calculate and print accuracy, precision, recall, f1-score on predicted labels\n",
        "\n",
        "dt_Scrore_dt = classification_report(y_test, y_pred_rf)"
      ]
    },
    {
      "cell_type": "code",
      "execution_count": 92,
      "metadata": {
        "id": "VIBCo_kFxpq4"
      },
      "outputs": [
        {
          "name": "stdout",
          "output_type": "stream",
          "text": [
            "              precision    recall  f1-score   support\n",
            "\n",
            "           0       0.95      0.95      0.95      7012\n",
            "           1       0.94      0.94      0.94      6455\n",
            "\n",
            "    accuracy                           0.95     13467\n",
            "   macro avg       0.94      0.95      0.94     13467\n",
            "weighted avg       0.95      0.95      0.95     13467\n",
            "\n"
          ]
        }
      ],
      "source": [
        "# Classification Report\n",
        "print(classification_report(y_test, y_pred_rf))"
      ]
    },
    {
      "cell_type": "markdown",
      "metadata": {},
      "source": [
        "the best Module to choose from the above 3 is Logistic regression as it gives a accuracy of 0.97 and the precionj is also good which will help in giving accurate results "
      ]
    },
    {
      "cell_type": "markdown",
      "metadata": {
        "id": "Lnj7RUDDSEJX"
      },
      "source": [
        "## **8.** Conclusion <font color = red>[5 marks]</font>\n",
        "\n",
        "Summarise your findings by discussing patterns observed in true and fake news and how semantic classification addressed the problem. Highlight the best model chosen, the evaluation metric prioritised for the decision, and assess the approach and its impact."
      ]
    },
    {
      "cell_type": "markdown",
      "metadata": {},
      "source": [
        "the best Module to choose from the above 3 is Logistic regression as it gives a accuracy of 0.97 and the precionj is also good which will help in giving accurate results \n",
        "\n",
        "The semantic classification helped in converting the meaning of the words and understanding the news is fake or true news and the vectorization helped in converting text into vectors ie numnericals "
      ]
    }
  ],
  "metadata": {
    "colab": {
      "provenance": []
    },
    "kernelspec": {
      "display_name": "project",
      "language": "python",
      "name": "python3"
    },
    "language_info": {
      "codemirror_mode": {
        "name": "ipython",
        "version": 3
      },
      "file_extension": ".py",
      "mimetype": "text/x-python",
      "name": "python",
      "nbconvert_exporter": "python",
      "pygments_lexer": "ipython3",
      "version": "3.9.10"
    }
  },
  "nbformat": 4,
  "nbformat_minor": 0
}
